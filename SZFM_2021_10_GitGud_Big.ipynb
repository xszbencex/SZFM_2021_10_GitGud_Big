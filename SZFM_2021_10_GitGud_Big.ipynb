{
  "nbformat": 4,
  "nbformat_minor": 0,
  "metadata": {
    "colab": {
      "name": " SZFM_2021_10_GitGud_Big.ipynb",
      "provenance": [],
      "authorship_tag": "ABX9TyPiu44HyTCs7Tgp6seIJ0rX",
      "include_colab_link": true
    },
    "kernelspec": {
      "name": "python3",
      "display_name": "Python 3"
    },
    "language_info": {
      "name": "python"
    }
  },
  "cells": [
    {
      "cell_type": "markdown",
      "metadata": {
        "id": "view-in-github",
        "colab_type": "text"
      },
      "source": [
        "<a href=\"https://colab.research.google.com/github/xszbencex/SZFM_2021_10_GitGud_Big/blob/main/SZFM_2021_10_GitGud_Big.ipynb\" target=\"_parent\"><img src=\"https://colab.research.google.com/assets/colab-badge.svg\" alt=\"Open In Colab\"/></a>"
      ]
    },
    {
      "cell_type": "markdown",
      "metadata": {
        "id": "NELP5Ko6HCWM"
      },
      "source": [
        "---\n",
        "### **COVID19 prediction and forecasting using machine learning**\n",
        "---"
      ]
    }
  ]
}