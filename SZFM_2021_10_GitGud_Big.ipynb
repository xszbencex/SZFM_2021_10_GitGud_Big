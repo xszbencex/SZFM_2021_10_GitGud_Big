{
  "nbformat": 4,
  "nbformat_minor": 0,
  "metadata": {
    "colab": {
      "name": " SZFM_2021_10_GitGud_Big.ipynb",
      "private_outputs": true,
      "provenance": [],
      "collapsed_sections": [
        "oqpJA3LzaXXM",
        "Qq7V3OUZZoy2"
      ],
      "include_colab_link": true
    },
    "kernelspec": {
      "name": "python3",
      "display_name": "Python 3"
    },
    "language_info": {
      "name": "python"
    },
    "accelerator": "GPU"
  },
  "cells": [
    {
      "cell_type": "markdown",
      "metadata": {
        "id": "view-in-github",
        "colab_type": "text"
      },
      "source": [
        "<a href=\"https://colab.research.google.com/github/xszbencex/SZFM_2021_10_GitGud_Big/blob/main/SZFM_2021_10_GitGud_Big.ipynb\" target=\"_parent\"><img src=\"https://colab.research.google.com/assets/colab-badge.svg\" alt=\"Open In Colab\"/></a>"
      ]
    },
    {
      "cell_type": "markdown",
      "metadata": {
        "id": "NELP5Ko6HCWM"
      },
      "source": [
        "---\n",
        "# **COVID19 prediction and forecasting using machine learning**\n",
        "---"
      ]
    },
    {
      "cell_type": "markdown",
      "metadata": {
        "id": "hx12PC6kgvek"
      },
      "source": [
        "### **Import all needed packages/libraries**"
      ]
    },
    {
      "cell_type": "code",
      "metadata": {
        "id": "5m9geH0Hyru2"
      },
      "source": [
        "import pandas as pd \n",
        "import matplotlib.pyplot as plt \n",
        "import seaborn as sns\n",
        "import numpy as np\n",
        "import datetime as dt\n",
        "\n",
        "from datetime import timedelta \n",
        "from sklearn.linear_model import LinearRegression \n",
        "from sklearn.svm import SVR \n",
        "from statsmodels.tsa.api import Holt"
      ],
      "execution_count": null,
      "outputs": []
    },
    {
      "cell_type": "markdown",
      "metadata": {
        "id": "oqpJA3LzaXXM"
      },
      "source": [
        "### **Import dataset**"
      ]
    },
    {
      "cell_type": "code",
      "metadata": {
        "id": "gCbwtGvwm2kF"
      },
      "source": [
        "url = 'https://raw.githubusercontent.com/xszbencex/SZFM_2021_10_GitGud_Big/main/Dataset/covid_19_data.csv'\n",
        "covid = pd.read_csv(url)"
      ],
      "execution_count": null,
      "outputs": []
    },
    {
      "cell_type": "code",
      "metadata": {
        "id": "NDkm1r_En3uI"
      },
      "source": [
        "covid.tail(20)"
      ],
      "execution_count": null,
      "outputs": []
    },
    {
      "cell_type": "code",
      "metadata": {
        "id": "9yQNV5YRn48o"
      },
      "source": [
        "covid.head(20)"
      ],
      "execution_count": null,
      "outputs": []
    },
    {
      "cell_type": "code",
      "metadata": {
        "id": "HKMGxsYtn8NP"
      },
      "source": [
        "print(\"Size/Shape of the dataset\",covid.shape)\n",
        "print(\"Checking for null values\",covid.isnull().sum())\n",
        "print(\"Checking Data-type\",covid.dtypes)"
      ],
      "execution_count": null,
      "outputs": []
    },
    {
      "cell_type": "code",
      "metadata": {
        "id": "igWlJTjJoHhn"
      },
      "source": [
        "covid.drop([\"SNo\"],1,inplace=True)"
      ],
      "execution_count": null,
      "outputs": []
    },
    {
      "cell_type": "code",
      "metadata": {
        "id": "t1rBG1ePoNLf"
      },
      "source": [
        "covid.isnull().sum()"
      ],
      "execution_count": null,
      "outputs": []
    },
    {
      "cell_type": "code",
      "metadata": {
        "id": "zc-Hz0I9oRIv"
      },
      "source": [
        "covid[\"ObservationDate\"] = pd.to_datetime(covid[\"ObservationDate\"])"
      ],
      "execution_count": null,
      "outputs": []
    },
    {
      "cell_type": "markdown",
      "metadata": {
        "id": "HM96nrI-gnxa"
      },
      "source": [
        "### **Segregating weekly rises**"
      ]
    },
    {
      "cell_type": "code",
      "metadata": {
        "id": "rlzMa0uBgvGb"
      },
      "source": [
        "datewise[\"WeekofYear\"] = datewise.index.weekofyear\n",
        "week_num = [] #weekly progress\n",
        "weekwise_confirmed = [] #weekly progress for different types of cases \n",
        "weekwise_recovered = []\n",
        "weekwise_deaths = []\n",
        "w = 1\n",
        "for i in list(datewise[\"WeekofYear\"].unique()):\n",
        "    weekwise_confirmed.append(datewise[datewise[\"WeekofYear\"]==i][\"Confirmed\"].iloc[-1])\n",
        "    weekwise_recovered.append(datewise[datewise[\"WeekofYear\"]==i][\"Recovered\"].iloc[-1])\n",
        "    weekwise_deaths.append(datewise[datewise[\"WeekofYear\"]==i][\"Deaths\"].iloc[-1])\n",
        "    week_num.append(w)\n",
        "    w=w+1\n",
        "plt.figure(figsize=(20,10))\n",
        "plt.plot(week_num,weekwise_confirmed,linewidth=2)\n",
        "plt.plot(week_num,weekwise_recovered,linewidth =2)\n",
        "plt.plot(week_num,weekwise_deaths,linewidth = 2)\n",
        "plt.xlabel(\"WeekNumber\")\n",
        "plt.ylabel(\"Number of cases\")\n",
        "plt.title(\"Weekly Progress of different types of cases\")"
      ],
      "execution_count": null,
      "outputs": []
    },
    {
      "cell_type": "markdown",
      "metadata": {
        "id": "5LP0dua3C-Xp"
      },
      "source": [
        "### **Segregating most number of Confirmed and Death Cases increases in a week**"
      ]
    },
    {
      "cell_type": "code",
      "metadata": {
        "id": "L4XF8r8iDNMN"
      },
      "source": [
        "fig,(ax1,ax2) = plt.subplots(1,2,figsize=(20,10))\n",
        "sns.barplot(x= week_num,y=pd.Series(weekwise_confirmed).diff().fillna(0),ax=ax1)\n",
        "sns.barplot(x= week_num,y=pd.Series(weekwise_deaths).diff().fillna(0),ax=ax2)\n",
        "ax1.set_xlabel(\"Week Number\")\n",
        "ax2.set_xlabel(\"Week Number\")\n",
        "ax1.set_ylabel(\"Numberof Confirmed cases\")\n",
        "ax2.set_ylabel(\"Numberof Death cases\")\n",
        "ax1.set_title(\"Weekly increase in number of Confirmed cases\")\n",
        "ax2.set_title(\"Weekly increase in number of Death Cases\")\n",
        "plt.show()"
      ],
      "execution_count": null,
      "outputs": []
    },
    {
      "cell_type": "markdown",
      "metadata": {
        "id": "QEmmU3bWLnm_"
      },
      "source": [
        "### **Segregating Average increasing number of cases**"
      ]
    },
    {
      "cell_type": "code",
      "metadata": {
        "id": "TkqQWmLwL1A1"
      },
      "source": [
        "print(\"Average increase in number of Confirmed cases everyday:\",np.round(datewise[\"Confirmed\"].diff().fillna(0).mean()))\n",
        "print(\"Average increase in number of Recovered cases everyday:\",np.round(datewise[\"Recovered\"].diff().fillna(0).mean()))\n",
        "print(\"Average increase in number of Death cases everyday:\",np.round(datewise[\"Deaths\"].diff().fillna(0).mean()))\n",
        "\n",
        "plt.figure(figsize=(20,10))\n",
        "plt.plot(datewise[\"Confirmed\"].diff().fillna(0),label=\"Daily increase in confirmed cases\",linewidth=2)\n",
        "plt.plot(datewise[\"Recovered\"].diff().fillna(0),label=\"Daily increase in recovered cases\",linewidth=2)\n",
        "plt.plot(datewise[\"Deaths\"].diff().fillna(0),label=\"Daily increase in death cases\",linewidth=2)\n",
        "plt.xlabel(\"Timestamp\")\n",
        "plt.ylabel(\"Daily increase\")\n",
        "plt.title(\"Daily increase\")\n",
        "plt.legend()\n",
        "plt.xticks(rotation=90)\n",
        "plt.show()"
      ],
      "execution_count": null,
      "outputs": []
    },
    {
      "cell_type": "markdown",
      "metadata": {
        "id": "Vx4gieH5MIlZ"
      },
      "source": [
        "### **Calculating country wise mortality rate**"
      ]
    },
    {
      "cell_type": "code",
      "metadata": {
        "id": "GU6jC0DvMMuA"
      },
      "source": [
        "countrywise= covid[covid[\"ObservationDate\"]==covid[\"ObservationDate\"].max()].groupby([\"Country/Region\"]).agg({\"Confirmed\":\"sum\",\"Recovered\":\"sum\",\"Deaths\":\"sum\"}).sort_values([\"Confirmed\"],ascending=False)\n",
        "countrywise[\"Mortality\"]=(countrywise[\"Deaths\"]/countrywise[\"Recovered\"])*100\n",
        "countrywise[\"Recovered\"]=(countrywise[\"Recovered\"]/countrywise[\"Confirmed\"])*100"
      ],
      "execution_count": null,
      "outputs": []
    },
    {
      "cell_type": "code",
      "metadata": {
        "id": "ELZtTxjUNV2e"
      },
      "source": [
        "fig,(ax1,ax2)=plt.subplots(1,2,figsize=(25,10))\n",
        "top_15confirmed = countrywise.sort_values([\"Confirmed\"],ascending=False).head(15)\n",
        "top_15deaths = countrywise.sort_values([\"Deaths\"],ascending=False).head(15)\n",
        "sns.barplot(x=top_15confirmed[\"Confirmed\"],y=top_15confirmed.index,ax=ax1)\n",
        "ax1.set_title(\"Top 15 countries as per number of confirmed cases\")\n",
        "sns.barplot(x=top_15deaths[\"Deaths\"],y=top_15deaths.index,ax=ax2)\n",
        "ax1.set_title(\"Top 15 countries as per number of death cases\")"
      ],
      "execution_count": null,
      "outputs": []
    },
    {
      "cell_type": "markdown",
      "metadata": {
        "id": "gUYDvI2DzDIo"
      },
      "source": [
        "\n",
        "\n",
        "### **Data analysis for India**\n",
        "\n"
      ]
    },
    {
      "cell_type": "code",
      "metadata": {
        "id": "0PNuXsbnzlJh"
      },
      "source": [
        "india_data = covid[covid[\"Country/Region\"]==\"India\"]\n",
        "datewise_india = india_data.groupby([\"ObservationDate\"]).agg({\"Confirmed\":\"sum\",\"Recovered\":\"sum\",\"Deaths\":\"sum\"})\n",
        "print(datewise_india.iloc[-1])\n",
        "print(\"Total Active Cases\",datewise_india[\"Confirmed\"].iloc[-1]-datewise_india[\"Recovered\"].iloc[-1]-datewise_india[\"Deaths\"].iloc[-1])\n",
        "print(\"Total Closed Cases\",datewise_india[\"Recovered\"].iloc[-1]+datewise_india[\"Deaths\"].iloc[-1])"
      ],
      "execution_count": null,
      "outputs": []
    },
    {
      "cell_type": "markdown",
      "metadata": {
        "id": "GqwJFyBvzKUT"
      },
      "source": [
        "### **Data analysis for US**"
      ]
    },
    {
      "cell_type": "code",
      "metadata": {
        "id": "70Tr3ip1zmpX"
      },
      "source": [
        "\n",
        "us_data = covid[covid[\"Country/Region\"]==\"US\"]\n",
        "datewise_us = us_data.groupby([\"ObservationDate\"]).agg({\"Confirmed\":\"sum\",\"Recovered\":\"sum\",\"Deaths\":\"sum\"})\n",
        "print(datewise_us.iloc[-1])\n",
        "print(\"Total Active Cases\",datewise_us[\"Confirmed\"].iloc[-1]-datewise_us[\"Recovered\"].iloc[-1]-datewise_us[\"Deaths\"].iloc[-1])\n",
        "print(\"Total Closed Cases\",datewise_us[\"Recovered\"].iloc[-1]+datewise_us[\"Deaths\"].iloc[-1])"
      ],
      "execution_count": null,
      "outputs": []
    },
    {
      "cell_type": "markdown",
      "metadata": {
        "id": "Lbsd5GkU2I8I"
      },
      "source": [
        " ### **Segregating weekly rises for India**\n",
        "\n"
      ]
    },
    {
      "cell_type": "code",
      "metadata": {
        "id": "0qnot1d4zoAQ"
      },
      "source": [
        "datewise_india[\"WeekofYear\"] = datewise_india.index.weekofyear\n",
        "week_num_india = []\n",
        "india_weekwise_confirmed = []\n",
        "india_weekwise_recovered = []\n",
        "india_weekwise_deaths = []\n",
        "w = 1\n",
        "for i in list(datewise_india[\"WeekofYear\"].unique()):\n",
        "    india_weekwise_confirmed.append(datewise_india[datewise_india[\"WeekofYear\"]==i][\"Confirmed\"].iloc[-1])\n",
        "    india_weekwise_recovered.append(datewise_india[datewise_india[\"WeekofYear\"]==i][\"Recovered\"].iloc[-1])\n",
        "    india_weekwise_deaths.append(datewise_india[datewise_india[\"WeekofYear\"]==i][\"Deaths\"].iloc[-1])\n",
        "    week_num_india.append(w)\n",
        "    w=w+1\n",
        "plt.figure(figsize=(8,5))\n",
        "plt.plot(week_num_india,india_weekwise_confirmed,linewidth=3)\n",
        "plt.plot(week_num_india,india_weekwise_recovered,linewidth =3)\n",
        "plt.plot(week_num_india,india_weekwise_deaths,linewidth = 3)\n",
        "plt.xlabel(\"WeekNumber\")\n",
        "plt.ylabel(\"Number of cases\")\n",
        "plt.title(\"Weekly Progress of different types of cases\")"
      ],
      "execution_count": null,
      "outputs": []
    },
    {
      "cell_type": "markdown",
      "metadata": {
        "id": "juaK7-1sqpRN"
      },
      "source": [
        "\n",
        "\n",
        "### **Segregating country wise analysis**\n",
        "\n"
      ]
    },
    {
      "cell_type": "code",
      "metadata": {
        "id": "UJv97LzUzpLV"
      },
      "source": [
        "china_data = covid[covid[\"Country/Region\"]==\"Mainland China\"]\n",
        "Italy_data = covid[covid[\"Country/Region\"]==\"Italy\"]\n",
        "US_data = covid[covid[\"Country/Region\"]==\"US\"]\n",
        "spain_data = covid[covid[\"Country/Region\"]==\"Spain\"]\n",
        "\n",
        "datewise_china = china_data.groupby([\"ObservationDate\"]).agg({\"Confirmed\":\"sum\",\"Recovered\":\"sum\",\"Deaths\":\"sum\"})\n",
        "datewise_Italy = Italy_data.groupby([\"ObservationDate\"]).agg({\"Confirmed\":\"sum\",\"Recovered\":\"sum\",\"Deaths\":\"sum\"})\n",
        "datewise_US=US_data.groupby([\"ObservationDate\"]).agg({\"Confirmed\":\"sum\",\"Recovered\":\"sum\",\"Deaths\":\"sum\"})\n",
        "datewise_Spain=spain_data.groupby([\"ObservationDate\"]).agg({\"Confirmed\":\"sum\",\"Recovered\":\"sum\",\"Deaths\":\"sum\"})\n",
        "\n",
        "max_ind = datewise_india[\"Confirmed\"].max()\n",
        "max_it = datewise_Italy[\"Confirmed\"].max()\n",
        "max_us = datewise_US[\"Confirmed\"].max()\n",
        "max_spain = datewise_Spain[\"Confirmed\"].max()\n",
        "max_china = datewise_china[\"Confirmed\"].max()\n",
        "\n",
        "print(\"It took\",datewise_india[datewise_india[\"Confirmed\"]>0].shape[0],\"days in India to reach\",max_ind,\"Confirmed Cases\")\n",
        "print(\"It took\",datewise_Italy[datewise_Italy[\"Confirmed\"]>0].shape[0],\"days in Italy to reach\",max_it,\"Confirmed Cases\")\n",
        "print(\"It took\",datewise_US[datewise_US[\"Confirmed\"]>0].shape[0],\"days in US to reach\",max_us,\"Confirmed Cases\")\n",
        "print(\"It took\",datewise_Spain[datewise_Spain[\"Confirmed\"]>0].shape[0],\"days in Spain to reach\",max_spain,\"Confirmed Cases\")\n",
        "print(\"It took\",datewise_china[datewise_china[\"Confirmed\"]>0].shape[0],\"days in China to reach\",max_china,\"Confirmed Cases\")\n"
      ],
      "execution_count": null,
      "outputs": []
    },
    {
      "cell_type": "markdown",
      "metadata": {
        "id": "50QmoO0I76-l"
      },
      "source": [
        "\n",
        "### **Creating a Model Training using the current Dataset**\n"
      ]
    },
    {
      "cell_type": "code",
      "metadata": {
        "id": "iohQ4GUU76VB"
      },
      "source": [
        "datewise[\"Days Since\"]=datewise.index-datewise.index[0]\n",
        "datewise[\"Days Since\"] = datewise[\"Days Since\"].dt.days\n",
        "train_ml = datewise.iloc[:int(datewise.shape[0]*0.95)]\n",
        "valid_ml = datewise.iloc[:int(datewise.shape[0]*0.95):]\n",
        "model_scores=[]"
      ],
      "execution_count": null,
      "outputs": []
    },
    {
      "cell_type": "code",
      "metadata": {
        "id": "hAYgc5H-8FLp"
      },
      "source": [
        "lin_reg = LinearRegression(normalize=True)\n",
        "svm = SVR(C=1,degree=5,kernel='poly',epsilon=0.001)\n",
        "lin_reg.fit(np.array(train_ml[\"Days Since\"]).reshape(-1,1),np.array(train_ml[\"Confirmed\"]).reshape(-1,1))\n",
        "svm.fit(np.array(train_ml[\"Days Since\"]).reshape(-1,1),np.array(train_ml[\"Confirmed\"]).reshape(-1,1))"
      ],
      "execution_count": null,
      "outputs": []
    },
    {
      "cell_type": "code",
      "metadata": {
        "id": "jLLvzNzq8HBa"
      },
      "source": [
        "prediction_valid_lin_reg = lin_reg.predict(np.array(valid_ml[\"Days Since\"]).reshape(-1,1))\n",
        "prediction_valid_svm = svm.predict(np.array(valid_ml[\"Days Since\"]).reshape(-1,1))"
      ],
      "execution_count": null,
      "outputs": []
    },
    {
      "cell_type": "code",
      "metadata": {
        "id": "SWpeU-iY8Izd"
      },
      "source": [
        "new_date = []\n",
        "new_prediction_lr=[]\n",
        "new_prediction_svm=[]\n",
        "for i in range(1,18):\n",
        "  new_date.append(datewise.index[-1]+timedelta(days=i))\n",
        "  new_prediction_lr.append(lin_reg.predict(np.array(datewise[\"Days Since\"].max()+i).reshape(-1,1))[0][0])\n",
        "  new_prediction_svm.append(svm.predict(np.array(datewise[\"Days Since\"].max()+i).reshape(-1,1))[0])\n",
        "pd.set_option(\"display.float_format\",lambda x: '%.f' % x)\n",
        "model_predictions=pd.DataFrame(zip(new_date,new_prediction_lr,new_prediction_svm),columns = [\"Dates\",\"LR\",\"SVR\"])\n",
        "model_predictions.head(5)"
      ],
      "execution_count": null,
      "outputs": []
    },
    {
      "cell_type": "markdown",
      "metadata": {
        "id": "UIkHltJhjtZl"
      },
      "source": [
        "### **Time series analysis to getting the exact data**"
      ]
    },
    {
      "cell_type": "code",
      "metadata": {
        "id": "oBEeiNLTjwhT"
      },
      "source": [
        "model_train=datewise.iloc[:int(datewise.shape[0]*0.85)]\n",
        "valid=datewise.iloc[int(datewise.shape[0]*0.85):]"
      ],
      "execution_count": null,
      "outputs": []
    },
    {
      "cell_type": "markdown",
      "metadata": {
        "id": "o0g3peid3GGG"
      },
      "source": [
        "### **Initializing the model which includes forecasting and prediction**"
      ]
    },
    {
      "cell_type": "code",
      "metadata": {
        "id": "oF6l9IANzxMu"
      },
      "source": [
        "holt=Holt(np.asarray(model_train[\"Confirmed\"])).fit(smoothing_level=1.4,smoothing_slope=0.2)\n",
        "y_pred = valid.copy()\n",
        "y_pred[\"Holt\"]=holt.forecast(len(valid))"
      ],
      "execution_count": null,
      "outputs": []
    },
    {
      "cell_type": "code",
      "metadata": {
        "id": "pldrLudyzySg"
      },
      "source": [
        "holt_new_date=[]\n",
        "holt_new_prediction=[]\n",
        "for i in range(1,18):\n",
        "   holt_new_date.append(datewise.index[-1]+timedelta(days=i))\n",
        "   holt_new_prediction.append(holt.forecast((len(valid)+i))[-1])\n",
        "\n",
        "model_predictions[\"Holts Linear Model Prediction\"]=holt_new_prediction\n",
        "model_predictions.head()"
      ],
      "execution_count": null,
      "outputs": []
    },
    {
      "cell_type": "markdown",
      "metadata": {
        "id": "pJ9QPuN3A80O"
      },
      "source": [
        "###  **Egy konkrét ország vizsgálata (Pakistan)**\n"
      ]
    },
    {
      "cell_type": "code",
      "metadata": {
        "id": "rV_V9OagA_Zn"
      },
      "source": [
        "!pip install pmdarima"
      ],
      "execution_count": null,
      "outputs": []
    },
    {
      "cell_type": "code",
      "metadata": {
        "id": "_jGJ5tk-BBVq"
      },
      "source": [
        "import numpy as np\n",
        "import pandas as pd\n",
        "import datetime\n",
        "import plotly.express as px\n",
        "import plotly.express as ex\n",
        "import folium\n",
        "import matplotlib.pyplot as plt\n",
        "\n",
        "from statsmodels.tsa.statespace.sarimax import SARIMAX\n",
        "from statsmodels.tsa.arima_model import ARIMA\n",
        "from fbprophet import Prophet\n",
        "from fbprophet.plot import plot_plotly, add_changepoints_to_plot\n",
        "\n",
        "import plotly.graph_objects as go\n",
        "import pandas as pd\n",
        "import warnings\n",
        "warnings.filterwarnings(\"ignore\")\n",
        "\n",
        "%matplotlib inline"
      ],
      "execution_count": null,
      "outputs": []
    },
    {
      "cell_type": "code",
      "metadata": {
        "id": "aOZiTUr2BDH1"
      },
      "source": [
        "url = 'https://raw.githubusercontent.com/csengetoth/covid_forecast/main/pak_data-v2.csv'"
      ],
      "execution_count": null,
      "outputs": []
    },
    {
      "cell_type": "code",
      "metadata": {
        "id": "f-DFcCLoBGPs"
      },
      "source": [
        "#covid_data = pd.read_excel('pak_data-v2.xlsx')\n",
        "covid_data = pd.read_csv(url)"
      ],
      "execution_count": null,
      "outputs": []
    },
    {
      "cell_type": "code",
      "metadata": {
        "id": "8XEpmmbgBHc_"
      },
      "source": [
        "covid_data.head()"
      ],
      "execution_count": null,
      "outputs": []
    },
    {
      "cell_type": "code",
      "metadata": {
        "id": "2Q0OrTSBBI0W"
      },
      "source": [
        "covid_data.isnull().sum()"
      ],
      "execution_count": null,
      "outputs": []
    },
    {
      "cell_type": "code",
      "metadata": {
        "id": "kE-GppjTBJ3L"
      },
      "source": [
        "covid_data.dtypes"
      ],
      "execution_count": null,
      "outputs": []
    },
    {
      "cell_type": "code",
      "metadata": {
        "id": "UELT91BrBLQD"
      },
      "source": [
        "#start date \n",
        "covid_data.Date.min()"
      ],
      "execution_count": null,
      "outputs": []
    },
    {
      "cell_type": "code",
      "metadata": {
        "id": "KeZcsgXvBMjm"
      },
      "source": [
        "#max date \n",
        "covid_data.Date.max()"
      ],
      "execution_count": null,
      "outputs": []
    },
    {
      "cell_type": "markdown",
      "metadata": {
        "id": "NeJ57V9RRVAX"
      },
      "source": [
        "### **Pakistan**"
      ]
    },
    {
      "cell_type": "code",
      "metadata": {
        "id": "lulHqt-dRba_"
      },
      "source": [
        "pak_data = covid_data.copy()"
      ],
      "execution_count": null,
      "outputs": []
    },
    {
      "cell_type": "code",
      "metadata": {
        "id": "q4mkrSjlRfgR"
      },
      "source": [
        "pak_data['Total Confirmed Cases'] = 0\n",
        "pak_data['Total Recovered'] = 0\n",
        "pak_data['Total Deaths'] = 0\n",
        "pak_data['Active Cases'] = 0\n",
        "for i in range(0, len(pak_data)):\n",
        "    if (i == 0):\n",
        "        pak_data['Total Confirmed Cases'].iloc[i] = pak_data['New Cases'].iloc[i]\n",
        "        pak_data['Total Recovered'].iloc[i] = pak_data['Cured Cases'].iloc[i]\n",
        "        pak_data['Total Deaths'].iloc[i] = pak_data['Death Cases'].iloc[i]\n",
        "        pak_data['Active Cases'].iloc[i] = pak_data['Active Cases'].iloc[i-1] + pak_data['New Cases'].iloc[i] - pak_data['Death Cases'].iloc[i] - pak_data['Cured Cases'].iloc[i]\n",
        "\n",
        "    else:\n",
        "        pak_data['Total Confirmed Cases'].iloc[i] = pak_data['Total Confirmed Cases'].iloc[i-1] + pak_data['New Cases'].iloc[i]\n",
        "        pak_data['Total Recovered'].iloc[i] =  pak_data['Total Recovered'].iloc[i-1] + pak_data['Cured Cases'].iloc[i]\n",
        "        pak_data['Total Deaths'].iloc[i] =  pak_data['Total Deaths'].iloc[i-1] + pak_data['Death Cases'].iloc[i]\n",
        "        pak_data['Active Cases'].iloc[i] = pak_data['Active Cases'].iloc[i-1] + pak_data['New Cases'].iloc[i] - pak_data['Death Cases'].iloc[i] - pak_data['Cured Cases'].iloc[i]"
      ],
      "execution_count": null,
      "outputs": []
    },
    {
      "cell_type": "code",
      "metadata": {
        "id": "gVObhYE3Rk8l"
      },
      "source": [
        "pak_data.head()"
      ],
      "execution_count": null,
      "outputs": []
    },
    {
      "cell_type": "code",
      "metadata": {
        "id": "eYGqirhiRngv"
      },
      "source": [
        "confirmed = pak_data['New Cases'].sum()\n",
        "recovered = pak_data['Cured Cases'].sum()\n",
        "deaths = pak_data['Death Cases'].sum()\n",
        "active = confirmed - (recovered - deaths)\n",
        "\n",
        "print(confirmed, recovered, deaths, active)\n",
        "\n",
        "labels = ['Active Cases','Recovered Cases','Death Cases']\n",
        "sizes = [active,recovered,deaths]\n",
        "color= ['#66b3ff','green','red']\n",
        "explode = []\n",
        "\n",
        "for i in labels:\n",
        "    explode.append(0.1)\n",
        "    \n",
        "plt.figure(figsize= (15,10))\n",
        "plt.pie(sizes, labels=labels, autopct='%3.1f%%', startangle=9, explode =explode,colors = color)\n",
        "centre_circle = plt.Circle((0,0),0.60,fc='white')\n",
        "\n",
        "fig = plt.gcf()\n",
        "fig.gca().add_artist(centre_circle)\n",
        "plt.title('e',fontsize = 24)\n",
        "plt.axis('equal')  \n",
        "plt.tight_layout()"
      ],
      "execution_count": null,
      "outputs": []
    },
    {
      "cell_type": "code",
      "metadata": {
        "id": "49Epp0zRUFW6"
      },
      "source": [
        "temp = pak_data.groupby(['Date'])['New Cases','Cured Cases','Death Cases'].sum().reset_index()\n",
        "fig = px.scatter(temp, x=\"Date\", y=\"New Cases\", color=\"New Cases\",\n",
        "                 size='New Cases', hover_data=['New Cases'],\n",
        "                 color_discrete_sequence = ex.colors.cyclical.IceFire)\n",
        "fig.update_layout(title_text='Trend of Daily Cases in Pakistan',\n",
        "                  plot_bgcolor='rgb(275, 270, 273)',width=1000, height=1000)\n",
        "fig.show()"
      ],
      "execution_count": null,
      "outputs": []
    },
    {
      "cell_type": "code",
      "metadata": {
        "id": "8gXESvVRUHR3"
      },
      "source": [
        "fig = go.Figure()\n",
        "fig.add_trace(go.Scatter(x=pak_data['Date'], y=pak_data['Total Confirmed Cases'],\n",
        "                    mode='lines+markers',marker_color='blue',name='Confimned Cases'))\n",
        "#fig.add_trace(go.Scatter(x=train_df['Date'],y=train_df['Active'], \n",
        "#                mode='lines+markers',marker_color='purple',name='Active Cases'))\n",
        "fig.add_trace(go.Scatter(x=pak_data['Date'], y=pak_data['Total Recovered'],\n",
        "                mode='lines+markers',marker_color='green',name='Recovered'))\n",
        "fig.add_trace(go.Scatter(x=pak_data['Date'], y=pak_data['Total Deaths'], \n",
        "                mode='lines+markers',marker_color='red',name='Deaths'))\n",
        "fig.update_layout(title_text='Coronavirus Cases in Pakistan',plot_bgcolor='rgb(275, 270, 273)',width=1000, height=1000)\n",
        "fig.show()"
      ],
      "execution_count": null,
      "outputs": []
    },
    {
      "cell_type": "markdown",
      "metadata": {
        "id": "s6w0_vvy34sN"
      },
      "source": [
        "### **Prophet Model**"
      ]
    },
    {
      "cell_type": "code",
      "metadata": {
        "id": "dOhErMjO4AH5"
      },
      "source": [
        "confirmed = pak_data['Total Confirmed Cases'].values.tolist()\n",
        "data = pd.DataFrame(columns = ['ds','y'])\n",
        "data['ds'] = list(pak_data['Date'])\n",
        "data['y'] = confirmed\n",
        "\n",
        "prop=Prophet()\n",
        "prop.fit(data)\n",
        "future=prop.make_future_dataframe(periods=15)\n",
        "prop_forecast=prop.predict(future)\n",
        "forecast = prop_forecast[['ds','yhat']].tail(15)\n",
        "#print(forecast)\n",
        "\n",
        "\n",
        "fig = go.Figure()\n",
        "fig.add_trace(go.Scatter(x=pak_data['Date'], y=pak_data['Total Confirmed Cases'],\n",
        "                    mode='lines+markers',marker_color='green',name='Actual'))\n",
        "fig.add_trace(go.Scatter(x=prop_forecast['ds'], y=prop_forecast['yhat_upper'],\n",
        "                    mode='lines+markers',marker_color='Orange',name='Predicted'))\n",
        "fig.update_layout(title_text = 'Confirmed Cases (Predicted vs Actual) using Prophet')\n",
        "fig.update_layout(plot_bgcolor='rgb(275, 270, 273)',width=1000, height=1000)\n",
        "fig.show()"
      ],
      "execution_count": null,
      "outputs": []
    },
    {
      "cell_type": "code",
      "metadata": {
        "id": "wo8s0CHA4HKl"
      },
      "source": [
        "recv = pak_data['Total Recovered'].values.tolist()\n",
        "data = pd.DataFrame(columns = ['ds','y'])\n",
        "data['ds'] = list(pak_data['Date'])\n",
        "data['y'] = recv\n",
        "\n",
        "prop=Prophet()\n",
        "prop.fit(data)\n",
        "future=prop.make_future_dataframe(periods=15)\n",
        "prop_forecast=prop.predict(future)\n",
        "forecast = prop_forecast[['ds','yhat']].tail(15)\n",
        "print(forecast)\n",
        "#fig = plot_plotly(prop, prop_forecast)\n",
        "#fig = prop.plot(prop_forecast,xlabel='Date',ylabel='Confirmed Cases')\n",
        "\n",
        "\n",
        "fig = go.Figure()\n",
        "fig.add_trace(go.Scatter(x=pak_data['Date'], y=pak_data['Total Recovered'],\n",
        "                    mode='lines+markers',marker_color='green',name='Actual'))\n",
        "fig.add_trace(go.Scatter(x=prop_forecast['ds'], y=prop_forecast['yhat_upper'],\n",
        "                    mode='lines+markers',marker_color='yellow',name='Predicted'))\n",
        "fig.update_layout(title_text = 'Recovered Cases (Predicted vs Actual) using Prophet')\n",
        "fig.update_layout(plot_bgcolor='rgb(275, 270, 273)',width=1000, height=1000)\n",
        "fig.show()"
      ],
      "execution_count": null,
      "outputs": []
    },
    {
      "cell_type": "markdown",
      "metadata": {
        "id": "8c7XAIyXxal5"
      },
      "source": [
        "### **Province Predictions**"
      ]
    },
    {
      "cell_type": "code",
      "metadata": {
        "id": "9fwiHzO-xp9e"
      },
      "source": [
        "province_cases = pak_data.groupby(['Date','Province'])['New Cases','Cured Cases','Death Cases'].sum().reset_index()"
      ],
      "execution_count": null,
      "outputs": []
    },
    {
      "cell_type": "code",
      "metadata": {
        "id": "WBR7lUkWxqoW"
      },
      "source": [
        "province_cases['Total Confirmed Cases'] = 0\n",
        "province_cases['Total Recovered'] = 0\n",
        "province_cases['Total Deaths'] = 0\n",
        "province_cases['Active Cases'] = 0\n",
        "\n",
        "province_list = province_cases['Province'].unique()\n",
        "test = province_cases.copy()\n",
        "for province in province_list:\n",
        "    \n",
        "    \n",
        "    province_data = province_cases[province_cases['Province'] == province]\n",
        "    \n",
        "    for i in range(0, len(province_data)):\n",
        "\n",
        "        if (i == 0):\n",
        "            province_data['Total Confirmed Cases'].iloc[i] = province_data['New Cases'].iloc[i]\n",
        "            province_data['Total Recovered'].iloc[i] = province_data['Cured Cases'].iloc[i]\n",
        "            province_data['Total Deaths'].iloc[i] = province_data['Death Cases'].iloc[i]\n",
        "            province_data['Active Cases'].iloc[i] = province_data['Active Cases'].iloc[i-1] + province_data['New Cases'].iloc[i] - province_data['Death Cases'].iloc[i] - province_data['Cured Cases'].iloc[i]\n",
        "        else:\n",
        "            province_data['Total Confirmed Cases'].iloc[i] = province_data['Total Confirmed Cases'].iloc[i-1] + province_data['New Cases'].iloc[i]\n",
        "            province_data['Total Recovered'].iloc[i] =  province_data['Total Recovered'].iloc[i-1] + province_data['Cured Cases'].iloc[i]\n",
        "            province_data['Total Deaths'].iloc[i] =  province_data['Total Deaths'].iloc[i-1] + province_data['Death Cases'].iloc[i]\n",
        "            province_data['Active Cases'].iloc[i] = province_data['Active Cases'].iloc[i-1] + province_data['New Cases'].iloc[i] - province_data['Death Cases'].iloc[i] - province_data['Cured Cases'].iloc[i]\n",
        "\n",
        "    \n",
        "    province_cases.update(province_data)\n",
        "\n",
        "province_cases = province_cases.astype({\"New Cases\":int,\"Cured Cases\":int,\"Death Cases\":int, \"Total Confirmed Cases\": int,\"Total Recovered\":int,\"Total Deaths\":int,\"Active Cases\": int})"
      ],
      "execution_count": null,
      "outputs": []
    },
    {
      "cell_type": "code",
      "metadata": {
        "id": "fVR5zN5ixtye"
      },
      "source": [
        "province_cases.dtypes"
      ],
      "execution_count": null,
      "outputs": []
    },
    {
      "cell_type": "code",
      "metadata": {
        "id": "uZA5iIIKxxaU"
      },
      "source": [
        "province_cases.head()"
      ],
      "execution_count": null,
      "outputs": []
    },
    {
      "cell_type": "code",
      "metadata": {
        "id": "PU2C1imGx0Df"
      },
      "source": [
        "s_cases = pak_data.groupby('Province')['New Cases','Cured Cases','Death Cases'].sum().reset_index()\n",
        "s_cases['Active Cases'] = s_cases['New Cases'] - s_cases['Death Cases']- s_cases['Cured Cases']\n",
        "s_cases[\"Death Rate (per 100)\"] = np.round(100*s_cases[\"Death Cases\"]/s_cases[\"New Cases\"],2)\n",
        "s_cases[\"Cure Rate (per 100)\"] = np.round(100*s_cases[\"Cured Cases\"]/s_cases[\"New Cases\"],2)\n",
        "s_cases.sort_values('New Cases', ascending= False).fillna(0).style.background_gradient(cmap='Blues',subset=[\"New Cases\"])\\\n",
        "                        .background_gradient(cmap='Blues',subset=[\"Death Cases\"])\\\n",
        "                        .background_gradient(cmap='Blues',subset=[\"Cured Cases\"])\\\n",
        "                        .background_gradient(cmap='Blues',subset=[\"Active Cases\"])\\\n",
        "                        .background_gradient(cmap='Blues',subset=[\"Death Rate (per 100)\"])\\\n",
        "                        .background_gradient(cmap='Blues',subset=[\"Cure Rate (per 100)\"])"
      ],
      "execution_count": null,
      "outputs": []
    },
    {
      "cell_type": "code",
      "metadata": {
        "id": "FqGwOxnxx6pk"
      },
      "source": [
        "# For Sindh\n",
        "s = province_cases.loc[province_cases['Province'] == 'Sindh']\n",
        "\n",
        "confirmed = s['Total Confirmed Cases'].values.tolist()\n",
        "data = pd.DataFrame(columns = ['ds','y'])\n",
        "data['ds'] = list(s['Date'])\n",
        "data['y'] = confirmed\n",
        "\n",
        "prop=Prophet()\n",
        "prop.fit(data)\n",
        "future=prop.make_future_dataframe(periods=30)\n",
        "prop_forecast=prop.predict(future)\n",
        "forecast = prop_forecast[['ds','yhat']].tail(30)\n",
        "\n",
        "fig = go.Figure()\n",
        "fig.add_trace(go.Scatter(x=s['Date'], y=s['Total Confirmed Cases'],\n",
        "                    mode='lines+markers',marker_color='green',name='Actual'))\n",
        "fig.add_trace(go.Scatter(x=prop_forecast['ds'], y=prop_forecast['yhat_upper'],\n",
        "                    mode='lines+markers',marker_color='Orange',name='Predicted'))\n",
        "fig.update_layout(title_text = 'Sindh Confirmed Cases (Predicted vs Actual) using Prophet')\n",
        "fig.update_layout(plot_bgcolor='rgb(275, 270, 273)',width=600, height=600)\n",
        "fig.show()"
      ],
      "execution_count": null,
      "outputs": []
    },
    {
      "cell_type": "code",
      "metadata": {
        "id": "jK64x7Pax85n"
      },
      "source": [
        "# For Sindh\n",
        "\n",
        "confirmed = s['Total Deaths'].values.tolist()\n",
        "data = pd.DataFrame(columns = ['ds','y'])\n",
        "data['ds'] = list(s['Date'])\n",
        "data['y'] = confirmed\n",
        "\n",
        "prop=Prophet()\n",
        "prop.fit(data)\n",
        "future=prop.make_future_dataframe(periods=30)\n",
        "prop_forecast=prop.predict(future)\n",
        "forecast = prop_forecast[['ds','yhat']].tail(30)\n",
        "\n",
        "fig = go.Figure()\n",
        "fig.add_trace(go.Scatter(x=s['Date'], y=s['Total Deaths'],\n",
        "                    mode='lines+markers',marker_color='green',name='Actual'))\n",
        "fig.add_trace(go.Scatter(x=prop_forecast['ds'], y=prop_forecast['yhat_upper'],\n",
        "                    mode='lines+markers',marker_color='red',name='Predicted'))\n",
        "fig.update_layout(title_text = 'Sindh Death Cases (Predicted vs Actual) using Prophet')\n",
        "fig.update_layout(plot_bgcolor='rgb(275, 270, 273)',width=600, height=600)\n",
        "fig.show()"
      ],
      "execution_count": null,
      "outputs": []
    },
    {
      "cell_type": "code",
      "metadata": {
        "id": "pU58Vs30yApW"
      },
      "source": [
        "# For Sindh\n",
        "s = province_cases.loc[province_cases['Province'] == 'Sindh']\n",
        "\n",
        "confirmed = s['Total Recovered'].values.tolist()\n",
        "data = pd.DataFrame(columns = ['ds','y'])\n",
        "data['ds'] = list(s['Date'])\n",
        "data['y'] = confirmed\n",
        "\n",
        "prop=Prophet()\n",
        "prop.fit(data)\n",
        "future=prop.make_future_dataframe(periods=30)\n",
        "prop_forecast=prop.predict(future)\n",
        "forecast = prop_forecast[['ds','yhat']].tail(30)\n",
        "\n",
        "fig = go.Figure()\n",
        "fig.add_trace(go.Scatter(x=s['Date'], y=s['Total Recovered'],\n",
        "                    mode='lines+markers',marker_color='green',name='Actual'))\n",
        "fig.add_trace(go.Scatter(x=prop_forecast['ds'], y=prop_forecast['yhat_upper'],\n",
        "                    mode='lines+markers',marker_color='yellow',name='Predicted'))\n",
        "fig.update_layout(title_text = 'Sindh Recovered Cases (Predicted vs Actual) using Prophet')\n",
        "fig.update_layout(plot_bgcolor='rgb(275, 270, 273)',width=600, height=600)\n",
        "fig.show()"
      ],
      "execution_count": null,
      "outputs": []
    },
    {
      "cell_type": "markdown",
      "metadata": {
        "id": "Na8DBQY6hKZd"
      },
      "source": [
        "### **Cities Prediction**"
      ]
    },
    {
      "cell_type": "code",
      "metadata": {
        "id": "fzRRz_-ehQuw"
      },
      "source": [
        "cities = pak_data.groupby(['Date', 'City'])['New Cases','Cured Cases','Death Cases'].sum().reset_index()"
      ],
      "execution_count": null,
      "outputs": []
    },
    {
      "cell_type": "code",
      "metadata": {
        "id": "w_tk69XehaW9"
      },
      "source": [
        "cities['Total Confirmed Cases'] = 0\n",
        "cities['Total Recovered'] = 0\n",
        "cities['Total Deaths'] = 0\n",
        "cities['Active Cases'] = 0\n",
        "\n",
        "city_list = cities['City'].unique()\n",
        "for city in city_list:\n",
        "    \n",
        "    \n",
        "    city_data = cities[cities['City'] == city]\n",
        "    \n",
        "    for i in range(0, len(city_data)):\n",
        "\n",
        "        if (i == 0):\n",
        "            city_data['Total Confirmed Cases'].iloc[i] = city_data['New Cases'].iloc[i]\n",
        "            city_data['Total Recovered'].iloc[i] = city_data['Cured Cases'].iloc[i]\n",
        "            city_data['Total Deaths'].iloc[i] = city_data['Death Cases'].iloc[i]\n",
        "            city_data['Active Cases'].iloc[i] = city_data['Active Cases'].iloc[i-1] + city_data['New Cases'].iloc[i] - city_data['Death Cases'].iloc[i] - city_data['Cured Cases'].iloc[i]\n",
        "        else:\n",
        "            city_data['Total Confirmed Cases'].iloc[i] = city_data['Total Confirmed Cases'].iloc[i-1] + city_data['New Cases'].iloc[i]\n",
        "            city_data['Total Recovered'].iloc[i] =  city_data['Total Recovered'].iloc[i-1] + city_data['Cured Cases'].iloc[i]\n",
        "            city_data['Total Deaths'].iloc[i] =  city_data['Total Deaths'].iloc[i-1] + city_data['Death Cases'].iloc[i]\n",
        "            city_data['Active Cases'].iloc[i] = city_data['Active Cases'].iloc[i-1] + city_data['New Cases'].iloc[i] - city_data['Death Cases'].iloc[i] - city_data['Cured Cases'].iloc[i]\n",
        "\n",
        "    \n",
        "    cities.update(city_data)\n",
        "\n",
        "cities = cities.astype({\"New Cases\":int,\"Cured Cases\":int,\"Death Cases\":int, \"Total Confirmed Cases\": int,\"Total Recovered\":int,\"Total Deaths\":int,\"Active Cases\": int})"
      ],
      "execution_count": null,
      "outputs": []
    },
    {
      "cell_type": "code",
      "metadata": {
        "id": "ME7oYr_Zhd-x"
      },
      "source": [
        "c_cases = cities.groupby('City')['New Cases','Cured Cases','Death Cases'].sum().reset_index()\n",
        "c_cases = c_cases.sort_values(['New Cases'], ascending=False)\n",
        "\n",
        "c_cases['Active Cases'] = c_cases['New Cases'] - c_cases['Death Cases']- c_cases['Cured Cases']\n",
        "c_cases[\"Death Rate (per 100)\"] = np.round(100*c_cases[\"Death Cases\"]/c_cases[\"New Cases\"],2)\n",
        "c_cases[\"Cure Rate (per 100)\"] = np.round(100*c_cases[\"Cured Cases\"]/c_cases[\"New Cases\"],2)\n",
        "c_cases.sort_values('New Cases', ascending= False).fillna(0).style.background_gradient(cmap='Blues',subset=[\"New Cases\"])\\\n",
        "                        .background_gradient(cmap='Blues',subset=[\"Death Cases\"])\\\n",
        "                        .background_gradient(cmap='Blues',subset=[\"Cured Cases\"])\\\n",
        "                        .background_gradient(cmap='Blues',subset=[\"Active Cases\"])\\\n",
        "                        .background_gradient(cmap='Blues',subset=[\"Death Rate (per 100)\"])\\\n",
        "                        .background_gradient(cmap='Blues',subset=[\"Cure Rate (per 100)\"])"
      ],
      "execution_count": null,
      "outputs": []
    },
    {
      "cell_type": "code",
      "metadata": {
        "id": "ODf3XvAbhhRK"
      },
      "source": [
        "khi = cities.loc[cities['City'] == 'Karachi']\n",
        "\n",
        "confirmed = khi['Total Confirmed Cases'].values.tolist()\n",
        "data = pd.DataFrame(columns = ['ds','y'])\n",
        "data['ds'] = list(khi['Date'])\n",
        "data['y'] = confirmed\n",
        "\n",
        "prop=Prophet()\n",
        "prop.fit(data)\n",
        "future=prop.make_future_dataframe(periods=30)\n",
        "prop_forecast=prop.predict(future)\n",
        "forecast = prop_forecast[['ds','yhat']].tail(30)\n",
        "\n",
        "fig = go.Figure()\n",
        "fig.add_trace(go.Scatter(x=khi['Date'], y=khi['Total Confirmed Cases'],\n",
        "                    mode='lines+markers',marker_color='green',name='Actual'))\n",
        "fig.add_trace(go.Scatter(x=prop_forecast['ds'], y=prop_forecast['yhat_upper'],\n",
        "                    mode='lines+markers',marker_color='Orange',name='Predicted'))\n",
        "fig.update_layout(title_text = 'Karachi Confirmed Cases (Predicted vs Actual) using Prophet')\n",
        "fig.update_layout(plot_bgcolor='rgb(275, 270, 273)',width=600, height=600)\n",
        "fig.show()"
      ],
      "execution_count": null,
      "outputs": []
    },
    {
      "cell_type": "code",
      "metadata": {
        "id": "qhV6eFgJhlPa"
      },
      "source": [
        "confirmed = khi['Total Deaths'].values.tolist()\n",
        "data = pd.DataFrame(columns = ['ds','y'])\n",
        "data['ds'] = list(khi['Date'])\n",
        "data['y'] = confirmed\n",
        "\n",
        "prop=Prophet()\n",
        "prop.fit(data)\n",
        "future=prop.make_future_dataframe(periods=30)\n",
        "prop_forecast=prop.predict(future)\n",
        "forecast = prop_forecast[['ds','yhat']].tail(30)\n",
        "\n",
        "fig = go.Figure()\n",
        "fig.add_trace(go.Scatter(x=khi['Date'], y=khi['Total Deaths'],\n",
        "                    mode='lines+markers',marker_color='green',name='Actual'))\n",
        "fig.add_trace(go.Scatter(x=prop_forecast['ds'], y=prop_forecast['yhat_upper'],\n",
        "                    mode='lines+markers',marker_color='red',name='Predicted'))\n",
        "fig.update_layout(title_text = 'Karachi Death Cases (Predicted vs Actual) using Prophet')\n",
        "fig.update_layout(plot_bgcolor='rgb(275, 270, 273)',width=600, height=600)\n",
        "fig.show()"
      ],
      "execution_count": null,
      "outputs": []
    },
    {
      "cell_type": "code",
      "metadata": {
        "id": "BBE5kgfuhpCm"
      },
      "source": [
        "confirmed = khi['Total Recovered'].values.tolist()\n",
        "data = pd.DataFrame(columns = ['ds','y'])\n",
        "data['ds'] = list(khi['Date'])\n",
        "data['y'] = confirmed\n",
        "\n",
        "prop=Prophet()\n",
        "prop.fit(data)\n",
        "future=prop.make_future_dataframe(periods=30)\n",
        "prop_forecast=prop.predict(future)\n",
        "forecast = prop_forecast[['ds','yhat']].tail(30)\n",
        "\n",
        "fig = go.Figure()\n",
        "fig.add_trace(go.Scatter(x=khi['Date'], y=khi['Total Recovered'],\n",
        "                    mode='lines+markers',marker_color='green',name='Actual'))\n",
        "fig.add_trace(go.Scatter(x=prop_forecast['ds'], y=prop_forecast['yhat_upper'],\n",
        "                    mode='lines+markers',marker_color='yellow',name='Predicted'))\n",
        "fig.update_layout(title_text = 'Karachi Recovered Cases (Predicted vs Actual) using Prophet')\n",
        "fig.update_layout(plot_bgcolor='rgb(275, 270, 273)',width=600, height=600)\n",
        "fig.show()"
      ],
      "execution_count": null,
      "outputs": []
    },
    {
      "cell_type": "markdown",
      "metadata": {
        "id": "sc2uhpSe-sZk"
      },
      "source": [
        "### **Visualization and prediction több ország esetén**"
      ]
    },
    {
      "cell_type": "markdown",
      "metadata": {
        "id": "QYEDRR3P-zT8"
      },
      "source": [
        "### **Import the data**"
      ]
    },
    {
      "cell_type": "code",
      "metadata": {
        "id": "bNGILds9-2yU"
      },
      "source": [
        "import numpy as np \n",
        "#array kezelése\n",
        "\n",
        "import matplotlib.pyplot as plt \n",
        "#plotok abrazolasa\n",
        "\n",
        "import matplotlib.colors as mcolors \n",
        "#szinek megadása akár névvel, akár rgb formatumban\n",
        "\n",
        "import pandas as pd \n",
        "#adatok manipulalasa, ellemzese, modellezese, regressziok\n",
        "\n",
        "import random \n",
        "import math\n",
        "\n",
        "import time \n",
        "#idohoz kapcsolodo fuggvenyek hasznalata\n",
        "\n",
        "from sklearn.linear_model import LinearRegression, BayesianRidge \n",
        "#model illesztése, minimalizálja az adathalmaz által meghatározott érték, és előre jelzett érték közötti különbséget\n",
        "\n",
        "from sklearn.model_selection import RandomizedSearchCV, train_test_split\n",
        "#random hiperparaméter számítás,\n",
        "#tombok vagy matrixok felosztasa veletlenszeru sorozatokra es teszt reszhalmazokra \n",
        "\n",
        "from sklearn.preprocessing import PolynomialFeatures\n",
        "#polinomiális és interakciós jellemzők generálása.\n",
        "\n",
        "from sklearn.svm import SVR \n",
        "#osztályozás, regresszió, kiugró értékek kezelése\n",
        "\n",
        "from sklearn.metrics import mean_squared_error, mean_absolute_error\n",
        "#átlag négyzetes hiba\n",
        "#átlag abszolut hiba\n",
        "\n",
        "import datetime \n",
        "#dátum/idő kezelése\n",
        "\n",
        "import operator \n",
        "#a Python belső operátorainak megfelelő hatékony függvénykészletet exportál.\n",
        "\n",
        "plt.style.use('seaborn-poster')\n",
        "%matplotlib inline\n",
        "from IPython.display import set_matplotlib_formats\n",
        "set_matplotlib_formats('retina')\n",
        "import warnings\n",
        "warnings.filterwarnings(\"ignore\")"
      ],
      "execution_count": null,
      "outputs": []
    },
    {
      "cell_type": "code",
      "metadata": {
        "id": "YrNxsvEm-_cU"
      },
      "source": [
        "confirmed_df = pd.read_csv('https://raw.githubusercontent.com/CSSEGISandData/COVID-19/master/csse_covid_19_data/csse_covid_19_time_series/time_series_covid19_confirmed_global.csv')\n",
        "deaths_df = pd.read_csv('https://raw.githubusercontent.com/CSSEGISandData/COVID-19/master/csse_covid_19_data/csse_covid_19_time_series/time_series_covid19_deaths_global.csv')\n",
        "# recoveries_df = pd.read_csv('https://raw.githubusercontent.com/CSSEGISandData/COVID-19/master/csse_covid_19_data/csse_covid_19_time_series/time_series_covid19_recovered_global.csv')\n",
        "latest_data = pd.read_csv('https://raw.githubusercontent.com/CSSEGISandData/COVID-19/master/csse_covid_19_data/csse_covid_19_daily_reports/10-22-2021.csv')\n",
        "us_medical_data = pd.read_csv('https://raw.githubusercontent.com/CSSEGISandData/COVID-19/master/csse_covid_19_data/csse_covid_19_daily_reports_us/10-22-2021.csv')"
      ],
      "execution_count": null,
      "outputs": []
    },
    {
      "cell_type": "code",
      "metadata": {
        "id": "4VAmBKV3_Chs"
      },
      "source": [
        "latest_data.head() #elso sorok kiirasa"
      ],
      "execution_count": null,
      "outputs": []
    },
    {
      "cell_type": "code",
      "metadata": {
        "id": "-efPXFSJ_GLk"
      },
      "source": [
        "confirmed_df.head() #elso sorok kiirasa"
      ],
      "execution_count": null,
      "outputs": []
    },
    {
      "cell_type": "code",
      "metadata": {
        "id": "uvM3Bj6t_IX8"
      },
      "source": [
        "us_medical_data.head() #elso sorok kiirasa"
      ],
      "execution_count": null,
      "outputs": []
    },
    {
      "cell_type": "code",
      "metadata": {
        "id": "FmY3B8yB_Nj7"
      },
      "source": [
        "cols = confirmed_df.keys()"
      ],
      "execution_count": null,
      "outputs": []
    },
    {
      "cell_type": "markdown",
      "metadata": {
        "id": "2EzsVBwk_QPs"
      },
      "source": [
        "### **Get all the dates for the ongoing coronavirus pandemic**"
      ]
    },
    {
      "cell_type": "code",
      "metadata": {
        "id": "sJ-ibyAh_RV8"
      },
      "source": [
        "confirmed = confirmed_df.loc[:, cols[4]:cols[-1]]\n",
        "deaths = deaths_df.loc[:, cols[4]:cols[-1]]"
      ],
      "execution_count": null,
      "outputs": []
    },
    {
      "cell_type": "code",
      "metadata": {
        "id": "fAlBJvUn_Txs"
      },
      "source": [
        "dates = confirmed.keys()\n",
        "world_cases = []\n",
        "total_deaths = [] \n",
        "mortality_rate = []\n",
        "\n",
        "for i in dates:\n",
        "    confirmed_sum = confirmed[i].sum()\n",
        "    death_sum = deaths[i].sum()\n",
        "    \n",
        "    world_cases.append(confirmed_sum)\n",
        "    total_deaths.append(death_sum)\n",
        "    \n",
        "    # calculate rates\n",
        "    mortality_rate.append(death_sum/confirmed_sum)"
      ],
      "execution_count": null,
      "outputs": []
    },
    {
      "cell_type": "code",
      "metadata": {
        "id": "I1T2gPUL_Zvs"
      },
      "source": [
        "print(mortality_rate)"
      ],
      "execution_count": null,
      "outputs": []
    },
    {
      "cell_type": "markdown",
      "metadata": {
        "id": "c-LPFdNRCf6-"
      },
      "source": [
        "### **Getting daily increases and moving averages**\n",
        "\n"
      ]
    },
    {
      "cell_type": "code",
      "metadata": {
        "id": "GQ57-BnPCgcP"
      },
      "source": [
        "def daily_increase(data):\n",
        "    d = [] \n",
        "    for i in range(len(data)):\n",
        "        if i == 0:\n",
        "            d.append(data[0])\n",
        "        else:\n",
        "            d.append(data[i]-data[i-1])\n",
        "    return d \n",
        "\n",
        "def moving_average(data, window_size):\n",
        "    moving_average = []\n",
        "    for i in range(len(data)):\n",
        "        if i + window_size < len(data):\n",
        "            moving_average.append(np.mean(data[i:i+window_size]))\n",
        "        else:\n",
        "            moving_average.append(np.mean(data[i:len(data)]))\n",
        "    return moving_average\n",
        "\n",
        "window = 7\n",
        "\n",
        "# confirmed cases\n",
        "world_daily_increase = daily_increase(world_cases)\n",
        "world_confirmed_avg= moving_average(world_cases, window)\n",
        "world_daily_increase_avg = moving_average(world_daily_increase, window)\n",
        "\n",
        "# deaths\n",
        "world_daily_death = daily_increase(total_deaths)\n",
        "world_death_avg = moving_average(total_deaths, window)\n",
        "world_daily_death_avg = moving_average(world_daily_death, window)"
      ],
      "execution_count": null,
      "outputs": []
    },
    {
      "cell_type": "code",
      "metadata": {
        "id": "xqfzWn7BCiAu"
      },
      "source": [
        "days_since_1_22 = np.array([i for i in range(len(dates))]).reshape(-1, 1)\n",
        "world_cases = np.array(world_cases).reshape(-1, 1)\n",
        "total_deaths = np.array(total_deaths).reshape(-1, 1)"
      ],
      "execution_count": null,
      "outputs": []
    },
    {
      "cell_type": "code",
      "metadata": {
        "id": "oP4mJvLyCjWh"
      },
      "source": [
        "print(world_confirmed_avg)"
      ],
      "execution_count": null,
      "outputs": []
    },
    {
      "cell_type": "code",
      "metadata": {
        "id": "YetNKSaxCktE"
      },
      "source": [
        "print(world_daily_increase_avg)"
      ],
      "execution_count": null,
      "outputs": []
    },
    {
      "cell_type": "code",
      "metadata": {
        "id": "-inNY3ZBCmOd"
      },
      "source": [
        "print(world_death_avg)"
      ],
      "execution_count": null,
      "outputs": []
    },
    {
      "cell_type": "code",
      "metadata": {
        "id": "7_On5Iw1Cnc5"
      },
      "source": [
        "print(world_daily_death_avg)"
      ],
      "execution_count": null,
      "outputs": []
    },
    {
      "cell_type": "markdown",
      "metadata": {
        "id": "_81XtgUwEkuA"
      },
      "source": [
        "### **Future forcasting**"
      ]
    },
    {
      "cell_type": "code",
      "metadata": {
        "id": "q9Do0pjYEm14"
      },
      "source": [
        "days_in_future = 10\n",
        "future_forcast = np.array([i for i in range(len(dates)+days_in_future)]).reshape(-1, 1)\n",
        "adjusted_dates = future_forcast[:-10]"
      ],
      "execution_count": null,
      "outputs": []
    },
    {
      "cell_type": "markdown",
      "metadata": {
        "id": "V7BPa3ZNFU0h"
      },
      "source": [
        "###**Convert integer into datetime for better visualization**"
      ]
    },
    {
      "cell_type": "code",
      "metadata": {
        "id": "ELRa9r0IFXPb"
      },
      "source": [
        "start = '1/22/2020'\n",
        "start_date = datetime.datetime.strptime(start, '%m/%d/%Y')\n",
        "future_forcast_dates = []\n",
        "for i in range(len(future_forcast)):\n",
        "    future_forcast_dates.append((start_date + datetime.timedelta(days=i)).strftime('%m/%d/%Y'))"
      ],
      "execution_count": null,
      "outputs": []
    },
    {
      "cell_type": "code",
      "metadata": {
        "id": "twA1SWWoFc-k"
      },
      "source": [
        "days_to_skip = 376\n",
        "X_train_confirmed, X_test_confirmed, y_train_confirmed, y_test_confirmed = train_test_split(days_since_1_22[days_to_skip:], world_cases[days_to_skip:], test_size=0.08, shuffle=False) "
      ],
      "execution_count": null,
      "outputs": []
    }
  ]
}