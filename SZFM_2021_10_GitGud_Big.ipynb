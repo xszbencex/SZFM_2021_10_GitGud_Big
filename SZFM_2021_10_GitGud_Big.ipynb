{
  "nbformat": 4,
  "nbformat_minor": 0,
  "metadata": {
    "colab": {
      "name": " SZFM_2021_10_GitGud_Big.ipynb",
      "private_outputs": true,
      "provenance": [],
      "collapsed_sections": [
        "hx12PC6kgvek",
        "oqpJA3LzaXXM",
        "Qq7V3OUZZoy2"
      ],
      "toc_visible": true,
      "include_colab_link": true
    },
    "kernelspec": {
      "name": "python3",
      "display_name": "Python 3"
    },
    "language_info": {
      "name": "python"
    },
    "accelerator": "GPU"
  },
  "cells": [
    {
      "cell_type": "markdown",
      "metadata": {
        "id": "view-in-github",
        "colab_type": "text"
      },
      "source": [
        "<a href=\"https://colab.research.google.com/github/xszbencex/SZFM_2021_10_GitGud_Big/blob/main/SZFM_2021_10_GitGud_Big.ipynb\" target=\"_parent\"><img src=\"https://colab.research.google.com/assets/colab-badge.svg\" alt=\"Open In Colab\"/></a>"
      ]
    },
    {
      "cell_type": "markdown",
      "metadata": {
        "id": "NELP5Ko6HCWM"
      },
      "source": [
        "---\n",
        "### **COVID19 prediction and forecasting using machine learning**\n",
        "---"
      ]
    },
    {
      "cell_type": "markdown",
      "metadata": {
        "id": "hx12PC6kgvek"
      },
      "source": [
        "### **Import all needed packages/libraries**"
      ]
    },
    {
      "cell_type": "code",
      "metadata": {
        "id": "5m9geH0Hyru2"
      },
      "source": [
        "import pandas as pd \n",
        "import matplotlib.pyplot as plt \n",
        "import seaborn as sns\n",
        "import numpy as np\n",
        "import datetime as dt\n",
        "\n",
        "from datetime import timedelta \n",
        "from sklearn.linear_model import LinearRegression \n",
        "from sklearn.svm import SVR \n",
        "from statsmodels.tsa.api import Holt"
      ],
      "execution_count": null,
      "outputs": []
    },
    {
      "cell_type": "markdown",
      "metadata": {
        "id": "oqpJA3LzaXXM"
      },
      "source": [
        "### **Import dataset**"
      ]
    },
    {
      "cell_type": "code",
      "metadata": {
        "id": "gCbwtGvwm2kF"
      },
      "source": [
        "url = 'https://raw.githubusercontent.com/xszbencex/SZFM_2021_10_GitGud_Big/main/Dataset/covid_19_data.csv'\n",
        "covid = pd.read_csv(url)"
      ],
      "execution_count": null,
      "outputs": []
    },
    {
      "cell_type": "code",
      "metadata": {
        "id": "NDkm1r_En3uI"
      },
      "source": [
        "covid.tail(20)"
      ],
      "execution_count": null,
      "outputs": []
    },
    {
      "cell_type": "code",
      "metadata": {
        "id": "9yQNV5YRn48o"
      },
      "source": [
        "covid.head(20)"
      ],
      "execution_count": null,
      "outputs": []
    },
    {
      "cell_type": "code",
      "metadata": {
        "id": "HKMGxsYtn8NP"
      },
      "source": [
        "print(\"Size/Shape of the dataset\",covid.shape)\n",
        "print(\"Checking for null values\",covid.isnull().sum())\n",
        "print(\"Checking Data-type\",covid.dtypes)"
      ],
      "execution_count": null,
      "outputs": []
    },
    {
      "cell_type": "code",
      "metadata": {
        "id": "igWlJTjJoHhn"
      },
      "source": [
        "covid.drop([\"SNo\"],1,inplace=True)"
      ],
      "execution_count": null,
      "outputs": []
    },
    {
      "cell_type": "code",
      "metadata": {
        "id": "t1rBG1ePoNLf"
      },
      "source": [
        "covid.isnull().sum()"
      ],
      "execution_count": null,
      "outputs": []
    },
    {
      "cell_type": "code",
      "metadata": {
        "id": "zc-Hz0I9oRIv"
      },
      "source": [
        "covid[\"ObservationDate\"] = pd.to_datetime(covid[\"ObservationDate\"])"
      ],
      "execution_count": null,
      "outputs": []
    },
    {
      "cell_type": "markdown",
      "metadata": {
        "id": "Qq7V3OUZZoy2"
      },
      "source": [
        "### **Grouping different types of cases**\n",
        "\n",
        "### **ObservationDate**"
      ]
    },
    {
      "cell_type": "code",
      "metadata": {
        "id": "FBXfsbnSZ0uD"
      },
      "source": [
        "datewise = covid.groupby([\"ObservationDate\"]).agg({\"Confirmed\":\"sum\",\"Recovered\":\"sum\",\"Deaths\":\"sum\"})"
      ],
      "execution_count": null,
      "outputs": []
    },
    {
      "cell_type": "code",
      "metadata": {
        "id": "Z1buH0APbAsi"
      },
      "source": [
        "print(\"Basic Information\")\n",
        "print(\"Total number of Confirmed cases around the world\",datewise[\"Confirmed\"].iloc[-1])\n",
        "print(\"Total number of Recovered cases around the world\",datewise[\"Recovered\"].iloc[-1])\n",
        "print(\"Total number of Death cases around the world\",datewise[\"Deaths\"].iloc[-1])\n",
        "print(\"Total number of Active cases around the world\",(datewise[\"Confirmed\"].iloc[-1]-datewise[\"Recovered\"].iloc[-1]-datewise[\"Deaths\"].iloc[-1]))\n",
        "print(\"Total number of Closed cases around the world\",(datewise[\"Recovered\"].iloc[-1]+datewise[\"Deaths\"].iloc[-1]))"
      ],
      "execution_count": null,
      "outputs": []
    },
    {
      "cell_type": "code",
      "metadata": {
        "id": "1aOUTl7acVEI"
      },
      "source": [
        "plt.figure(figsize=(20,10))\n",
        "sns.barplot(x=datewise.index.date,y=datewise[\"Confirmed\"]-datewise[\"Recovered\"]-datewise[\"Deaths\"])\n",
        "plt.title(\"Distributions plot for Active Cases\")\n",
        "plt.xticks(rotation=90)"
      ],
      "execution_count": null,
      "outputs": []
    },
    {
      "cell_type": "code",
      "metadata": {
        "id": "Fu1hlIvLccz4"
      },
      "source": [
        "plt.figure(figsize=(20,10))\n",
        "sns.barplot(x=datewise.index.date,y=datewise[\"Recovered\"]+datewise[\"Deaths\"])\n",
        "plt.title(\"Distribution plot for Closed Cases\")\n",
        "plt.xticks(rotation=90)"
      ],
      "execution_count": null,
      "outputs": []
    },
    {
      "cell_type": "markdown",
      "metadata": {
        "id": "HM96nrI-gnxa"
      },
      "source": [
        "### **Segregating weekly rises**"
      ]
    },
    {
      "cell_type": "code",
      "metadata": {
        "id": "rlzMa0uBgvGb"
      },
      "source": [
        "datewise[\"WeekofYear\"] = datewise.index.weekofyear\n",
        "week_num = [] #weekly progress\n",
        "weekwise_confirmed = [] #weekly progress for different types of cases \n",
        "weekwise_recovered = []\n",
        "weekwise_deaths = []\n",
        "w = 1\n",
        "for i in list(datewise[\"WeekofYear\"].unique()):\n",
        "    weekwise_confirmed.append(datewise[datewise[\"WeekofYear\"]==i][\"Confirmed\"].iloc[-1])\n",
        "    weekwise_recovered.append(datewise[datewise[\"WeekofYear\"]==i][\"Recovered\"].iloc[-1])\n",
        "    weekwise_deaths.append(datewise[datewise[\"WeekofYear\"]==i][\"Deaths\"].iloc[-1])\n",
        "    week_num.append(w)\n",
        "    w=w+1\n",
        "plt.figure(figsize=(20,10))\n",
        "plt.plot(week_num,weekwise_confirmed,linewidth=2)\n",
        "plt.plot(week_num,weekwise_recovered,linewidth =2)\n",
        "plt.plot(week_num,weekwise_deaths,linewidth = 2)\n",
        "plt.xlabel(\"WeekNumber\")\n",
        "plt.ylabel(\"Number of cases\")\n",
        "plt.title(\"Weekly Progress of different types of cases\")"
      ],
      "execution_count": null,
      "outputs": []
    },
    {
      "cell_type": "markdown",
      "metadata": {
        "id": "5LP0dua3C-Xp"
      },
      "source": [
        "### **Segregating most number of Confirmed and Death Cases increases in a week**"
      ]
    },
    {
      "cell_type": "code",
      "metadata": {
        "id": "L4XF8r8iDNMN"
      },
      "source": [
        "fig,(ax1,ax2) = plt.subplots(1,2,figsize=(20,10))\n",
        "sns.barplot(x= week_num,y=pd.Series(weekwise_confirmed).diff().fillna(0),ax=ax1)\n",
        "sns.barplot(x= week_num,y=pd.Series(weekwise_deaths).diff().fillna(0),ax=ax2)\n",
        "ax1.set_xlabel(\"Week Number\")\n",
        "ax2.set_xlabel(\"Week Number\")\n",
        "ax1.set_ylabel(\"Numberof Confirmed cases\")\n",
        "ax2.set_ylabel(\"Numberof Death cases\")\n",
        "ax1.set_title(\"Weekly increase in number of Confirmed cases\")\n",
        "ax2.set_title(\"Weekly increase in number of Death Cases\")\n",
        "plt.show()"
      ],
      "execution_count": null,
      "outputs": []
    },
    {
      "cell_type": "markdown",
      "metadata": {
        "id": "QEmmU3bWLnm_"
      },
      "source": [
        "### **Segregating Average increasing number of cases**"
      ]
    },
    {
      "cell_type": "code",
      "metadata": {
        "id": "TkqQWmLwL1A1"
      },
      "source": [
        "print(\"Average increase in number of Confirmed cases everyday:\",np.round(datewise[\"Confirmed\"].diff().fillna(0).mean()))\n",
        "print(\"Average increase in number of Recovered cases everyday:\",np.round(datewise[\"Recovered\"].diff().fillna(0).mean()))\n",
        "print(\"Average increase in number of Death cases everyday:\",np.round(datewise[\"Deaths\"].diff().fillna(0).mean()))\n",
        "\n",
        "plt.figure(figsize=(20,10))\n",
        "plt.plot(datewise[\"Confirmed\"].diff().fillna(0),label=\"Daily increase in confirmed cases\",linewidth=2)\n",
        "plt.plot(datewise[\"Recovered\"].diff().fillna(0),label=\"Daily increase in recovered cases\",linewidth=2)\n",
        "plt.plot(datewise[\"Deaths\"].diff().fillna(0),label=\"Daily increase in death cases\",linewidth=2)\n",
        "plt.xlabel(\"Timestamp\")\n",
        "plt.ylabel(\"Daily increase\")\n",
        "plt.title(\"Daily increase\")\n",
        "plt.legend()\n",
        "plt.xticks(rotation=90)\n",
        "plt.show()"
      ],
      "execution_count": null,
      "outputs": []
    },
    {
      "cell_type": "markdown",
      "metadata": {
        "id": "Vx4gieH5MIlZ"
      },
      "source": [
        "### **Calculating country wise mortality rate**"
      ]
    },
    {
      "cell_type": "code",
      "metadata": {
        "id": "GU6jC0DvMMuA"
      },
      "source": [
        "countrywise= covid[covid[\"ObservationDate\"]==covid[\"ObservationDate\"].max()].groupby([\"Country/Region\"]).agg({\"Confirmed\":\"sum\",\"Recovered\":\"sum\",\"Deaths\":\"sum\"}).sort_values([\"Confirmed\"],ascending=False)\n",
        "countrywise[\"Mortality\"]=(countrywise[\"Deaths\"]/countrywise[\"Recovered\"])*100\n",
        "countrywise[\"Recovered\"]=(countrywise[\"Recovered\"]/countrywise[\"Confirmed\"])*100"
      ],
      "execution_count": null,
      "outputs": []
    },
    {
      "cell_type": "code",
      "metadata": {
        "id": "ELZtTxjUNV2e"
      },
      "source": [
        "fig,(ax1,ax2)=plt.subplots(1,2,figsize=(25,10))\n",
        "top_15confirmed = countrywise.sort_values([\"Confirmed\"],ascending=False).head(15)\n",
        "top_15deaths = countrywise.sort_values([\"Deaths\"],ascending=False).head(15)\n",
        "sns.barplot(x=top_15confirmed[\"Confirmed\"],y=top_15confirmed.index,ax=ax1)\n",
        "ax1.set_title(\"Top 15 countries as per number of confirmed cases\")\n",
        "sns.barplot(x=top_15deaths[\"Deaths\"],y=top_15deaths.index,ax=ax2)\n",
        "ax1.set_title(\"Top 15 countries as per number of death cases\")"
      ],
      "execution_count": null,
      "outputs": []
    },
    {
      "cell_type": "markdown",
      "metadata": {
        "id": "gUYDvI2DzDIo"
      },
      "source": [
        "\n",
        "\n",
        "### **Data analysis for India**\n",
        "\n"
      ]
    },
    {
      "cell_type": "code",
      "metadata": {
        "id": "0PNuXsbnzlJh"
      },
      "source": [
        "india_data = covid[covid[\"Country/Region\"]==\"India\"]\n",
        "datewise_india = india_data.groupby([\"ObservationDate\"]).agg({\"Confirmed\":\"sum\",\"Recovered\":\"sum\",\"Deaths\":\"sum\"})\n",
        "print(datewise_india.iloc[-1])\n",
        "print(\"Total Active Cases\",datewise_india[\"Confirmed\"].iloc[-1]-datewise_india[\"Recovered\"].iloc[-1]-datewise_india[\"Deaths\"].iloc[-1])\n",
        "print(\"Total Closed Cases\",datewise_india[\"Recovered\"].iloc[-1]+datewise_india[\"Deaths\"].iloc[-1])"
      ],
      "execution_count": null,
      "outputs": []
    },
    {
      "cell_type": "markdown",
      "metadata": {
        "id": "GqwJFyBvzKUT"
      },
      "source": [
        "### **Data analysis for US**"
      ]
    },
    {
      "cell_type": "code",
      "metadata": {
        "id": "70Tr3ip1zmpX"
      },
      "source": [
        "\n",
        "us_data = covid[covid[\"Country/Region\"]==\"US\"]\n",
        "datewise_us = us_data.groupby([\"ObservationDate\"]).agg({\"Confirmed\":\"sum\",\"Recovered\":\"sum\",\"Deaths\":\"sum\"})\n",
        "print(datewise_us.iloc[-1])\n",
        "print(\"Total Active Cases\",datewise_us[\"Confirmed\"].iloc[-1]-datewise_us[\"Recovered\"].iloc[-1]-datewise_us[\"Deaths\"].iloc[-1])\n",
        "print(\"Total Closed Cases\",datewise_us[\"Recovered\"].iloc[-1]+datewise_us[\"Deaths\"].iloc[-1])"
      ],
      "execution_count": null,
      "outputs": []
    },
    {
      "cell_type": "markdown",
      "metadata": {
        "id": "Lbsd5GkU2I8I"
      },
      "source": [
        " ### **Segregating weekly rises for India**\n",
        "\n"
      ]
    },
    {
      "cell_type": "code",
      "metadata": {
        "id": "0qnot1d4zoAQ"
      },
      "source": [
        "datewise_india[\"WeekofYear\"] = datewise_india.index.weekofyear\n",
        "week_num_india = []\n",
        "india_weekwise_confirmed = []\n",
        "india_weekwise_recovered = []\n",
        "india_weekwise_deaths = []\n",
        "w = 1\n",
        "for i in list(datewise_india[\"WeekofYear\"].unique()):\n",
        "    india_weekwise_confirmed.append(datewise_india[datewise_india[\"WeekofYear\"]==i][\"Confirmed\"].iloc[-1])\n",
        "    india_weekwise_recovered.append(datewise_india[datewise_india[\"WeekofYear\"]==i][\"Recovered\"].iloc[-1])\n",
        "    india_weekwise_deaths.append(datewise_india[datewise_india[\"WeekofYear\"]==i][\"Deaths\"].iloc[-1])\n",
        "    week_num_india.append(w)\n",
        "    w=w+1\n",
        "plt.figure(figsize=(8,5))\n",
        "plt.plot(week_num_india,india_weekwise_confirmed,linewidth=3)\n",
        "plt.plot(week_num_india,india_weekwise_recovered,linewidth =3)\n",
        "plt.plot(week_num_india,india_weekwise_deaths,linewidth = 3)\n",
        "plt.xlabel(\"WeekNumber\")\n",
        "plt.ylabel(\"Number of cases\")\n",
        "plt.title(\"Weekly Progress of different types of cases\")"
      ],
      "execution_count": null,
      "outputs": []
    },
    {
      "cell_type": "markdown",
      "metadata": {
        "id": "juaK7-1sqpRN"
      },
      "source": [
        "\n",
        "\n",
        "### **Segregating country wise analysis**\n",
        "\n"
      ]
    },
    {
      "cell_type": "code",
      "metadata": {
        "id": "UJv97LzUzpLV"
      },
      "source": [
        "china_data = covid[covid[\"Country/Region\"]==\"Mainland China\"]\n",
        "Italy_data = covid[covid[\"Country/Region\"]==\"Italy\"]\n",
        "US_data = covid[covid[\"Country/Region\"]==\"US\"]\n",
        "spain_data = covid[covid[\"Country/Region\"]==\"Spain\"]\n",
        "\n",
        "datewise_china = china_data.groupby([\"ObservationDate\"]).agg({\"Confirmed\":\"sum\",\"Recovered\":\"sum\",\"Deaths\":\"sum\"})\n",
        "datewise_Italy = Italy_data.groupby([\"ObservationDate\"]).agg({\"Confirmed\":\"sum\",\"Recovered\":\"sum\",\"Deaths\":\"sum\"})\n",
        "datewise_US=US_data.groupby([\"ObservationDate\"]).agg({\"Confirmed\":\"sum\",\"Recovered\":\"sum\",\"Deaths\":\"sum\"})\n",
        "datewise_Spain=spain_data.groupby([\"ObservationDate\"]).agg({\"Confirmed\":\"sum\",\"Recovered\":\"sum\",\"Deaths\":\"sum\"})\n",
        "\n",
        "max_ind = datewise_india[\"Confirmed\"].max()\n",
        "max_it = datewise_Italy[\"Confirmed\"].max()\n",
        "max_us = datewise_US[\"Confirmed\"].max()\n",
        "max_spain = datewise_Spain[\"Confirmed\"].max()\n",
        "max_china = datewise_china[\"Confirmed\"].max()\n",
        "\n",
        "print(\"It took\",datewise_india[datewise_india[\"Confirmed\"]>0].shape[0],\"days in India to reach\",max_ind,\"Confirmed Cases\")\n",
        "print(\"It took\",datewise_Italy[datewise_Italy[\"Confirmed\"]>0].shape[0],\"days in Italy to reach\",max_it,\"Confirmed Cases\")\n",
        "print(\"It took\",datewise_US[datewise_US[\"Confirmed\"]>0].shape[0],\"days in US to reach\",max_us,\"Confirmed Cases\")\n",
        "print(\"It took\",datewise_Spain[datewise_Spain[\"Confirmed\"]>0].shape[0],\"days in Spain to reach\",max_spain,\"Confirmed Cases\")\n",
        "print(\"It took\",datewise_china[datewise_china[\"Confirmed\"]>0].shape[0],\"days in China to reach\",max_china,\"Confirmed Cases\")\n"
      ],
      "execution_count": null,
      "outputs": []
    },
    {
      "cell_type": "markdown",
      "metadata": {
        "id": "50QmoO0I76-l"
      },
      "source": [
        "\n",
        "> ### **Creating a Model Training using the current Dataset**\n"
      ]
    },
    {
      "cell_type": "code",
      "metadata": {
        "id": "iohQ4GUU76VB"
      },
      "source": [
        "datewise[\"Days Since\"]=datewise.index-datewise.index[0]\n",
        "datewise[\"Days Since\"] = datewise[\"Days Since\"].dt.days\n",
        "train_ml = datewise.iloc[:int(datewise.shape[0]*0.95)]\n",
        "valid_ml = datewise.iloc[:int(datewise.shape[0]*0.95):]\n",
        "model_scores=[]"
      ],
      "execution_count": null,
      "outputs": []
    },
    {
      "cell_type": "code",
      "metadata": {
        "id": "hAYgc5H-8FLp"
      },
      "source": [
        "lin_reg = LinearRegression(normalize=True)\n",
        "svm = SVR(C=1,degree=5,kernel='poly',epsilon=0.001)\n",
        "lin_reg.fit(np.array(train_ml[\"Days Since\"]).reshape(-1,1),np.array(train_ml[\"Confirmed\"]).reshape(-1,1))\n",
        "svm.fit(np.array(train_ml[\"Days Since\"]).reshape(-1,1),np.array(train_ml[\"Confirmed\"]).reshape(-1,1))"
      ],
      "execution_count": null,
      "outputs": []
    },
    {
      "cell_type": "code",
      "metadata": {
        "id": "jLLvzNzq8HBa"
      },
      "source": [
        "prediction_valid_lin_reg = lin_reg.predict(np.array(valid_ml[\"Days Since\"]).reshape(-1,1))\n",
        "prediction_valid_svm = svm.predict(np.array(valid_ml[\"Days Since\"]).reshape(-1,1))"
      ],
      "execution_count": null,
      "outputs": []
    },
    {
      "cell_type": "code",
      "metadata": {
        "id": "SWpeU-iY8Izd"
      },
      "source": [
        "new_date = []\n",
        "new_prediction_lr=[]\n",
        "new_prediction_svm=[]\n",
        "for i in range(1,18):\n",
        "  new_date.append(datewise.index[-1]+timedelta(days=i))\n",
        "  new_prediction_lr.append(lin_reg.predict(np.array(datewise[\"Days Since\"].max()+i).reshape(-1,1))[0][0])\n",
        "  new_prediction_svm.append(svm.predict(np.array(datewise[\"Days Since\"].max()+i).reshape(-1,1))[0])\n",
        "pd.set_option(\"display.float_format\",lambda x: '%.f' % x)\n",
        "model_predictions=pd.DataFrame(zip(new_date,new_prediction_lr,new_prediction_svm),columns = [\"Dates\",\"LR\",\"SVR\"])\n",
        "model_predictions.head(5)"
      ],
      "execution_count": null,
      "outputs": []
    },
    {
      "cell_type": "markdown",
      "metadata": {
        "id": "UIkHltJhjtZl"
      },
      "source": [
        "### **Time series analysis to getting the exact data**"
      ]
    },
    {
      "cell_type": "code",
      "metadata": {
        "id": "oBEeiNLTjwhT"
      },
      "source": [
        "model_train=datewise.iloc[:int(datewise.shape[0]*0.85)]\n",
        "valid=datewise.iloc[int(datewise.shape[0]*0.85):]"
      ],
      "execution_count": null,
      "outputs": []
    }
  ]
}