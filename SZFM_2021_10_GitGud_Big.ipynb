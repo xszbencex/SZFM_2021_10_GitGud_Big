{
  "nbformat": 4,
  "nbformat_minor": 0,
  "metadata": {
    "colab": {
      "name": " SZFM_2021_10_GitGud_Big.ipynb",
      "private_outputs": true,
      "provenance": [],
      "collapsed_sections": [
        "Qq7V3OUZZoy2",
        "Na8DBQY6hKZd"
      ],
      "include_colab_link": true
    },
    "kernelspec": {
      "name": "python3",
      "display_name": "Python 3"
    },
    "language_info": {
      "name": "python"
    },
    "accelerator": "GPU"
  },
  "cells": [
    {
      "cell_type": "markdown",
      "metadata": {
        "id": "view-in-github",
        "colab_type": "text"
      },
      "source": [
        "<a href=\"https://colab.research.google.com/github/xszbencex/SZFM_2021_10_GitGud_Big/blob/main/SZFM_2021_10_GitGud_Big.ipynb\" target=\"_parent\"><img src=\"https://colab.research.google.com/assets/colab-badge.svg\" alt=\"Open In Colab\"/></a>"
      ]
    },
    {
      "cell_type": "markdown",
      "metadata": {
        "id": "NELP5Ko6HCWM"
      },
      "source": [
        "---\n",
        "# **COVID19 prediction and forecasting using machine learning**\n",
        "---"
      ]
    },
    {
      "cell_type": "markdown",
      "metadata": {
        "id": "hx12PC6kgvek"
      },
      "source": [
        "### **Import all needed packages/libraries**"
      ]
    },
    {
      "cell_type": "code",
      "metadata": {
        "id": "5m9geH0Hyru2"
      },
      "source": [
        "import pandas as pd \n",
        "import matplotlib.pyplot as plt \n",
        "import seaborn as sns\n",
        "import numpy as np\n",
        "import datetime as dt\n",
        "import datetime\n",
        "import plotly.express as px\n",
        "import plotly.express as ex\n",
        "import folium\n",
        "import matplotlib.colors as mcolors \n",
        "import random \n",
        "import math\n",
        "import time \n",
        "\n",
        "from datetime import timedelta \n",
        "from sklearn.linear_model import LinearRegression , BayesianRidge \n",
        "from sklearn.model_selection import RandomizedSearchCV, train_test_split\n",
        "from sklearn.preprocessing import PolynomialFeatures\n",
        "from sklearn.metrics import mean_squared_error, mean_absolute_error\n",
        "from sklearn.svm import SVR \n",
        "from statsmodels.tsa.api import Holt\n",
        "from statsmodels.tsa.statespace.sarimax import SARIMAX\n",
        "from statsmodels.tsa.arima_model import ARIMA\n",
        "from fbprophet import Prophet\n",
        "from fbprophet.plot import plot_plotly, add_changepoints_to_plot\n",
        "\n",
        "import plotly.graph_objects as go\n",
        "\n",
        "import warnings\n",
        "warnings.filterwarnings(\"ignore\")\n",
        "\n",
        "import operator \n",
        "plt.style.use('seaborn-poster')\n",
        "\n",
        "from IPython.display import set_matplotlib_formats\n",
        "set_matplotlib_formats('retina')\n",
        "\n",
        "%matplotlib inline"
      ],
      "execution_count": null,
      "outputs": []
    },
    {
      "cell_type": "markdown",
      "metadata": {
        "id": "oqpJA3LzaXXM"
      },
      "source": [
        "### **Import dataset**"
      ]
    },
    {
      "cell_type": "code",
      "metadata": {
        "id": "gCbwtGvwm2kF"
      },
      "source": [
        "url = 'https://raw.githubusercontent.com/xszbencex/SZFM_2021_10_GitGud_Big/main/Dataset/covid_19_data.csv'\n",
        "covid = pd.read_csv(url)"
      ],
      "execution_count": null,
      "outputs": []
    },
    {
      "cell_type": "code",
      "metadata": {
        "id": "NDkm1r_En3uI"
      },
      "source": [
        "covid.tail(20)"
      ],
      "execution_count": null,
      "outputs": []
    },
    {
      "cell_type": "code",
      "metadata": {
        "id": "9yQNV5YRn48o"
      },
      "source": [
        "covid.head(20)"
      ],
      "execution_count": null,
      "outputs": []
    },
    {
      "cell_type": "code",
      "metadata": {
        "id": "HKMGxsYtn8NP"
      },
      "source": [
        "print(\"Size/Shape of the dataset\",covid.shape)\n",
        "print(\"Checking for null values\",covid.isnull().sum())\n",
        "print(\"Checking Data-type\",covid.dtypes)"
      ],
      "execution_count": null,
      "outputs": []
    },
    {
      "cell_type": "code",
      "metadata": {
        "id": "igWlJTjJoHhn"
      },
      "source": [
        "covid.drop([\"SNo\"],1,inplace=True)"
      ],
      "execution_count": null,
      "outputs": []
    },
    {
      "cell_type": "code",
      "metadata": {
        "id": "t1rBG1ePoNLf"
      },
      "source": [
        "covid.isnull().sum()"
      ],
      "execution_count": null,
      "outputs": []
    },
    {
      "cell_type": "code",
      "metadata": {
        "id": "zc-Hz0I9oRIv"
      },
      "source": [
        "covid[\"ObservationDate\"] = pd.to_datetime(covid[\"ObservationDate\"])"
      ],
      "execution_count": null,
      "outputs": []
    },
    {
      "cell_type": "markdown",
      "metadata": {
        "id": "Qq7V3OUZZoy2"
      },
      "source": [
        "### **Grouping different types of cases**\n",
        "\n",
        "### **ObservationDate**"
      ]
    },
    {
      "cell_type": "code",
      "metadata": {
        "id": "FBXfsbnSZ0uD"
      },
      "source": [
        "datewise = covid.groupby([\"ObservationDate\"]).agg({\"Confirmed\":\"sum\",\"Recovered\":\"sum\",\"Deaths\":\"sum\"})"
      ],
      "execution_count": null,
      "outputs": []
    },
    {
      "cell_type": "code",
      "metadata": {
        "id": "Z1buH0APbAsi"
      },
      "source": [
        "print(\"Basic Information\")\n",
        "print(\"Total number of Confirmed cases around the world\",datewise[\"Confirmed\"].iloc[-1])\n",
        "print(\"Total number of Recovered cases around the world\",datewise[\"Recovered\"].iloc[-1])\n",
        "print(\"Total number of Death cases around the world\",datewise[\"Deaths\"].iloc[-1])\n",
        "print(\"Total number of Active cases around the world\",(datewise[\"Confirmed\"].iloc[-1]-datewise[\"Recovered\"].iloc[-1]-datewise[\"Deaths\"].iloc[-1]))\n",
        "print(\"Total number of Closed cases around the world\",(datewise[\"Recovered\"].iloc[-1]+datewise[\"Deaths\"].iloc[-1]))"
      ],
      "execution_count": null,
      "outputs": []
    },
    {
      "cell_type": "code",
      "metadata": {
        "id": "1aOUTl7acVEI"
      },
      "source": [
        "plt.figure(figsize=(20,10))\n",
        "sns.barplot(x=datewise.index.date,y=datewise[\"Confirmed\"]-datewise[\"Recovered\"]-datewise[\"Deaths\"])\n",
        "plt.title(\"Distributions plot for Active Cases\")\n",
        "plt.xticks(rotation=90)"
      ],
      "execution_count": null,
      "outputs": []
    },
    {
      "cell_type": "code",
      "metadata": {
        "id": "Fu1hlIvLccz4"
      },
      "source": [
        "plt.figure(figsize=(20,10))\n",
        "sns.barplot(x=datewise.index.date,y=datewise[\"Recovered\"]+datewise[\"Deaths\"])\n",
        "plt.title(\"Distribution plot for Closed Cases\")\n",
        "plt.xticks(rotation=90)"
      ],
      "execution_count": null,
      "outputs": []
    },
    {
      "cell_type": "markdown",
      "metadata": {
        "id": "HM96nrI-gnxa"
      },
      "source": [
        "### **Segregating weekly rises**"
      ]
    },
    {
      "cell_type": "code",
      "metadata": {
        "id": "rlzMa0uBgvGb"
      },
      "source": [
        "datewise[\"WeekofYear\"] = datewise.index.weekofyear\n",
        "week_num = [] #weekly progress\n",
        "weekwise_confirmed = [] #weekly progress for different types of cases \n",
        "weekwise_recovered = []\n",
        "weekwise_deaths = []\n",
        "w = 1\n",
        "for i in list(datewise[\"WeekofYear\"].unique()):\n",
        "    weekwise_confirmed.append(datewise[datewise[\"WeekofYear\"]==i][\"Confirmed\"].iloc[-1])\n",
        "    weekwise_recovered.append(datewise[datewise[\"WeekofYear\"]==i][\"Recovered\"].iloc[-1])\n",
        "    weekwise_deaths.append(datewise[datewise[\"WeekofYear\"]==i][\"Deaths\"].iloc[-1])\n",
        "    week_num.append(w)\n",
        "    w=w+1\n",
        "plt.figure(figsize=(20,10))\n",
        "plt.plot(week_num,weekwise_confirmed,linewidth=2)\n",
        "plt.plot(week_num,weekwise_recovered,linewidth =2)\n",
        "plt.plot(week_num,weekwise_deaths,linewidth = 2)\n",
        "plt.xlabel(\"WeekNumber\")\n",
        "plt.ylabel(\"Number of cases\")\n",
        "plt.title(\"Weekly Progress of different types of cases\")"
      ],
      "execution_count": null,
      "outputs": []
    },
    {
      "cell_type": "markdown",
      "metadata": {
        "id": "5LP0dua3C-Xp"
      },
      "source": [
        "### **Segregating most number of Confirmed and Death Cases increases in a week**"
      ]
    },
    {
      "cell_type": "code",
      "metadata": {
        "id": "L4XF8r8iDNMN"
      },
      "source": [
        "fig,(ax1,ax2) = plt.subplots(1,2,figsize=(20,10))\n",
        "sns.barplot(x= week_num,y=pd.Series(weekwise_confirmed).diff().fillna(0),ax=ax1)\n",
        "sns.barplot(x= week_num,y=pd.Series(weekwise_deaths).diff().fillna(0),ax=ax2)\n",
        "ax1.set_xlabel(\"Week Number\")\n",
        "ax2.set_xlabel(\"Week Number\")\n",
        "ax1.set_ylabel(\"Numberof Confirmed cases\")\n",
        "ax2.set_ylabel(\"Numberof Death cases\")\n",
        "ax1.set_title(\"Weekly increase in number of Confirmed cases\")\n",
        "ax2.set_title(\"Weekly increase in number of Death Cases\")\n",
        "plt.show()"
      ],
      "execution_count": null,
      "outputs": []
    },
    {
      "cell_type": "markdown",
      "metadata": {
        "id": "QEmmU3bWLnm_"
      },
      "source": [
        "### **Segregating Average increasing number of cases**"
      ]
    },
    {
      "cell_type": "code",
      "metadata": {
        "id": "TkqQWmLwL1A1"
      },
      "source": [
        "print(\"Average increase in number of Confirmed cases everyday:\",np.round(datewise[\"Confirmed\"].diff().fillna(0).mean()))\n",
        "print(\"Average increase in number of Recovered cases everyday:\",np.round(datewise[\"Recovered\"].diff().fillna(0).mean()))\n",
        "print(\"Average increase in number of Death cases everyday:\",np.round(datewise[\"Deaths\"].diff().fillna(0).mean()))\n",
        "\n",
        "plt.figure(figsize=(20,10))\n",
        "plt.plot(datewise[\"Confirmed\"].diff().fillna(0),label=\"Daily increase in confirmed cases\",linewidth=2)\n",
        "plt.plot(datewise[\"Recovered\"].diff().fillna(0),label=\"Daily increase in recovered cases\",linewidth=2)\n",
        "plt.plot(datewise[\"Deaths\"].diff().fillna(0),label=\"Daily increase in death cases\",linewidth=2)\n",
        "plt.xlabel(\"Timestamp\")\n",
        "plt.ylabel(\"Daily increase\")\n",
        "plt.title(\"Daily increase\")\n",
        "plt.legend()\n",
        "plt.xticks(rotation=90)\n",
        "plt.show()"
      ],
      "execution_count": null,
      "outputs": []
    },
    {
      "cell_type": "markdown",
      "metadata": {
        "id": "Vx4gieH5MIlZ"
      },
      "source": [
        "### **Calculating country wise mortality rate**"
      ]
    },
    {
      "cell_type": "code",
      "metadata": {
        "id": "GU6jC0DvMMuA"
      },
      "source": [
        "countrywise= covid[covid[\"ObservationDate\"]==covid[\"ObservationDate\"].max()].groupby([\"Country/Region\"]).agg({\"Confirmed\":\"sum\",\"Recovered\":\"sum\",\"Deaths\":\"sum\"}).sort_values([\"Confirmed\"],ascending=False)\n",
        "countrywise[\"Mortality\"]=(countrywise[\"Deaths\"]/countrywise[\"Recovered\"])*100\n",
        "countrywise[\"Recovered\"]=(countrywise[\"Recovered\"]/countrywise[\"Confirmed\"])*100"
      ],
      "execution_count": null,
      "outputs": []
    },
    {
      "cell_type": "code",
      "metadata": {
        "id": "ELZtTxjUNV2e"
      },
      "source": [
        "fig,(ax1,ax2)=plt.subplots(1,2,figsize=(25,10))\n",
        "top_15confirmed = countrywise.sort_values([\"Confirmed\"],ascending=False).head(15)\n",
        "top_15deaths = countrywise.sort_values([\"Deaths\"],ascending=False).head(15)\n",
        "sns.barplot(x=top_15confirmed[\"Confirmed\"],y=top_15confirmed.index,ax=ax1)\n",
        "ax1.set_title(\"Top 15 countries as per number of confirmed cases\")\n",
        "sns.barplot(x=top_15deaths[\"Deaths\"],y=top_15deaths.index,ax=ax2)\n",
        "ax1.set_title(\"Top 15 countries as per number of death cases\")"
      ],
      "execution_count": null,
      "outputs": []
    },
    {
      "cell_type": "markdown",
      "metadata": {
        "id": "kU-BzW2GBWhF"
      },
      "source": [
        "# **Forecasting Using LSTM**"
      ]
    },
    {
      "cell_type": "code",
      "metadata": {
        "id": "W40zEdbgzjsC"
      },
      "source": [
        "from pandas.plotting import register_matplotlib_converters\n",
        "register_matplotlib_converters()   \n",
        "from plotly.offline import plot, iplot, init_notebook_mode\n",
        "init_notebook_mode(connected=True)\n",
        "pd.set_option('precision',0)"
      ],
      "execution_count": null,
      "outputs": []
    },
    {
      "cell_type": "code",
      "metadata": {
        "id": "0958_rOrzofW"
      },
      "source": [
        "table = pd.read_csv(url,parse_dates=['ObservationDate'])\n",
        "pd.set_option('display.max_rows', table.shape[0]) \n",
        "pd.set_option('display.max_columns', None)\n",
        "table.style.set_properties(subset=['ad_description'], **{'width-max': '100px'})\n",
        "table.head(10).style.background_gradient(cmap='cool')"
      ],
      "execution_count": null,
      "outputs": []
    },
    {
      "cell_type": "code",
      "metadata": {
        "id": "uiLHa9sB1gPI"
      },
      "source": [
        "table.tail(10).style.background_gradient(cmap='cool')"
      ],
      "execution_count": null,
      "outputs": []
    },
    {
      "cell_type": "code",
      "metadata": {
        "id": "JlQrQRXx13yv"
      },
      "source": [
        "table.describe().style.background_gradient(cmap='prism')"
      ],
      "execution_count": null,
      "outputs": []
    },
    {
      "cell_type": "code",
      "metadata": {
        "id": "k5D-1-3m2Hr2"
      },
      "source": [
        "table['Country/Region'].value_counts().head(20)"
      ],
      "execution_count": null,
      "outputs": []
    },
    {
      "cell_type": "code",
      "metadata": {
        "id": "EjKW9L0v2moN"
      },
      "source": [
        "table.isnull().sum()"
      ],
      "execution_count": null,
      "outputs": []
    },
    {
      "cell_type": "code",
      "metadata": {
        "id": "H2QD7xYU2z7s"
      },
      "source": [
        "cases = ['Confirmed', 'Recovered', 'Deaths', 'Active']\n",
        "table['Active'] = table['Confirmed'] - table['Deaths'] - table['Recovered']\n",
        "table[['Province/State']] = table[['Province/State']].fillna('')\n",
        "table[cases] = table[cases].fillna(0)\n",
        "latest = table[table['ObservationDate'] == max(table['ObservationDate'])].reset_index()\n",
        "\n",
        "latest_grouped = latest['Confirmed'] - latest['Deaths'] - latest['Recovered']\n",
        "latest_grouped = latest.groupby('Country/Region')['Confirmed', 'Deaths', 'Recovered', 'Active'].sum().reset_index()\n",
        "\n",
        "pred = latest_grouped.sort_values(by='Confirmed', ascending=False)\n",
        "pred = pred.reset_index(drop=True)\n",
        "cm = sns.light_palette(\"red\", as_cmap=True)\n",
        "pred.head(11).style.background_gradient(cmap=cm).background_gradient(cmap='Greens',subset=[\"Recovered\"])\\\n",
        ".background_gradient(cmap='Blues',subset=[\"Active\"]).background_gradient(cmap='Oranges',subset=[\"Confirmed\"])"
      ],
      "execution_count": null,
      "outputs": []
    },
    {
      "cell_type": "code",
      "metadata": {
        "id": "XlMNRmt9477x"
      },
      "source": [
        "temp = table.groupby('ObservationDate')['Confirmed', 'Deaths', 'Recovered', 'Active'].sum().reset_index()\n",
        "temp = temp.sort_values('ObservationDate', ascending=False)\n",
        "cm = sns.light_palette(\"red\", as_cmap=True)\n",
        "temp.head(11).style.background_gradient(cmap=cm).background_gradient(cmap='Greens',subset=[\"Recovered\"]).background_gradient(cmap='Blues',subset=[\"Active\"]).background_gradient(cmap='Oranges',subset=[\"Confirmed\"])"
      ],
      "execution_count": null,
      "outputs": []
    },
    {
      "cell_type": "code",
      "metadata": {
        "id": "SoqdZ5DN62du"
      },
      "source": [
        "lstm_data = table.groupby(['ObservationDate']).agg({'Confirmed':'sum','Recovered':'sum','Deaths':'sum'})\n",
        "print(lstm_data)"
      ],
      "execution_count": null,
      "outputs": []
    },
    {
      "cell_type": "code",
      "metadata": {
        "id": "NyhMqcXB8LzQ"
      },
      "source": [
        "lstm_data.shape"
      ],
      "execution_count": null,
      "outputs": []
    },
    {
      "cell_type": "code",
      "metadata": {
        "id": "zB5Pyoai8SR5"
      },
      "source": [
        "training_set = lstm_data.iloc[:,0:1].values\n",
        "from sklearn.preprocessing import MinMaxScaler\n",
        "sc = MinMaxScaler(feature_range=(0,1))\n",
        "training_set_scaled = sc.fit_transform(training_set)"
      ],
      "execution_count": null,
      "outputs": []
    },
    {
      "cell_type": "code",
      "metadata": {
        "id": "Ja79H_1s8gZb"
      },
      "source": [
        "X, y = [], []\n",
        "time_steps = 45\n",
        "for i in range(len(training_set) - time_steps):\n",
        "    x = training_set_scaled[i:(i+time_steps), 0]\n",
        "    X.append(x)\n",
        "    y.append(training_set_scaled[i+time_steps, 0])\n",
        "X = np.array(X)\n",
        "y = np.array(y)"
      ],
      "execution_count": null,
      "outputs": []
    },
    {
      "cell_type": "code",
      "metadata": {
        "id": "MRP_IQ0-8tuu"
      },
      "source": [
        "split = int(len(X) * 0.8)\n",
        "X_train = X[:split]\n",
        "X_test = X[split:]\n",
        "y_train = y[:split]\n",
        "y_test = y[split:]\n",
        "X_train = np.reshape(X_train, (X_train.shape[0], 1, X_train.shape[1]))\n",
        "X_test = np.reshape(X_test, (X_test.shape[0], 1, X_test.shape[1]))"
      ],
      "execution_count": null,
      "outputs": []
    },
    {
      "cell_type": "code",
      "metadata": {
        "id": "cUzML__M85V4"
      },
      "source": [
        "import tensorflow as tf\n",
        "from tensorflow.keras.layers import Dense, Dropout, Input, LSTM\n",
        "from tensorflow.keras.models import Model\n",
        "from tensorflow.keras.models import Sequential\n",
        "from tensorflow.keras.optimizers import RMSprop\n",
        "model = Sequential()\n",
        "model.add(Input(shape=(1, time_steps)))\n",
        "model.add(LSTM(48, return_sequences=True))\n",
        "model.add(Dropout(0.4))\n",
        "model.add(LSTM(48, return_sequences=True))\n",
        "model.add(Dropout(0.2))\n",
        "model.add(LSTM(48))\n",
        "model.add(Dropout(0.2))\n",
        "model.add(Dense(3, activation='relu'))\n",
        "model.compile(loss = 'mean_squared_error',\n",
        "              optimizer = 'adam',\n",
        "              metrics = ['mean_squared_error'])\n",
        "model.summary()"
      ],
      "execution_count": null,
      "outputs": []
    },
    {
      "cell_type": "code",
      "metadata": {
        "id": "mJ2OAogx9LFz"
      },
      "source": [
        "from keras.callbacks import ReduceLROnPlateau\n",
        "batchsize = 100\n",
        "epochs =  100\n",
        "learning_rate_reduction = ReduceLROnPlateau(monitor='val_mean_squared_error', \n",
        "                                            patience=3, \n",
        "                                            verbose=1, \n",
        "                                            factor=0.5, \n",
        "                                            min_lr=1e-10)\n",
        "history = model.fit(X_train,\n",
        "                    y_train,\n",
        "                    batch_size=batchsize,\n",
        "                    epochs=epochs,\n",
        "                    validation_split=0.2,\n",
        "                    shuffle=False,\n",
        "                    callbacks=[learning_rate_reduction])"
      ],
      "execution_count": null,
      "outputs": []
    },
    {
      "cell_type": "code",
      "metadata": {
        "id": "W99olx199WKN"
      },
      "source": [
        "y_pred = model.predict(X_test)\n",
        "y_pred = sc.inverse_transform(y_pred)\n",
        "y_test = sc.inverse_transform(y_test.reshape(-1,1))\n",
        "plt.plot(y_pred, color='red')\n",
        "plt.plot(y_test, color='blue')\n",
        "plt.title('Actual vs. Predicted Covid Cases (Test Data)')\n",
        "plt.ylabel('Number of Cases')\n",
        "plt.xlabel('Day')\n",
        "plt.legend(['predicted1','predicted2','predicted3', 'actual'])"
      ],
      "execution_count": null,
      "outputs": []
    },
    {
      "cell_type": "code",
      "metadata": {
        "id": "nmMUBcW7GSzl"
      },
      "source": [
        "from numpy import asarray\n",
        "print(np.asarray(y_pred))"
      ],
      "execution_count": null,
      "outputs": []
    },
    {
      "cell_type": "code",
      "metadata": {
        "id": "RLlsI26VE-U3"
      },
      "source": [
        "\n",
        "from numpy import asarray\n",
        "from numpy import save\n",
        "\n",
        "data = asarray(y_pred)\n",
        "\n",
        "save('data.npy', data)"
      ],
      "execution_count": null,
      "outputs": []
    },
    {
      "cell_type": "code",
      "metadata": {
        "id": "bkAthKP1Hd6V"
      },
      "source": [
        "\n",
        "from numpy import load\n",
        "\n",
        "data = load('data.npy',allow_pickle=True)\n",
        "\n",
        "print(data)"
      ],
      "execution_count": null,
      "outputs": []
    },
    {
      "cell_type": "markdown",
      "metadata": {
        "id": "dT-5ipT7RcQX"
      },
      "source": [
        "# Time Series univariate LSTM confirmed Iran"
      ]
    },
    {
      "cell_type": "code",
      "metadata": {
        "id": "wWGagB8NMZUG"
      },
      "source": [
        "url = \"https://raw.githubusercontent.com/CSSEGISandData/COVID-19/master/csse_covid_19_data/csse_covid_19_time_series/time_series_covid19_confirmed_global.csv\"\n",
        "df_confirmed = pd.read_csv(url)\n",
        "df_confirmed.head()"
      ],
      "execution_count": null,
      "outputs": []
    },
    {
      "cell_type": "code",
      "metadata": {
        "id": "YQiAFqxzMiJb"
      },
      "source": [
        "country = \"Iran\"\n",
        "df_confirmed1 = df_confirmed[df_confirmed[\"Country/Region\"] == country]\n",
        "df_confirmed1"
      ],
      "execution_count": null,
      "outputs": []
    },
    {
      "cell_type": "code",
      "metadata": {
        "id": "xqEuJAuBMkFl"
      },
      "source": [
        "## structuring times eries data\n",
        "df_confirmed2 = pd.DataFrame(df_confirmed1[df_confirmed1.columns[4:]].sum(),columns=[\"confirmed\"])\n",
        "df_confirmed2.index = pd.to_datetime(df_confirmed2.index,format='%m/%d/%y')\n",
        "df_confirmed2.tail()"
      ],
      "execution_count": null,
      "outputs": []
    },
    {
      "cell_type": "code",
      "metadata": {
        "id": "bppmU80-M29y"
      },
      "source": [
        "## total dead\n",
        "df_dead = pd.read_csv(\"https://raw.githubusercontent.com/CSSEGISandData/COVID-19/master/csse_covid_19_data/csse_covid_19_time_series/time_series_covid19_deaths_global.csv\")\n",
        "df_dead.head()"
      ],
      "execution_count": null,
      "outputs": []
    },
    {
      "cell_type": "code",
      "metadata": {
        "id": "859igaeANR0n"
      },
      "source": [
        "df_dead1 = df_dead[df_dead[\"Country/Region\"] == country]"
      ],
      "execution_count": null,
      "outputs": []
    },
    {
      "cell_type": "code",
      "metadata": {
        "id": "ITJOkPjXNTRh"
      },
      "source": [
        "df_dead2 = pd.DataFrame(df_dead1[df_dead1.columns[4:]].sum(),columns=[\"dead\"])\n",
        "df_dead2.index = pd.to_datetime(df_dead2.index,format='%m/%d/%y')\n",
        "df_dead2.tail()"
      ],
      "execution_count": null,
      "outputs": []
    },
    {
      "cell_type": "code",
      "metadata": {
        "id": "rtoeKuZuNYU_"
      },
      "source": [
        "### recovered\n",
        "df_recovered = pd.read_csv(\"https://raw.githubusercontent.com/CSSEGISandData/COVID-19/master/csse_covid_19_data/csse_covid_19_time_series/time_series_covid19_recovered_global.csv\")\n",
        "df_recovered.head()"
      ],
      "execution_count": null,
      "outputs": []
    },
    {
      "cell_type": "code",
      "metadata": {
        "id": "rblpPmB2NlF2"
      },
      "source": [
        "df_recovered1 = df_recovered[df_recovered[\"Country/Region\"] == country]\n",
        "df_recovered1"
      ],
      "execution_count": null,
      "outputs": []
    },
    {
      "cell_type": "code",
      "metadata": {
        "id": "8stSJ3J-NqcD"
      },
      "source": [
        "df_recovered2 = pd.DataFrame(df_recovered1[df_recovered1.columns[4:]].sum(),columns=[\"recovered\"])\n",
        "df_recovered2.index = pd.to_datetime(df_recovered2.index,format='%m/%d/%y')\n",
        "df_recovered2.tail()"
      ],
      "execution_count": null,
      "outputs": []
    },
    {
      "cell_type": "code",
      "metadata": {
        "id": "DTaF6c9bNrwo"
      },
      "source": [
        "##join confirmed with dead\n",
        "df_conf_dead = df_confirmed2.join(df_dead2,how = \"inner\")\n",
        "df_conf_dead"
      ],
      "execution_count": null,
      "outputs": []
    },
    {
      "cell_type": "code",
      "metadata": {
        "id": "rB4EhZukNtgF"
      },
      "source": [
        "## join confirmed+dead with recovered\n",
        "df_all = df_conf_dead.join(df_recovered2,how = \"inner\")\n",
        "df_all"
      ],
      "execution_count": null,
      "outputs": []
    },
    {
      "cell_type": "code",
      "metadata": {
        "id": "gAmtLxM8N521"
      },
      "source": [
        "#plt.figure(figsize=(5,5))\n",
        "df_all.plot(figsize=(10,5),title=\"Iran\")"
      ],
      "execution_count": null,
      "outputs": []
    },
    {
      "cell_type": "code",
      "metadata": {
        "id": "zjPaaBgrN6Sz"
      },
      "source": [
        "df_confirmed2.plot(title=\"Iran-Confirmed cases\")"
      ],
      "execution_count": null,
      "outputs": []
    },
    {
      "cell_type": "code",
      "metadata": {
        "id": "DYuyOAbUN9Jl"
      },
      "source": [
        "df_new = df_confirmed2[[\"confirmed\"]]\n",
        "df_new.tail(10)"
      ],
      "execution_count": null,
      "outputs": []
    },
    {
      "cell_type": "code",
      "metadata": {
        "id": "_a8CWJ9aN_gu"
      },
      "source": [
        "#daily data and i want to predict 5 days afterwards\n",
        "len(df_new)"
      ],
      "execution_count": null,
      "outputs": []
    },
    {
      "cell_type": "code",
      "metadata": {
        "id": "lPek4QkvN_6L"
      },
      "source": [
        "x = len(df_new)-5\n",
        "x"
      ],
      "execution_count": null,
      "outputs": []
    },
    {
      "cell_type": "code",
      "metadata": {
        "id": "R9Q-96NpOBaV"
      },
      "source": [
        "train=df_new.iloc[:x]\n",
        "test = df_new.iloc[x:]\n",
        "train"
      ],
      "execution_count": null,
      "outputs": []
    },
    {
      "cell_type": "code",
      "metadata": {
        "id": "TUYS5tCDOEoq"
      },
      "source": [
        "##scale or normalize data as the data is too skewed\n",
        "from sklearn.preprocessing import MinMaxScaler\n",
        "scaler = MinMaxScaler()\n",
        "scaler.fit(train) #find max value "
      ],
      "execution_count": null,
      "outputs": []
    },
    {
      "cell_type": "code",
      "metadata": {
        "id": "299ObrI5OIWs"
      },
      "source": [
        "scaled_train = scaler.transform(train)#and divide every point by max value\n",
        "scaled_test = scaler.transform(test)\n",
        "print(scaled_train[-5:])"
      ],
      "execution_count": null,
      "outputs": []
    },
    {
      "cell_type": "code",
      "metadata": {
        "id": "UeMWNMHIOIsz"
      },
      "source": [
        "## feed in batches [t1,t2,t3] --> t4\n",
        "from keras.preprocessing.sequence import TimeseriesGenerator\n",
        "scaled_train.shape"
      ],
      "execution_count": null,
      "outputs": []
    },
    {
      "cell_type": "code",
      "metadata": {
        "id": "Fd6f3HmSOQ6h"
      },
      "source": [
        "## how to decide num of inputs , \n",
        "n_input = 5  ## number of steps\n",
        "n_features = 1 ## number of features you want to predict (for univariate time series n_features=1)\n",
        "generator = TimeseriesGenerator(scaled_train,scaled_train,length = n_input,batch_size=1)"
      ],
      "execution_count": null,
      "outputs": []
    },
    {
      "cell_type": "code",
      "metadata": {
        "id": "Ljs4LEuGOSnD"
      },
      "source": [
        "len(scaled_train)"
      ],
      "execution_count": null,
      "outputs": []
    },
    {
      "cell_type": "code",
      "metadata": {
        "id": "lRLq_briOT-3"
      },
      "source": [
        "len(generator)"
      ],
      "execution_count": null,
      "outputs": []
    },
    {
      "cell_type": "code",
      "metadata": {
        "id": "SJLhGK3qOWom"
      },
      "source": [
        "x,y = generator[50]"
      ],
      "execution_count": null,
      "outputs": []
    },
    {
      "cell_type": "code",
      "metadata": {
        "id": "U84sih9LOYC3"
      },
      "source": [
        "(x.shape,y.shape)"
      ],
      "execution_count": null,
      "outputs": []
    },
    {
      "cell_type": "code",
      "metadata": {
        "id": "zlK06ojKOai2"
      },
      "source": [
        "(x,y)"
      ],
      "execution_count": null,
      "outputs": []
    },
    {
      "cell_type": "code",
      "metadata": {
        "id": "zlIA2SlQOcGM"
      },
      "source": [
        "y"
      ],
      "execution_count": null,
      "outputs": []
    },
    {
      "cell_type": "code",
      "metadata": {
        "id": "QNNF35dBOiao"
      },
      "source": [
        "from keras.models import Sequential\n",
        "from keras.layers import Dense, LSTM, Dropout, Activation"
      ],
      "execution_count": null,
      "outputs": []
    },
    {
      "cell_type": "code",
      "metadata": {
        "id": "c7YzBBpVOk6L"
      },
      "source": [
        "model = Sequential()\n",
        "model.add(LSTM(150,activation=\"relu\",input_shape=(n_input,n_features)))\n",
        "#model.add(Dropout(0.2))\n",
        "model.add(Dense(75, activation='relu'))\n",
        "model.add(Dense(units=1))\n",
        "#model.add(Activation('softmax'))\n",
        "#model.add(Dense(1))\n",
        "model.compile(optimizer=\"adam\",loss=\"mse\")"
      ],
      "execution_count": null,
      "outputs": []
    },
    {
      "cell_type": "code",
      "metadata": {
        "id": "pVKb2318OmnH"
      },
      "source": [
        "model.summary()"
      ],
      "execution_count": null,
      "outputs": []
    },
    {
      "cell_type": "code",
      "metadata": {
        "id": "p1s3XzYKOoKX"
      },
      "source": [
        "validation_set = np.append(scaled_train[55],scaled_test)\n",
        "validation_set=validation_set.reshape(6,1)\n",
        "validation_set"
      ],
      "execution_count": null,
      "outputs": []
    },
    {
      "cell_type": "code",
      "metadata": {
        "id": "M8gyEug1Op7W"
      },
      "source": [
        "## how to decide num of inputs , \n",
        "n_input = 5\n",
        "n_features = 1\n",
        "validation_gen = TimeseriesGenerator(validation_set,validation_set,length=5,batch_size=1)"
      ],
      "execution_count": null,
      "outputs": []
    },
    {
      "cell_type": "code",
      "metadata": {
        "id": "i2PBl4tOOrac"
      },
      "source": [
        "validation_gen[0][0].shape,validation_gen[0][1].shape"
      ],
      "execution_count": null,
      "outputs": []
    },
    {
      "cell_type": "code",
      "metadata": {
        "id": "HQ2WGEuDOthV"
      },
      "source": [
        "from tensorflow.keras.callbacks import EarlyStopping\n",
        "early_stop = EarlyStopping(monitor='val_loss',patience=20,restore_best_weights=True)"
      ],
      "execution_count": null,
      "outputs": []
    },
    {
      "cell_type": "code",
      "metadata": {
        "id": "lIT6XvT-Ov9F"
      },
      "source": [
        "model.fit_generator(generator,validation_data=validation_gen,epochs=100,callbacks=[early_stop],steps_per_epoch=10)"
      ],
      "execution_count": null,
      "outputs": []
    },
    {
      "cell_type": "code",
      "metadata": {
        "id": "1JVhdT7oOzg1"
      },
      "source": [
        "pd.DataFrame(model.history.history).plot(title=\"loss vs epochs curve\")"
      ],
      "execution_count": null,
      "outputs": []
    },
    {
      "cell_type": "code",
      "metadata": {
        "id": "vkv5EHheO1W-"
      },
      "source": [
        "model.history.history.keys()"
      ],
      "execution_count": null,
      "outputs": []
    },
    {
      "cell_type": "code",
      "metadata": {
        "id": "R4x3r3n2O3H1"
      },
      "source": [
        "myloss = model.history.history[\"val_loss\"]\n",
        "plt.title(\"validation loss vs epochs\")\n",
        "plt.plot(range(len(myloss)),myloss)"
      ],
      "execution_count": null,
      "outputs": []
    },
    {
      "cell_type": "code",
      "metadata": {
        "id": "l5-1yrc8O3Bf"
      },
      "source": [
        "## evaluation batch\n",
        "## 5 history steps ---> step 6\n",
        "## last 5 point train predicts point 1 of test data"
      ],
      "execution_count": null,
      "outputs": []
    },
    {
      "cell_type": "code",
      "metadata": {
        "id": "OjAV0FsVO7B9"
      },
      "source": [
        ""
      ],
      "execution_count": null,
      "outputs": []
    },
    {
      "cell_type": "code",
      "metadata": {
        "id": "JtbwMZQ4PCBV"
      },
      "source": [
        "## holding predictions\n",
        "test_prediction = []\n",
        "\n",
        "##last n points from training set\n",
        "first_eval_batch = scaled_train[-n_input:]\n",
        "current_batch = first_eval_batch.reshape(1,n_input,n_features)"
      ],
      "execution_count": null,
      "outputs": []
    },
    {
      "cell_type": "code",
      "metadata": {
        "id": "B1c8DVpnPFEN"
      },
      "source": [
        "current_batch.shape"
      ],
      "execution_count": null,
      "outputs": []
    },
    {
      "cell_type": "code",
      "metadata": {
        "id": "x9k7TCIzPGrl"
      },
      "source": [
        "## how far in future we can predict\n",
        "for i in range(len(test)+7):\n",
        "    current_pred = model.predict(current_batch)[0]\n",
        "    test_prediction.append(current_pred)\n",
        "    current_batch = np.append(current_batch[:,1:,:],[[current_pred]],axis=1)"
      ],
      "execution_count": null,
      "outputs": []
    },
    {
      "cell_type": "code",
      "metadata": {
        "id": "XFIfR34EPIR3"
      },
      "source": [
        "test_prediction"
      ],
      "execution_count": null,
      "outputs": []
    },
    {
      "cell_type": "code",
      "metadata": {
        "id": "SgqutAcPPJwD"
      },
      "source": [
        "### inverse scaled data\n",
        "true_prediction = scaler.inverse_transform(test_prediction)\n",
        "true_prediction[:,0]"
      ],
      "execution_count": null,
      "outputs": []
    },
    {
      "cell_type": "code",
      "metadata": {
        "id": "KrnXoqoFPNMz"
      },
      "source": [
        "time_series_array = test.index\n",
        "for k in range(0,7):\n",
        "    time_series_array = time_series_array.append(time_series_array[-1:] + pd.DateOffset(1))\n",
        "time_series_array"
      ],
      "execution_count": null,
      "outputs": []
    },
    {
      "cell_type": "code",
      "metadata": {
        "id": "oqOWaTkqPOok"
      },
      "source": [
        "df_forecast = pd.DataFrame(columns=[\"confirmed\",\"confirmed_predicted\"],index=time_series_array)\n",
        "df_forecast"
      ],
      "execution_count": null,
      "outputs": []
    },
    {
      "cell_type": "code",
      "metadata": {
        "id": "dEEQaU2MPQbE"
      },
      "source": [
        "df_forecast.loc[:,\"confirmed_predicted\"] = true_prediction[:,0]\n",
        "df_forecast.loc[:,\"confirmed\"] = test[\"confirmed\"]\n",
        "df_forecast"
      ],
      "execution_count": null,
      "outputs": []
    },
    {
      "cell_type": "code",
      "metadata": {
        "id": "SVkzbBpzPSgS"
      },
      "source": [
        "#plt.ylim([80000,85000])\n",
        "df_forecast.plot(title=\"India Predictions for next 7 days\")"
      ],
      "execution_count": null,
      "outputs": []
    },
    {
      "cell_type": "code",
      "metadata": {
        "id": "35HeFnSzPV0Q"
      },
      "source": [
        "MAPE = np.mean(np.abs(np.array(df_forecast[\"confirmed\"][:5]) - np.array(df_forecast[\"confirmed_predicted\"][:5]))/np.array(df_forecast[\"confirmed\"][:5]))\n",
        "print(\"MAPE is \" + str(MAPE*100) + \" %\")"
      ],
      "execution_count": null,
      "outputs": []
    },
    {
      "cell_type": "code",
      "metadata": {
        "id": "RT3RJWISPXNi"
      },
      "source": [
        "sum_errs = np.sum((np.array(df_forecast[\"confirmed\"][:5]) - np.array(df_forecast[\"confirmed_predicted\"][:5]))**2)\n",
        "sum_errs"
      ],
      "execution_count": null,
      "outputs": []
    },
    {
      "cell_type": "code",
      "metadata": {
        "id": "zLQc0YNUPYlM"
      },
      "source": [
        "stdev = np.sqrt(1/(5-2) * sum_errs)\n",
        "stdev"
      ],
      "execution_count": null,
      "outputs": []
    },
    {
      "cell_type": "code",
      "metadata": {
        "id": "0-V4DBXUPaXj"
      },
      "source": [
        "# calculate prediction interval\n",
        "interval = 1.96 * stdev\n",
        "interval"
      ],
      "execution_count": null,
      "outputs": []
    },
    {
      "cell_type": "code",
      "metadata": {
        "id": "JoSIIyVOPbx7"
      },
      "source": [
        "df_forecast[\"confirm_min\"] = df_forecast[\"confirmed_predicted\"] - interval\n",
        "df_forecast[\"confirm_max\"] = df_forecast[\"confirmed_predicted\"] + interval\n",
        "df_forecast"
      ],
      "execution_count": null,
      "outputs": []
    },
    {
      "cell_type": "code",
      "metadata": {
        "id": "BDZaxMvcPdHc"
      },
      "source": [
        "df_forecast[\"Model Accuracy\"] = round((1-MAPE),2)\n",
        "df_forecast"
      ],
      "execution_count": null,
      "outputs": []
    },
    {
      "cell_type": "code",
      "metadata": {
        "id": "P1dbAmgOPetf"
      },
      "source": [
        "from datetime import datetime\n",
        "df_forecast[\"Country\"] = country\n",
        "df_forecast[\"Execution date\"] = str(datetime.now()).split()[0]\n",
        "df_forecast"
      ],
      "execution_count": null,
      "outputs": []
    },
    {
      "cell_type": "code",
      "metadata": {
        "id": "cEkDIhHiPhBH"
      },
      "source": [
        "#df_forecast.to_excel(\"output/Iran_confirmed.xlsx\")"
      ],
      "execution_count": null,
      "outputs": []
    },
    {
      "cell_type": "code",
      "metadata": {
        "id": "SH2V8MJwPjSL"
      },
      "source": [
        "### save model\n",
        "model.save(\"models/confirmed_{0}_{1}.h5\".format(country,str(datetime.now()).split()[0]))"
      ],
      "execution_count": null,
      "outputs": []
    },
    {
      "cell_type": "code",
      "metadata": {
        "id": "QObDivyRPklq"
      },
      "source": [
        "df_forecast.iloc[:,:4].plot()"
      ],
      "execution_count": null,
      "outputs": []
    },
    {
      "cell_type": "code",
      "metadata": {
        "id": "Pm4o4IzoPml8"
      },
      "source": [
        "fig= plt.figure(figsize=(10,5))\n",
        "plt.title(\"{} - Results\".format(country))\n",
        "plt.plot(df_forecast.index,df_forecast[\"confirmed\"],label=\"confirmed\")\n",
        "plt.plot(df_forecast.index,df_forecast[\"confirmed_predicted\"],label=\"confirmed_predicted\")\n",
        "#ax.fill_between(x, (y-ci), (y+ci), color='b', alpha=.1)\n",
        "plt.fill_between(df_forecast.index,df_forecast[\"confirm_min\"],df_forecast[\"confirm_max\"],color=\"indigo\",alpha=0.09,label=\"Confidence Interval\")\n",
        "plt.legend()\n",
        "plt.show()"
      ],
      "execution_count": null,
      "outputs": []
    },
    {
      "cell_type": "code",
      "metadata": {
        "id": "ZtPtvXUpPshA"
      },
      "source": [
        "from keras.models import load_model\n",
        "name = \"models/confirmed_{0}_{1}.h5\".format(country,str(datetime.now()).split()[0])\n",
        "model1 = load_model(name)"
      ],
      "execution_count": null,
      "outputs": []
    },
    {
      "cell_type": "code",
      "metadata": {
        "id": "Jrl-Fh4rPvfz"
      },
      "source": [
        "model1.summary()"
      ],
      "execution_count": null,
      "outputs": []
    },
    {
      "cell_type": "markdown",
      "metadata": {
        "id": "gUYDvI2DzDIo"
      },
      "source": [
        "\n",
        "\n",
        "### **Data analysis for India**\n",
        "\n"
      ]
    },
    {
      "cell_type": "code",
      "metadata": {
        "id": "0PNuXsbnzlJh"
      },
      "source": [
        "india_data = covid[covid[\"Country/Region\"]==\"India\"]\n",
        "datewise_india = india_data.groupby([\"ObservationDate\"]).agg({\"Confirmed\":\"sum\",\"Recovered\":\"sum\",\"Deaths\":\"sum\"})\n",
        "print(datewise_india.iloc[-1])\n",
        "print(\"Total Active Cases\",datewise_india[\"Confirmed\"].iloc[-1]-datewise_india[\"Recovered\"].iloc[-1]-datewise_india[\"Deaths\"].iloc[-1])\n",
        "print(\"Total Closed Cases\",datewise_india[\"Recovered\"].iloc[-1]+datewise_india[\"Deaths\"].iloc[-1])"
      ],
      "execution_count": null,
      "outputs": []
    },
    {
      "cell_type": "markdown",
      "metadata": {
        "id": "GqwJFyBvzKUT"
      },
      "source": [
        "### **Data analysis for US**"
      ]
    },
    {
      "cell_type": "code",
      "metadata": {
        "id": "70Tr3ip1zmpX"
      },
      "source": [
        "\n",
        "us_data = covid[covid[\"Country/Region\"]==\"US\"]\n",
        "datewise_us = us_data.groupby([\"ObservationDate\"]).agg({\"Confirmed\":\"sum\",\"Recovered\":\"sum\",\"Deaths\":\"sum\"})\n",
        "print(datewise_us.iloc[-1])\n",
        "print(\"Total Active Cases\",datewise_us[\"Confirmed\"].iloc[-1]-datewise_us[\"Recovered\"].iloc[-1]-datewise_us[\"Deaths\"].iloc[-1])\n",
        "print(\"Total Closed Cases\",datewise_us[\"Recovered\"].iloc[-1]+datewise_us[\"Deaths\"].iloc[-1])"
      ],
      "execution_count": null,
      "outputs": []
    },
    {
      "cell_type": "markdown",
      "metadata": {
        "id": "Lbsd5GkU2I8I"
      },
      "source": [
        " ### **Segregating weekly rises for India**\n",
        "\n"
      ]
    },
    {
      "cell_type": "code",
      "metadata": {
        "id": "0qnot1d4zoAQ"
      },
      "source": [
        "datewise_india[\"WeekofYear\"] = datewise_india.index.weekofyear\n",
        "week_num_india = []\n",
        "india_weekwise_confirmed = []\n",
        "india_weekwise_recovered = []\n",
        "india_weekwise_deaths = []\n",
        "w = 1\n",
        "for i in list(datewise_india[\"WeekofYear\"].unique()):\n",
        "    india_weekwise_confirmed.append(datewise_india[datewise_india[\"WeekofYear\"]==i][\"Confirmed\"].iloc[-1])\n",
        "    india_weekwise_recovered.append(datewise_india[datewise_india[\"WeekofYear\"]==i][\"Recovered\"].iloc[-1])\n",
        "    india_weekwise_deaths.append(datewise_india[datewise_india[\"WeekofYear\"]==i][\"Deaths\"].iloc[-1])\n",
        "    week_num_india.append(w)\n",
        "    w=w+1\n",
        "plt.figure(figsize=(8,5))\n",
        "plt.plot(week_num_india,india_weekwise_confirmed,linewidth=3)\n",
        "plt.plot(week_num_india,india_weekwise_recovered,linewidth =3)\n",
        "plt.plot(week_num_india,india_weekwise_deaths,linewidth = 3)\n",
        "plt.xlabel(\"WeekNumber\")\n",
        "plt.ylabel(\"Number of cases\")\n",
        "plt.title(\"Weekly Progress of different types of cases\")"
      ],
      "execution_count": null,
      "outputs": []
    },
    {
      "cell_type": "markdown",
      "metadata": {
        "id": "juaK7-1sqpRN"
      },
      "source": [
        "\n",
        "\n",
        "### **Segregating country wise analysis**\n",
        "\n"
      ]
    },
    {
      "cell_type": "code",
      "metadata": {
        "id": "UJv97LzUzpLV"
      },
      "source": [
        "china_data = covid[covid[\"Country/Region\"]==\"Mainland China\"]\n",
        "Italy_data = covid[covid[\"Country/Region\"]==\"Italy\"]\n",
        "US_data = covid[covid[\"Country/Region\"]==\"US\"]\n",
        "spain_data = covid[covid[\"Country/Region\"]==\"Spain\"]\n",
        "\n",
        "datewise_china = china_data.groupby([\"ObservationDate\"]).agg({\"Confirmed\":\"sum\",\"Recovered\":\"sum\",\"Deaths\":\"sum\"})\n",
        "datewise_Italy = Italy_data.groupby([\"ObservationDate\"]).agg({\"Confirmed\":\"sum\",\"Recovered\":\"sum\",\"Deaths\":\"sum\"})\n",
        "datewise_US=US_data.groupby([\"ObservationDate\"]).agg({\"Confirmed\":\"sum\",\"Recovered\":\"sum\",\"Deaths\":\"sum\"})\n",
        "datewise_Spain=spain_data.groupby([\"ObservationDate\"]).agg({\"Confirmed\":\"sum\",\"Recovered\":\"sum\",\"Deaths\":\"sum\"})\n",
        "\n",
        "max_ind = datewise_india[\"Confirmed\"].max()\n",
        "max_it = datewise_Italy[\"Confirmed\"].max()\n",
        "max_us = datewise_US[\"Confirmed\"].max()\n",
        "max_spain = datewise_Spain[\"Confirmed\"].max()\n",
        "max_china = datewise_china[\"Confirmed\"].max()\n",
        "\n",
        "print(\"It took\",datewise_india[datewise_india[\"Confirmed\"]>0].shape[0],\"days in India to reach\",max_ind,\"Confirmed Cases\")\n",
        "print(\"It took\",datewise_Italy[datewise_Italy[\"Confirmed\"]>0].shape[0],\"days in Italy to reach\",max_it,\"Confirmed Cases\")\n",
        "print(\"It took\",datewise_US[datewise_US[\"Confirmed\"]>0].shape[0],\"days in US to reach\",max_us,\"Confirmed Cases\")\n",
        "print(\"It took\",datewise_Spain[datewise_Spain[\"Confirmed\"]>0].shape[0],\"days in Spain to reach\",max_spain,\"Confirmed Cases\")\n",
        "print(\"It took\",datewise_china[datewise_china[\"Confirmed\"]>0].shape[0],\"days in China to reach\",max_china,\"Confirmed Cases\")\n"
      ],
      "execution_count": null,
      "outputs": []
    },
    {
      "cell_type": "markdown",
      "metadata": {
        "id": "50QmoO0I76-l"
      },
      "source": [
        "\n",
        "### **Creating a Model Training using the current Dataset**\n"
      ]
    },
    {
      "cell_type": "code",
      "metadata": {
        "id": "iohQ4GUU76VB"
      },
      "source": [
        "datewise[\"Days Since\"]=datewise.index-datewise.index[0]\n",
        "datewise[\"Days Since\"] = datewise[\"Days Since\"].dt.days\n",
        "train_ml = datewise.iloc[:int(datewise.shape[0]*0.95)]\n",
        "valid_ml = datewise.iloc[:int(datewise.shape[0]*0.95):]\n",
        "model_scores=[]"
      ],
      "execution_count": null,
      "outputs": []
    },
    {
      "cell_type": "code",
      "metadata": {
        "id": "hAYgc5H-8FLp"
      },
      "source": [
        "lin_reg = LinearRegression(normalize=True)\n",
        "svm = SVR(C=1,degree=5,kernel='poly',epsilon=0.001)\n",
        "lin_reg.fit(np.array(train_ml[\"Days Since\"]).reshape(-1,1),np.array(train_ml[\"Confirmed\"]).reshape(-1,1))\n",
        "svm.fit(np.array(train_ml[\"Days Since\"]).reshape(-1,1),np.array(train_ml[\"Confirmed\"]).reshape(-1,1))"
      ],
      "execution_count": null,
      "outputs": []
    },
    {
      "cell_type": "code",
      "metadata": {
        "id": "jLLvzNzq8HBa"
      },
      "source": [
        "prediction_valid_lin_reg = lin_reg.predict(np.array(valid_ml[\"Days Since\"]).reshape(-1,1))\n",
        "prediction_valid_svm = svm.predict(np.array(valid_ml[\"Days Since\"]).reshape(-1,1))"
      ],
      "execution_count": null,
      "outputs": []
    },
    {
      "cell_type": "code",
      "metadata": {
        "id": "SWpeU-iY8Izd"
      },
      "source": [
        "new_date = []\n",
        "new_prediction_lr=[]\n",
        "new_prediction_svm=[]\n",
        "for i in range(1,18):\n",
        "  new_date.append(datewise.index[-1]+timedelta(days=i))\n",
        "  new_prediction_lr.append(lin_reg.predict(np.array(datewise[\"Days Since\"].max()+i).reshape(-1,1))[0][0])\n",
        "  new_prediction_svm.append(svm.predict(np.array(datewise[\"Days Since\"].max()+i).reshape(-1,1))[0])\n",
        "pd.set_option(\"display.float_format\",lambda x: '%.f' % x)\n",
        "model_predictions=pd.DataFrame(zip(new_date,new_prediction_lr,new_prediction_svm),columns = [\"Dates\",\"LR\",\"SVR\"])\n",
        "model_predictions.head(5)"
      ],
      "execution_count": null,
      "outputs": []
    },
    {
      "cell_type": "markdown",
      "metadata": {
        "id": "UIkHltJhjtZl"
      },
      "source": [
        "### **Time series analysis to getting the exact data**"
      ]
    },
    {
      "cell_type": "code",
      "metadata": {
        "id": "oBEeiNLTjwhT"
      },
      "source": [
        "model_train=datewise.iloc[:int(datewise.shape[0]*0.85)]\n",
        "valid=datewise.iloc[int(datewise.shape[0]*0.85):]"
      ],
      "execution_count": null,
      "outputs": []
    },
    {
      "cell_type": "markdown",
      "metadata": {
        "id": "o0g3peid3GGG"
      },
      "source": [
        "### **Initializing the model which includes forecasting and prediction**"
      ]
    },
    {
      "cell_type": "code",
      "metadata": {
        "id": "oF6l9IANzxMu"
      },
      "source": [
        "holt=Holt(np.asarray(model_train[\"Confirmed\"])).fit(smoothing_level=1.4,smoothing_slope=0.2)\n",
        "y_pred = valid.copy()\n",
        "y_pred[\"Holt\"]=holt.forecast(len(valid))"
      ],
      "execution_count": null,
      "outputs": []
    },
    {
      "cell_type": "code",
      "metadata": {
        "id": "pldrLudyzySg"
      },
      "source": [
        "holt_new_date=[]\n",
        "holt_new_prediction=[]\n",
        "for i in range(1,18):\n",
        "   holt_new_date.append(datewise.index[-1]+timedelta(days=i))\n",
        "   holt_new_prediction.append(holt.forecast((len(valid)+i))[-1])\n",
        "\n",
        "model_predictions[\"Holts Linear Model Prediction\"]=holt_new_prediction\n",
        "model_predictions.head()"
      ],
      "execution_count": null,
      "outputs": []
    },
    {
      "cell_type": "markdown",
      "metadata": {
        "id": "pJ9QPuN3A80O"
      },
      "source": [
        "---\n",
        "#  **Egy konkrét ország vizsgálata (Pakistan)**\n",
        "---"
      ]
    },
    {
      "cell_type": "code",
      "metadata": {
        "id": "rV_V9OagA_Zn"
      },
      "source": [
        "pip install pmdarima"
      ],
      "execution_count": null,
      "outputs": []
    },
    {
      "cell_type": "code",
      "metadata": {
        "id": "aOZiTUr2BDH1"
      },
      "source": [
        "url = 'https://raw.githubusercontent.com/csengetoth/covid_forecast/main/pak_data-v2.csv'"
      ],
      "execution_count": null,
      "outputs": []
    },
    {
      "cell_type": "code",
      "metadata": {
        "id": "f-DFcCLoBGPs"
      },
      "source": [
        "covid_data = pd.read_csv(url)"
      ],
      "execution_count": null,
      "outputs": []
    },
    {
      "cell_type": "code",
      "metadata": {
        "id": "8XEpmmbgBHc_"
      },
      "source": [
        "covid_data.head()"
      ],
      "execution_count": null,
      "outputs": []
    },
    {
      "cell_type": "code",
      "metadata": {
        "id": "2Q0OrTSBBI0W"
      },
      "source": [
        "covid_data.isnull().sum()"
      ],
      "execution_count": null,
      "outputs": []
    },
    {
      "cell_type": "code",
      "metadata": {
        "id": "kE-GppjTBJ3L"
      },
      "source": [
        "covid_data.dtypes"
      ],
      "execution_count": null,
      "outputs": []
    },
    {
      "cell_type": "code",
      "metadata": {
        "id": "UELT91BrBLQD"
      },
      "source": [
        "#start date \n",
        "covid_data.Date.min()"
      ],
      "execution_count": null,
      "outputs": []
    },
    {
      "cell_type": "code",
      "metadata": {
        "id": "KeZcsgXvBMjm"
      },
      "source": [
        "#max date \n",
        "covid_data.Date.max()"
      ],
      "execution_count": null,
      "outputs": []
    },
    {
      "cell_type": "markdown",
      "metadata": {
        "id": "NeJ57V9RRVAX"
      },
      "source": [
        "### **Pakistan**"
      ]
    },
    {
      "cell_type": "code",
      "metadata": {
        "id": "lulHqt-dRba_"
      },
      "source": [
        "pak_data = covid_data.copy()"
      ],
      "execution_count": null,
      "outputs": []
    },
    {
      "cell_type": "code",
      "metadata": {
        "id": "q4mkrSjlRfgR"
      },
      "source": [
        "pak_data['Total Confirmed Cases'] = 0\n",
        "pak_data['Total Recovered'] = 0\n",
        "pak_data['Total Deaths'] = 0\n",
        "pak_data['Active Cases'] = 0\n",
        "for i in range(0, len(pak_data)):\n",
        "    if (i == 0):\n",
        "        pak_data['Total Confirmed Cases'].iloc[i] = pak_data['New Cases'].iloc[i]\n",
        "        pak_data['Total Recovered'].iloc[i] = pak_data['Cured Cases'].iloc[i]\n",
        "        pak_data['Total Deaths'].iloc[i] = pak_data['Death Cases'].iloc[i]\n",
        "        pak_data['Active Cases'].iloc[i] = pak_data['Active Cases'].iloc[i-1] + pak_data['New Cases'].iloc[i] - pak_data['Death Cases'].iloc[i] - pak_data['Cured Cases'].iloc[i]\n",
        "\n",
        "    else:\n",
        "        pak_data['Total Confirmed Cases'].iloc[i] = pak_data['Total Confirmed Cases'].iloc[i-1] + pak_data['New Cases'].iloc[i]\n",
        "        pak_data['Total Recovered'].iloc[i] =  pak_data['Total Recovered'].iloc[i-1] + pak_data['Cured Cases'].iloc[i]\n",
        "        pak_data['Total Deaths'].iloc[i] =  pak_data['Total Deaths'].iloc[i-1] + pak_data['Death Cases'].iloc[i]\n",
        "        pak_data['Active Cases'].iloc[i] = pak_data['Active Cases'].iloc[i-1] + pak_data['New Cases'].iloc[i] - pak_data['Death Cases'].iloc[i] - pak_data['Cured Cases'].iloc[i]"
      ],
      "execution_count": null,
      "outputs": []
    },
    {
      "cell_type": "code",
      "metadata": {
        "id": "gVObhYE3Rk8l"
      },
      "source": [
        "pak_data.head()"
      ],
      "execution_count": null,
      "outputs": []
    },
    {
      "cell_type": "code",
      "metadata": {
        "id": "eYGqirhiRngv"
      },
      "source": [
        "confirmed = pak_data['New Cases'].sum()\n",
        "recovered = pak_data['Cured Cases'].sum()\n",
        "deaths = pak_data['Death Cases'].sum()\n",
        "active = confirmed - (recovered - deaths)\n",
        "\n",
        "print(confirmed, recovered, deaths, active)\n",
        "\n",
        "labels = ['Active Cases','Recovered Cases','Death Cases']\n",
        "sizes = [active,recovered,deaths]\n",
        "color= ['#66b3ff','green','red']\n",
        "explode = []\n",
        "\n",
        "for i in labels:\n",
        "    explode.append(0.1)\n",
        "    \n",
        "plt.figure(figsize= (15,10))\n",
        "plt.pie(sizes, labels=labels, autopct='%3.1f%%', startangle=9, explode =explode,colors = color)\n",
        "centre_circle = plt.Circle((0,0),0.60,fc='white')\n",
        "\n",
        "fig = plt.gcf()\n",
        "fig.gca().add_artist(centre_circle)\n",
        "plt.title('',fontsize = 24)\n",
        "plt.axis('equal')  \n",
        "plt.tight_layout()"
      ],
      "execution_count": null,
      "outputs": []
    },
    {
      "cell_type": "code",
      "metadata": {
        "id": "49Epp0zRUFW6"
      },
      "source": [
        "temp = pak_data.groupby(['Date'])['New Cases','Cured Cases','Death Cases'].sum().reset_index()\n",
        "fig = px.scatter(temp, x=\"Date\", y=\"New Cases\", color=\"New Cases\",\n",
        "                 size='New Cases', hover_data=['New Cases'],\n",
        "                 color_discrete_sequence = ex.colors.cyclical.IceFire)\n",
        "fig.update_layout(title_text='Trend of Daily Cases in Pakistan',\n",
        "                  plot_bgcolor='rgb(275, 270, 273)',width=600, height=600)\n",
        "fig.show()"
      ],
      "execution_count": null,
      "outputs": []
    },
    {
      "cell_type": "code",
      "metadata": {
        "id": "8gXESvVRUHR3"
      },
      "source": [
        "fig = go.Figure()\n",
        "fig.add_trace(go.Scatter(x=pak_data['Date'], y=pak_data['Total Confirmed Cases'],\n",
        "                    mode='lines+markers',marker_color='blue',name='Confimned Cases'))\n",
        "fig.add_trace(go.Scatter(x=pak_data['Date'], y=pak_data['Total Recovered'],\n",
        "                mode='lines+markers',marker_color='green',name='Recovered'))\n",
        "fig.add_trace(go.Scatter(x=pak_data['Date'], y=pak_data['Total Deaths'], \n",
        "                mode='lines+markers',marker_color='red',name='Deaths'))\n",
        "fig.update_layout(title_text='Coronavirus Cases in Pakistan',plot_bgcolor='rgb(275, 270, 273)',width=1000, height=1000)\n",
        "fig.show()"
      ],
      "execution_count": null,
      "outputs": []
    },
    {
      "cell_type": "markdown",
      "metadata": {
        "id": "BVGIMKf9-nWp"
      },
      "source": [
        "### **Prophet Model**"
      ]
    },
    {
      "cell_type": "code",
      "metadata": {
        "id": "-y0YImHL-1mg"
      },
      "source": [
        "confirmed = pak_data['Total Confirmed Cases'].values.tolist()\n",
        "data = pd.DataFrame(columns = ['ds','y'])\n",
        "data['ds'] = list(pak_data['Date'])\n",
        "data['y'] = confirmed\n",
        "\n",
        "prop=Prophet()\n",
        "prop.fit(data)\n",
        "future=prop.make_future_dataframe(periods=15)\n",
        "prop_forecast=prop.predict(future)\n",
        "forecast = prop_forecast[['ds','yhat']].tail(15)\n",
        "\n",
        "fig = go.Figure()\n",
        "fig.add_trace(go.Scatter(x=pak_data['Date'], y=pak_data['Total Confirmed Cases'],\n",
        "                    mode='lines+markers',marker_color='green',name='Actual'))\n",
        "fig.add_trace(go.Scatter(x=prop_forecast['ds'], y=prop_forecast['yhat_upper'],\n",
        "                    mode='lines+markers',marker_color='Orange',name='Predicted'))\n",
        "fig.update_layout(title_text = 'Confirmed Cases (Predicted vs Actual) using Prophet')\n",
        "fig.update_layout(plot_bgcolor='rgb(275, 270, 273)',width=600, height=600)\n",
        "fig.show()"
      ],
      "execution_count": null,
      "outputs": []
    },
    {
      "cell_type": "code",
      "metadata": {
        "id": "8FiS8j4Y-4-Z"
      },
      "source": [
        "recv = pak_data['Total Recovered'].values.tolist()\n",
        "data = pd.DataFrame(columns = ['ds','y'])\n",
        "data['ds'] = list(pak_data['Date'])\n",
        "data['y'] = recv\n",
        "\n",
        "prop=Prophet()\n",
        "prop.fit(data)\n",
        "future=prop.make_future_dataframe(periods=15)\n",
        "prop_forecast=prop.predict(future)\n",
        "forecast = prop_forecast[['ds','yhat']].tail(15)\n",
        "print(forecast)\n",
        "\n",
        "fig = go.Figure()\n",
        "fig.add_trace(go.Scatter(x=pak_data['Date'], y=pak_data['Total Recovered'],\n",
        "                    mode='lines+markers',marker_color='green',name='Actual'))\n",
        "fig.add_trace(go.Scatter(x=prop_forecast['ds'], y=prop_forecast['yhat_upper'],\n",
        "                    mode='lines+markers',marker_color='yellow',name='Predicted'))\n",
        "fig.update_layout(title_text = 'Recovered Cases (Predicted vs Actual) using Prophet')\n",
        "fig.update_layout(plot_bgcolor='rgb(275, 270, 273)',width=600, height=600)\n",
        "fig.show()"
      ],
      "execution_count": null,
      "outputs": []
    },
    {
      "cell_type": "markdown",
      "metadata": {
        "id": "8c7XAIyXxal5"
      },
      "source": [
        "### **Province Predictions**"
      ]
    },
    {
      "cell_type": "code",
      "metadata": {
        "id": "9fwiHzO-xp9e"
      },
      "source": [
        "province_cases = pak_data.groupby(['Date','Province'])['New Cases','Cured Cases','Death Cases'].sum().reset_index()"
      ],
      "execution_count": null,
      "outputs": []
    },
    {
      "cell_type": "code",
      "metadata": {
        "id": "WBR7lUkWxqoW"
      },
      "source": [
        "province_cases['Total Confirmed Cases'] = 0\n",
        "province_cases['Total Recovered'] = 0\n",
        "province_cases['Total Deaths'] = 0\n",
        "province_cases['Active Cases'] = 0\n",
        "\n",
        "province_list = province_cases['Province'].unique()\n",
        "test = province_cases.copy()\n",
        "for province in province_list:\n",
        "    \n",
        "    \n",
        "    province_data = province_cases[province_cases['Province'] == province]\n",
        "    \n",
        "    for i in range(0, len(province_data)):\n",
        "\n",
        "        if (i == 0):\n",
        "            province_data['Total Confirmed Cases'].iloc[i] = province_data['New Cases'].iloc[i]\n",
        "            province_data['Total Recovered'].iloc[i] = province_data['Cured Cases'].iloc[i]\n",
        "            province_data['Total Deaths'].iloc[i] = province_data['Death Cases'].iloc[i]\n",
        "            province_data['Active Cases'].iloc[i] = province_data['Active Cases'].iloc[i-1] + province_data['New Cases'].iloc[i] - province_data['Death Cases'].iloc[i] - province_data['Cured Cases'].iloc[i]\n",
        "        else:\n",
        "            province_data['Total Confirmed Cases'].iloc[i] = province_data['Total Confirmed Cases'].iloc[i-1] + province_data['New Cases'].iloc[i]\n",
        "            province_data['Total Recovered'].iloc[i] =  province_data['Total Recovered'].iloc[i-1] + province_data['Cured Cases'].iloc[i]\n",
        "            province_data['Total Deaths'].iloc[i] =  province_data['Total Deaths'].iloc[i-1] + province_data['Death Cases'].iloc[i]\n",
        "            province_data['Active Cases'].iloc[i] = province_data['Active Cases'].iloc[i-1] + province_data['New Cases'].iloc[i] - province_data['Death Cases'].iloc[i] - province_data['Cured Cases'].iloc[i]\n",
        "\n",
        "    \n",
        "    province_cases.update(province_data)\n",
        "\n",
        "province_cases = province_cases.astype({\"New Cases\":int,\"Cured Cases\":int,\"Death Cases\":int, \"Total Confirmed Cases\": int,\"Total Recovered\":int,\"Total Deaths\":int,\"Active Cases\": int})"
      ],
      "execution_count": null,
      "outputs": []
    },
    {
      "cell_type": "code",
      "metadata": {
        "id": "fVR5zN5ixtye"
      },
      "source": [
        "province_cases.dtypes"
      ],
      "execution_count": null,
      "outputs": []
    },
    {
      "cell_type": "code",
      "metadata": {
        "id": "uZA5iIIKxxaU"
      },
      "source": [
        "province_cases.head()"
      ],
      "execution_count": null,
      "outputs": []
    },
    {
      "cell_type": "code",
      "metadata": {
        "id": "PU2C1imGx0Df"
      },
      "source": [
        "s_cases = pak_data.groupby('Province')['New Cases','Cured Cases','Death Cases'].sum().reset_index()\n",
        "s_cases['Active Cases'] = s_cases['New Cases'] - s_cases['Death Cases']- s_cases['Cured Cases']\n",
        "s_cases[\"Death Rate (per 100)\"] = np.round(100*s_cases[\"Death Cases\"]/s_cases[\"New Cases\"],2)\n",
        "s_cases[\"Cure Rate (per 100)\"] = np.round(100*s_cases[\"Cured Cases\"]/s_cases[\"New Cases\"],2)\n",
        "s_cases.sort_values('New Cases', ascending= False).fillna(0).style.background_gradient(cmap='Blues',subset=[\"New Cases\"])\\\n",
        "                        .background_gradient(cmap='Blues',subset=[\"Death Cases\"])\\\n",
        "                        .background_gradient(cmap='Blues',subset=[\"Cured Cases\"])\\\n",
        "                        .background_gradient(cmap='Blues',subset=[\"Active Cases\"])\\\n",
        "                        .background_gradient(cmap='Blues',subset=[\"Death Rate (per 100)\"])\\\n",
        "                        .background_gradient(cmap='Blues',subset=[\"Cure Rate (per 100)\"])"
      ],
      "execution_count": null,
      "outputs": []
    },
    {
      "cell_type": "code",
      "metadata": {
        "id": "FqGwOxnxx6pk"
      },
      "source": [
        "# For Sindh\n",
        "s = province_cases.loc[province_cases['Province'] == 'Sindh']\n",
        "\n",
        "confirmed = s['Total Confirmed Cases'].values.tolist()\n",
        "data = pd.DataFrame(columns = ['ds','y'])\n",
        "data['ds'] = list(s['Date'])\n",
        "data['y'] = confirmed\n",
        "\n",
        "prop=Prophet()\n",
        "prop.fit(data)\n",
        "future=prop.make_future_dataframe(periods=30)\n",
        "prop_forecast=prop.predict(future)\n",
        "forecast = prop_forecast[['ds','yhat']].tail(30)\n",
        "\n",
        "fig = go.Figure()\n",
        "fig.add_trace(go.Scatter(x=s['Date'], y=s['Total Confirmed Cases'],\n",
        "                    mode='lines+markers',marker_color='green',name='Actual'))\n",
        "fig.add_trace(go.Scatter(x=prop_forecast['ds'], y=prop_forecast['yhat_upper'],\n",
        "                    mode='lines+markers',marker_color='Orange',name='Predicted'))\n",
        "fig.update_layout(title_text = 'Sindh Confirmed Cases (Predicted vs Actual) using Prophet')\n",
        "fig.update_layout(plot_bgcolor='rgb(275, 270, 273)',width=600, height=600)\n",
        "fig.show()"
      ],
      "execution_count": null,
      "outputs": []
    },
    {
      "cell_type": "code",
      "metadata": {
        "id": "jK64x7Pax85n"
      },
      "source": [
        "# For Sindh\n",
        "confirmed = s['Total Deaths'].values.tolist()\n",
        "data = pd.DataFrame(columns = ['ds','y'])\n",
        "data['ds'] = list(s['Date'])\n",
        "data['y'] = confirmed\n",
        "\n",
        "prop=Prophet()\n",
        "prop.fit(data)\n",
        "future=prop.make_future_dataframe(periods=30)\n",
        "prop_forecast=prop.predict(future)\n",
        "forecast = prop_forecast[['ds','yhat']].tail(30)\n",
        "\n",
        "fig = go.Figure()\n",
        "fig.add_trace(go.Scatter(x=s['Date'], y=s['Total Deaths'],\n",
        "                    mode='lines+markers',marker_color='green',name='Actual'))\n",
        "fig.add_trace(go.Scatter(x=prop_forecast['ds'], y=prop_forecast['yhat_upper'],\n",
        "                    mode='lines+markers',marker_color='red',name='Predicted'))\n",
        "fig.update_layout(title_text = 'Sindh Death Cases (Predicted vs Actual) using Prophet')\n",
        "fig.update_layout(plot_bgcolor='rgb(275, 270, 273)',width=600, height=600)\n",
        "fig.show()"
      ],
      "execution_count": null,
      "outputs": []
    },
    {
      "cell_type": "code",
      "metadata": {
        "id": "pU58Vs30yApW"
      },
      "source": [
        "# For Sindh\n",
        "s = province_cases.loc[province_cases['Province'] == 'Sindh']\n",
        "\n",
        "confirmed = s['Total Recovered'].values.tolist()\n",
        "data = pd.DataFrame(columns = ['ds','y'])\n",
        "data['ds'] = list(s['Date'])\n",
        "data['y'] = confirmed\n",
        "\n",
        "prop=Prophet()\n",
        "prop.fit(data)\n",
        "future=prop.make_future_dataframe(periods=30)\n",
        "prop_forecast=prop.predict(future)\n",
        "forecast = prop_forecast[['ds','yhat']].tail(30)\n",
        "\n",
        "fig = go.Figure()\n",
        "fig.add_trace(go.Scatter(x=s['Date'], y=s['Total Recovered'],\n",
        "                    mode='lines+markers',marker_color='green',name='Actual'))\n",
        "fig.add_trace(go.Scatter(x=prop_forecast['ds'], y=prop_forecast['yhat_upper'],\n",
        "                    mode='lines+markers',marker_color='yellow',name='Predicted'))\n",
        "fig.update_layout(title_text = 'Sindh Recovered Cases (Predicted vs Actual) using Prophet')\n",
        "fig.update_layout(plot_bgcolor='rgb(275, 270, 273)',width=600, height=600)\n",
        "fig.show()"
      ],
      "execution_count": null,
      "outputs": []
    },
    {
      "cell_type": "markdown",
      "metadata": {
        "id": "Na8DBQY6hKZd"
      },
      "source": [
        "### **Cities Prediction**"
      ]
    },
    {
      "cell_type": "code",
      "metadata": {
        "id": "fzRRz_-ehQuw"
      },
      "source": [
        "cities = pak_data.groupby(['Date', 'City'])['New Cases','Cured Cases','Death Cases'].sum().reset_index()"
      ],
      "execution_count": null,
      "outputs": []
    },
    {
      "cell_type": "code",
      "metadata": {
        "id": "w_tk69XehaW9"
      },
      "source": [
        "cities['Total Confirmed Cases'] = 0\n",
        "cities['Total Recovered'] = 0\n",
        "cities['Total Deaths'] = 0\n",
        "cities['Active Cases'] = 0\n",
        "\n",
        "city_list = cities['City'].unique()\n",
        "for city in city_list:\n",
        "    \n",
        "    \n",
        "    city_data = cities[cities['City'] == city]\n",
        "    \n",
        "    for i in range(0, len(city_data)):\n",
        "\n",
        "        if (i == 0):\n",
        "            city_data['Total Confirmed Cases'].iloc[i] = city_data['New Cases'].iloc[i]\n",
        "            city_data['Total Recovered'].iloc[i] = city_data['Cured Cases'].iloc[i]\n",
        "            city_data['Total Deaths'].iloc[i] = city_data['Death Cases'].iloc[i]\n",
        "            city_data['Active Cases'].iloc[i] = city_data['Active Cases'].iloc[i-1] + city_data['New Cases'].iloc[i] - city_data['Death Cases'].iloc[i] - city_data['Cured Cases'].iloc[i]\n",
        "        else:\n",
        "            city_data['Total Confirmed Cases'].iloc[i] = city_data['Total Confirmed Cases'].iloc[i-1] + city_data['New Cases'].iloc[i]\n",
        "            city_data['Total Recovered'].iloc[i] =  city_data['Total Recovered'].iloc[i-1] + city_data['Cured Cases'].iloc[i]\n",
        "            city_data['Total Deaths'].iloc[i] =  city_data['Total Deaths'].iloc[i-1] + city_data['Death Cases'].iloc[i]\n",
        "            city_data['Active Cases'].iloc[i] = city_data['Active Cases'].iloc[i-1] + city_data['New Cases'].iloc[i] - city_data['Death Cases'].iloc[i] - city_data['Cured Cases'].iloc[i]\n",
        "\n",
        "    \n",
        "    cities.update(city_data)\n",
        "\n",
        "cities = cities.astype({\"New Cases\":int,\"Cured Cases\":int,\"Death Cases\":int, \"Total Confirmed Cases\": int,\"Total Recovered\":int,\"Total Deaths\":int,\"Active Cases\": int})"
      ],
      "execution_count": null,
      "outputs": []
    },
    {
      "cell_type": "code",
      "metadata": {
        "id": "ME7oYr_Zhd-x"
      },
      "source": [
        "c_cases = cities.groupby('City')['New Cases','Cured Cases','Death Cases'].sum().reset_index()\n",
        "c_cases = c_cases.sort_values(['New Cases'], ascending=False)\n",
        "\n",
        "c_cases['Active Cases'] = c_cases['New Cases'] - c_cases['Death Cases']- c_cases['Cured Cases']\n",
        "c_cases[\"Death Rate (per 100)\"] = np.round(100*c_cases[\"Death Cases\"]/c_cases[\"New Cases\"],2)\n",
        "c_cases[\"Cure Rate (per 100)\"] = np.round(100*c_cases[\"Cured Cases\"]/c_cases[\"New Cases\"],2)\n",
        "c_cases.sort_values('New Cases', ascending= False).fillna(0).style.background_gradient(cmap='Blues',subset=[\"New Cases\"])\\\n",
        "                        .background_gradient(cmap='Blues',subset=[\"Death Cases\"])\\\n",
        "                        .background_gradient(cmap='Blues',subset=[\"Cured Cases\"])\\\n",
        "                        .background_gradient(cmap='Blues',subset=[\"Active Cases\"])\\\n",
        "                        .background_gradient(cmap='Blues',subset=[\"Death Rate (per 100)\"])\\\n",
        "                        .background_gradient(cmap='Blues',subset=[\"Cure Rate (per 100)\"])"
      ],
      "execution_count": null,
      "outputs": []
    },
    {
      "cell_type": "code",
      "metadata": {
        "id": "ODf3XvAbhhRK"
      },
      "source": [
        "khi = cities.loc[cities['City'] == 'Karachi']\n",
        "\n",
        "confirmed = khi['Total Confirmed Cases'].values.tolist()\n",
        "data = pd.DataFrame(columns = ['ds','y'])\n",
        "data['ds'] = list(khi['Date'])\n",
        "data['y'] = confirmed\n",
        "\n",
        "prop=Prophet()\n",
        "prop.fit(data)\n",
        "future=prop.make_future_dataframe(periods=30)\n",
        "prop_forecast=prop.predict(future)\n",
        "forecast = prop_forecast[['ds','yhat']].tail(30)\n",
        "\n",
        "fig = go.Figure()\n",
        "fig.add_trace(go.Scatter(x=khi['Date'], y=khi['Total Confirmed Cases'],\n",
        "                    mode='lines+markers',marker_color='green',name='Actual'))\n",
        "fig.add_trace(go.Scatter(x=prop_forecast['ds'], y=prop_forecast['yhat_upper'],\n",
        "                    mode='lines+markers',marker_color='Orange',name='Predicted'))\n",
        "fig.update_layout(title_text = 'Karachi Confirmed Cases (Predicted vs Actual) using Prophet')\n",
        "fig.update_layout(plot_bgcolor='rgb(275, 270, 273)',width=600, height=600)\n",
        "fig.show()"
      ],
      "execution_count": null,
      "outputs": []
    },
    {
      "cell_type": "code",
      "metadata": {
        "id": "qhV6eFgJhlPa"
      },
      "source": [
        "confirmed = khi['Total Deaths'].values.tolist()\n",
        "data = pd.DataFrame(columns = ['ds','y'])\n",
        "data['ds'] = list(khi['Date'])\n",
        "data['y'] = confirmed\n",
        "\n",
        "prop=Prophet()\n",
        "prop.fit(data)\n",
        "future=prop.make_future_dataframe(periods=30)\n",
        "prop_forecast=prop.predict(future)\n",
        "forecast = prop_forecast[['ds','yhat']].tail(30)\n",
        "\n",
        "fig = go.Figure()\n",
        "fig.add_trace(go.Scatter(x=khi['Date'], y=khi['Total Deaths'],\n",
        "                    mode='lines+markers',marker_color='green',name='Actual'))\n",
        "fig.add_trace(go.Scatter(x=prop_forecast['ds'], y=prop_forecast['yhat_upper'],\n",
        "                    mode='lines+markers',marker_color='red',name='Predicted'))\n",
        "fig.update_layout(title_text = 'Karachi Death Cases (Predicted vs Actual) using Prophet')\n",
        "fig.update_layout(plot_bgcolor='rgb(275, 270, 273)',width=600, height=600)\n",
        "fig.show()"
      ],
      "execution_count": null,
      "outputs": []
    },
    {
      "cell_type": "code",
      "metadata": {
        "id": "BBE5kgfuhpCm"
      },
      "source": [
        "confirmed = khi['Total Recovered'].values.tolist()\n",
        "data = pd.DataFrame(columns = ['ds','y'])\n",
        "data['ds'] = list(khi['Date'])\n",
        "data['y'] = confirmed\n",
        "\n",
        "prop=Prophet()\n",
        "prop.fit(data)\n",
        "future=prop.make_future_dataframe(periods=30)\n",
        "prop_forecast=prop.predict(future)\n",
        "forecast = prop_forecast[['ds','yhat']].tail(30)\n",
        "\n",
        "fig = go.Figure()\n",
        "fig.add_trace(go.Scatter(x=khi['Date'], y=khi['Total Recovered'],\n",
        "                    mode='lines+markers',marker_color='green',name='Actual'))\n",
        "fig.add_trace(go.Scatter(x=prop_forecast['ds'], y=prop_forecast['yhat_upper'],\n",
        "                    mode='lines+markers',marker_color='yellow',name='Predicted'))\n",
        "fig.update_layout(title_text = 'Karachi Recovered Cases (Predicted vs Actual) using Prophet')\n",
        "fig.update_layout(plot_bgcolor='rgb(275, 270, 273)',width=600, height=600)\n",
        "fig.show()"
      ],
      "execution_count": null,
      "outputs": []
    },
    {
      "cell_type": "markdown",
      "metadata": {
        "id": "sc2uhpSe-sZk"
      },
      "source": [
        "---\n",
        "# **Visualization and prediction több ország esetén**\n",
        "---"
      ]
    },
    {
      "cell_type": "markdown",
      "metadata": {
        "id": "QYEDRR3P-zT8"
      },
      "source": [
        "### **Import the data**"
      ]
    },
    {
      "cell_type": "code",
      "metadata": {
        "id": "YrNxsvEm-_cU"
      },
      "source": [
        "confirmed_df = pd.read_csv('https://raw.githubusercontent.com/CSSEGISandData/COVID-19/master/csse_covid_19_data/csse_covid_19_time_series/time_series_covid19_confirmed_global.csv')\n",
        "deaths_df = pd.read_csv('https://raw.githubusercontent.com/CSSEGISandData/COVID-19/master/csse_covid_19_data/csse_covid_19_time_series/time_series_covid19_deaths_global.csv')\n",
        "latest_data = pd.read_csv('https://raw.githubusercontent.com/CSSEGISandData/COVID-19/master/csse_covid_19_data/csse_covid_19_daily_reports/10-22-2021.csv')\n",
        "us_medical_data = pd.read_csv('https://raw.githubusercontent.com/CSSEGISandData/COVID-19/master/csse_covid_19_data/csse_covid_19_daily_reports_us/10-22-2021.csv')"
      ],
      "execution_count": null,
      "outputs": []
    },
    {
      "cell_type": "code",
      "metadata": {
        "id": "3ZZjXiN31hNm"
      },
      "source": [
        "deaths_df.head()"
      ],
      "execution_count": null,
      "outputs": []
    },
    {
      "cell_type": "code",
      "metadata": {
        "id": "4VAmBKV3_Chs"
      },
      "source": [
        "latest_data.head() "
      ],
      "execution_count": null,
      "outputs": []
    },
    {
      "cell_type": "code",
      "metadata": {
        "id": "-efPXFSJ_GLk"
      },
      "source": [
        "confirmed_df.head() "
      ],
      "execution_count": null,
      "outputs": []
    },
    {
      "cell_type": "code",
      "metadata": {
        "id": "uvM3Bj6t_IX8"
      },
      "source": [
        "us_medical_data.head()"
      ],
      "execution_count": null,
      "outputs": []
    },
    {
      "cell_type": "code",
      "metadata": {
        "id": "FmY3B8yB_Nj7"
      },
      "source": [
        "cols = confirmed_df.keys()"
      ],
      "execution_count": null,
      "outputs": []
    },
    {
      "cell_type": "markdown",
      "metadata": {
        "id": "2EzsVBwk_QPs"
      },
      "source": [
        "### **Get all the dates for the ongoing coronavirus pandemic**"
      ]
    },
    {
      "cell_type": "code",
      "metadata": {
        "id": "sJ-ibyAh_RV8"
      },
      "source": [
        "confirmed = confirmed_df.loc[:, cols[4]:cols[-1]]\n",
        "deaths = deaths_df.loc[:, cols[4]:cols[-1]]"
      ],
      "execution_count": null,
      "outputs": []
    },
    {
      "cell_type": "code",
      "metadata": {
        "id": "fAlBJvUn_Txs"
      },
      "source": [
        "dates = confirmed.keys() \n",
        "world_cases = []\n",
        "total_deaths = []  \n",
        "mortality_rate = []\n",
        "\n",
        "for i in dates:\n",
        "    confirmed_sum = confirmed[i].sum()\n",
        "    death_sum = deaths[i].sum()\n",
        "    \n",
        "    \n",
        "    world_cases.append(confirmed_sum)\n",
        "    total_deaths.append(death_sum)\n",
        "    \n",
        "    # calculate rates:\n",
        "    mortality_rate.append(death_sum/confirmed_sum)"
      ],
      "execution_count": null,
      "outputs": []
    },
    {
      "cell_type": "code",
      "metadata": {
        "id": "I1T2gPUL_Zvs"
      },
      "source": [
        "print(mortality_rate)"
      ],
      "execution_count": null,
      "outputs": []
    },
    {
      "cell_type": "markdown",
      "metadata": {
        "id": "c-LPFdNRCf6-"
      },
      "source": [
        "### **Getting daily increases and moving averages**\n",
        "\n"
      ]
    },
    {
      "cell_type": "code",
      "metadata": {
        "id": "GQ57-BnPCgcP"
      },
      "source": [
        "def daily_increase(data):\n",
        "    d = [] \n",
        "    for i in range(len(data)):\n",
        "        if i == 0:\n",
        "            d.append(data[0])\n",
        "        else:\n",
        "            d.append(data[i]-data[i-1])\n",
        "    return d \n",
        "\n",
        "def moving_average(data, window_size):\n",
        "    moving_average = []\n",
        "    for i in range(len(data)):\n",
        "        if i + window_size < len(data):\n",
        "            moving_average.append(np.mean(data[i:i+window_size]))\n",
        "        else:\n",
        "            moving_average.append(np.mean(data[i:len(data)]))\n",
        "    return moving_average\n",
        "\n",
        "window = 7\n",
        "\n",
        "# confirmed cases\n",
        "world_daily_increase = daily_increase(world_cases)\n",
        "world_confirmed_avg= moving_average(world_cases, window)\n",
        "world_daily_increase_avg = moving_average(world_daily_increase, window)\n",
        "\n",
        "# deaths\n",
        "world_daily_death = daily_increase(total_deaths)\n",
        "world_death_avg = moving_average(total_deaths, window)\n",
        "world_daily_death_avg = moving_average(world_daily_death, window)"
      ],
      "execution_count": null,
      "outputs": []
    },
    {
      "cell_type": "code",
      "metadata": {
        "id": "xqfzWn7BCiAu"
      },
      "source": [
        "days_since_1_22 = np.array([i for i in range(len(dates))]).reshape(-1, 1)\n",
        "world_cases = np.array(world_cases).reshape(-1, 1)\n",
        "total_deaths = np.array(total_deaths).reshape(-1, 1)"
      ],
      "execution_count": null,
      "outputs": []
    },
    {
      "cell_type": "code",
      "metadata": {
        "id": "oP4mJvLyCjWh"
      },
      "source": [
        "print(world_confirmed_avg)"
      ],
      "execution_count": null,
      "outputs": []
    },
    {
      "cell_type": "code",
      "metadata": {
        "id": "YetNKSaxCktE"
      },
      "source": [
        "print(world_daily_increase_avg)"
      ],
      "execution_count": null,
      "outputs": []
    },
    {
      "cell_type": "code",
      "metadata": {
        "id": "-inNY3ZBCmOd"
      },
      "source": [
        "print(world_death_avg)"
      ],
      "execution_count": null,
      "outputs": []
    },
    {
      "cell_type": "code",
      "metadata": {
        "id": "7_On5Iw1Cnc5"
      },
      "source": [
        "print(world_daily_death_avg)"
      ],
      "execution_count": null,
      "outputs": []
    },
    {
      "cell_type": "markdown",
      "metadata": {
        "id": "_81XtgUwEkuA"
      },
      "source": [
        "### **Future forcasting**"
      ]
    },
    {
      "cell_type": "code",
      "metadata": {
        "id": "q9Do0pjYEm14"
      },
      "source": [
        "days_in_future = 10\n",
        "future_forcast = np.array([i for i in range(len(dates)+days_in_future)]).reshape(-1, 1)\n",
        "adjusted_dates = future_forcast[:-10]"
      ],
      "execution_count": null,
      "outputs": []
    },
    {
      "cell_type": "markdown",
      "metadata": {
        "id": "V7BPa3ZNFU0h"
      },
      "source": [
        "###**Convert integer into datetime for better visualization**"
      ]
    },
    {
      "cell_type": "code",
      "metadata": {
        "id": "ELRa9r0IFXPb"
      },
      "source": [
        "start = '1/22/2020'\n",
        "start_date = datetime.strptime(start, '%m/%d/%Y')\n",
        "future_forcast_dates = []\n",
        "for i in range(len(future_forcast)):\n",
        "    future_forcast_dates.append((start_date + timedelta(days=i)).strftime('%m/%d/%Y'))"
      ],
      "execution_count": null,
      "outputs": []
    },
    {
      "cell_type": "code",
      "metadata": {
        "id": "twA1SWWoFc-k"
      },
      "source": [
        "days_to_skip = 376\n",
        "X_train_confirmed, X_test_confirmed, y_train_confirmed, y_test_confirmed = train_test_split(days_since_1_22[days_to_skip:], world_cases[days_to_skip:], test_size=0.08, shuffle=False) "
      ],
      "execution_count": null,
      "outputs": []
    },
    {
      "cell_type": "markdown",
      "metadata": {
        "id": "VH0xsAvpAYnr"
      },
      "source": [
        "### **Vector machine model**"
      ]
    },
    {
      "cell_type": "code",
      "metadata": {
        "id": "7rCUpgODAa4p"
      },
      "source": [
        "svm_confirmed = SVR(shrinking=True, kernel='poly',gamma=0.01, epsilon=1,degree=3, C=0.1)\n",
        "svm_confirmed.fit(X_train_confirmed, y_train_confirmed)\n",
        "svm_pred = svm_confirmed.predict(future_forcast)"
      ],
      "execution_count": null,
      "outputs": []
    },
    {
      "cell_type": "code",
      "metadata": {
        "id": "UtvAIayOLeyr"
      },
      "source": [
        "print(svm_pred)"
      ],
      "execution_count": null,
      "outputs": []
    },
    {
      "cell_type": "code",
      "metadata": {
        "id": "DUQQqSZaAdwo"
      },
      "source": [
        "# test adathalmaz ellenorzese\n",
        "svm_test_pred = svm_confirmed.predict(X_test_confirmed)\n",
        "plt.plot(y_test_confirmed)\n",
        "plt.plot(svm_test_pred)\n",
        "plt.legend(['Test Data', 'SVM Predictions'])\n",
        "print('MAE:', mean_absolute_error(svm_test_pred, y_test_confirmed))\n",
        "print('MSE:',mean_squared_error(svm_test_pred, y_test_confirmed))"
      ],
      "execution_count": null,
      "outputs": []
    },
    {
      "cell_type": "markdown",
      "metadata": {
        "id": "U8c33tFyA3C5"
      },
      "source": [
        "### **Polynomial regression model**"
      ]
    },
    {
      "cell_type": "code",
      "metadata": {
        "id": "yaJ33N_9BMss"
      },
      "source": [
        "#adatok átalakítása polynomial regressziohoz\n",
        "poly = PolynomialFeatures(degree=2)\n",
        "poly_X_train_confirmed = poly.fit_transform(X_train_confirmed)\n",
        "poly_X_test_confirmed = poly.fit_transform(X_test_confirmed)\n",
        "poly_future_forcast = poly.fit_transform(future_forcast)\n",
        "\n",
        "bayesian_poly = PolynomialFeatures(degree=2)\n",
        "bayesian_poly_X_train_confirmed = bayesian_poly.fit_transform(X_train_confirmed)\n",
        "bayesian_poly_X_test_confirmed = bayesian_poly.fit_transform(X_test_confirmed)\n",
        "bayesian_poly_future_forcast = bayesian_poly.fit_transform(future_forcast)"
      ],
      "execution_count": null,
      "outputs": []
    },
    {
      "cell_type": "code",
      "metadata": {
        "id": "Vrw-mt32BPmT"
      },
      "source": [
        "# polynomial regresszio\n",
        "linear_model = LinearRegression(normalize=True, fit_intercept=False)\n",
        "linear_model.fit(poly_X_train_confirmed, y_train_confirmed)\n",
        "test_linear_pred = linear_model.predict(poly_X_test_confirmed)\n",
        "linear_pred = linear_model.predict(poly_future_forcast)\n",
        "print('MAE:', mean_absolute_error(test_linear_pred, y_test_confirmed))\n",
        "print('MSE:',mean_squared_error(test_linear_pred, y_test_confirmed))"
      ],
      "execution_count": null,
      "outputs": []
    },
    {
      "cell_type": "code",
      "metadata": {
        "id": "4Sdm6_lGBUi9"
      },
      "source": [
        "print(linear_model.coef_)"
      ],
      "execution_count": null,
      "outputs": []
    },
    {
      "cell_type": "code",
      "metadata": {
        "id": "ZLVQKRDwBVIG"
      },
      "source": [
        "plt.plot(y_test_confirmed)\n",
        "plt.plot(test_linear_pred)\n",
        "plt.legend(['Test Data', 'Polynomial Regression Predictions'])"
      ],
      "execution_count": null,
      "outputs": []
    },
    {
      "cell_type": "markdown",
      "metadata": {
        "id": "fhffKIz0P1YE"
      },
      "source": [
        "###**Bayesian ridge model**"
      ]
    },
    {
      "cell_type": "code",
      "metadata": {
        "id": "Lpgy-benQCGf"
      },
      "source": [
        "tol = [1e-6, 1e-5, 1e-4, 1e-3, 1e-2]\n",
        "alpha_1 = [1e-7, 1e-6, 1e-5, 1e-4, 1e-3]\n",
        "alpha_2 = [1e-7, 1e-6, 1e-5, 1e-4, 1e-3]\n",
        "lambda_1 = [1e-7, 1e-6, 1e-5, 1e-4, 1e-3]\n",
        "lambda_2 = [1e-7, 1e-6, 1e-5, 1e-4, 1e-3]\n",
        "normalize = [True, False]\n",
        "\n",
        "bayesian_grid = {'tol': tol, 'alpha_1': alpha_1, 'alpha_2' : alpha_2, 'lambda_1': lambda_1, 'lambda_2' : lambda_2, \n",
        "                 'normalize' : normalize}\n",
        "\n",
        "bayesian = BayesianRidge(fit_intercept=False)\n",
        "bayesian_search = RandomizedSearchCV(bayesian, bayesian_grid, scoring='neg_mean_squared_error', cv=3, return_train_score=True, n_jobs=-1, n_iter=40, verbose=1)\n",
        "bayesian_search.fit(bayesian_poly_X_train_confirmed, y_train_confirmed)"
      ],
      "execution_count": null,
      "outputs": []
    },
    {
      "cell_type": "code",
      "metadata": {
        "id": "Waauo3v1QO5R"
      },
      "source": [
        "bayesian_search.best_params_"
      ],
      "execution_count": null,
      "outputs": []
    },
    {
      "cell_type": "code",
      "metadata": {
        "id": "keGINBIJQS2h"
      },
      "source": [
        "bayesian_confirmed = bayesian_search.best_estimator_\n",
        "test_bayesian_pred = bayesian_confirmed.predict(bayesian_poly_X_test_confirmed)\n",
        "bayesian_pred = bayesian_confirmed.predict(bayesian_poly_future_forcast)\n",
        "print('MAE:', mean_absolute_error(test_bayesian_pred, y_test_confirmed))\n",
        "print('MSE:',mean_squared_error(test_bayesian_pred, y_test_confirmed))"
      ],
      "execution_count": null,
      "outputs": []
    },
    {
      "cell_type": "code",
      "metadata": {
        "id": "OLg5j9M9QWyc"
      },
      "source": [
        "plt.plot(y_test_confirmed)\n",
        "plt.plot(test_bayesian_pred)\n",
        "plt.legend(['Test Data', 'Bayesian Ridge Polynomial Predictions'])"
      ],
      "execution_count": null,
      "outputs": []
    },
    {
      "cell_type": "markdown",
      "metadata": {
        "id": "E2loewm6yTH8"
      },
      "source": [
        "### **A megerősített esetek számának, a halálozásoknak és a halálozási aránynak (CFR) ábrázolása.**\n",
        "### **Ez átfogó képet ad a folyamatban lévő járványról.**"
      ]
    },
    {
      "cell_type": "code",
      "metadata": {
        "id": "MtrH490MDNEj"
      },
      "source": [
        "# segítő módszer az adatok lapítására, így oszlopdiagramon is megjeleníthető\n",
        "def flatten(arr):\n",
        "    a = [] \n",
        "    arr = arr.tolist()\n",
        "    for i in arr:\n",
        "        a.append(i[0])\n",
        "    return a"
      ],
      "execution_count": null,
      "outputs": []
    },
    {
      "cell_type": "code",
      "metadata": {
        "id": "qYYzOXIsDOhK"
      },
      "source": [
        "adjusted_dates = adjusted_dates.reshape(1, -1)[0]\n",
        "plt.figure(figsize=(15, 10))\n",
        "plt.plot(adjusted_dates, world_cases)\n",
        "plt.plot(adjusted_dates, world_confirmed_avg, linestyle='dashed', color='orange')\n",
        "plt.title('# of Coronavirus Cases Over Time', size=30)\n",
        "plt.xlabel('Days Since 1/22/2020', size=30)\n",
        "plt.ylabel('# of Cases', size=30)\n",
        "plt.legend(['Worldwide Coronavirus Cases', 'Moving Average {} Days'.format(window)], prop={'size': 20})\n",
        "plt.xticks(size=20)\n",
        "plt.yticks(size=20)\n",
        "plt.show()\n",
        "\n",
        "plt.figure(figsize=(15,10))\n",
        "plt.plot(adjusted_dates, total_deaths)\n",
        "plt.plot(adjusted_dates, world_death_avg, linestyle='dashed', color='orange')\n",
        "plt.title('# of Coronavirus Deaths Over Time', size=30)\n",
        "plt.xlabel('Days Since 1/22/2020', size=30)\n",
        "plt.ylabel('# of Cases', size=30)\n",
        "plt.legend(['Worldwide Coronavirus Deaths', 'Moving Average {} Days'.format(window)], prop={'size': 20})\n",
        "plt.xticks(size=20)\n",
        "plt.yticks(size=20)\n",
        "plt.show()"
      ],
      "execution_count": null,
      "outputs": []
    },
    {
      "cell_type": "code",
      "metadata": {
        "id": "D2xEzQBVDQzn"
      },
      "source": [
        "plt.figure(figsize=(16, 10))\n",
        "plt.bar(adjusted_dates, world_daily_increase)\n",
        "plt.plot(adjusted_dates, world_daily_increase_avg, color='orange', linestyle='dashed')\n",
        "plt.title('World Daily Increases in Confirmed Cases', size=30)\n",
        "plt.xlabel('Days Since 1/22/2020', size=30)\n",
        "plt.ylabel('# of Cases', size=30)\n",
        "plt.legend(['Moving Average {} Days'.format(window), 'World Daily Increase in COVID-19 Cases'], prop={'size': 20})\n",
        "plt.xticks(size=20)\n",
        "plt.yticks(size=20)\n",
        "plt.show()\n",
        "\n",
        "plt.figure(figsize=(16, 10))\n",
        "plt.bar(adjusted_dates, world_daily_death)\n",
        "plt.plot(adjusted_dates, world_daily_death_avg, color='orange', linestyle='dashed')\n",
        "plt.title('World Daily Increases in Confirmed Deaths', size=30)\n",
        "plt.xlabel('Days Since 1/22/2020', size=30)\n",
        "plt.ylabel('# of Cases', size=30)\n",
        "plt.legend(['Moving Average {} Days'.format(window), 'World Daily Increase in COVID-19 Deaths'], prop={'size': 20})\n",
        "plt.xticks(size=20)\n",
        "plt.yticks(size=20)\n",
        "plt.show()"
      ],
      "execution_count": null,
      "outputs": []
    },
    {
      "cell_type": "code",
      "metadata": {
        "id": "vr_0tXUjDSTP"
      },
      "source": [
        "plt.figure(figsize=(16, 10))\n",
        "plt.plot(adjusted_dates, np.log10(world_cases))\n",
        "plt.title('Log of # of Coronavirus Cases Over Time', size=30)\n",
        "plt.xlabel('Days Since 1/22/2020', size=30)\n",
        "plt.ylabel('# of Cases', size=30)\n",
        "plt.xticks(size=20)\n",
        "plt.yticks(size=20)\n",
        "plt.show()\n",
        "\n",
        "plt.figure(figsize=(16, 10))\n",
        "plt.plot(adjusted_dates, np.log10(total_deaths))\n",
        "plt.title('Log of # of Coronavirus Deaths Over Time', size=30)\n",
        "plt.xlabel('Days Since 1/22/2020', size=30)\n",
        "plt.ylabel('# of Cases', size=30)\n",
        "plt.xticks(size=20)\n",
        "plt.yticks(size=20)\n",
        "plt.show()"
      ],
      "execution_count": null,
      "outputs": []
    },
    {
      "cell_type": "code",
      "metadata": {
        "id": "IvWlQeEUDUEi"
      },
      "source": [
        "def country_plot(x, y1, y2, y3, country):\n",
        "    confirmed_avg = moving_average(y1, window)\n",
        "    confirmed_increase_avg = moving_average(y2, window)\n",
        "    death_increase_avg = moving_average(y3, window)\n",
        "    \n",
        "    plt.figure(figsize=(16, 10))\n",
        "    plt.plot(x, y1)\n",
        "    plt.plot(x, confirmed_avg, color='red', linestyle='dashed')\n",
        "    plt.legend(['{} Confirmed Cases'.format(country), 'Moving Average {} Days'.format(window)], prop={'size': 20})\n",
        "    plt.title('{} Confirmed Cases'.format(country), size=30)\n",
        "    plt.xlabel('Days Since 1/22/2020', size=30)\n",
        "    plt.ylabel('# of Cases', size=30)\n",
        "    plt.xticks(size=20)\n",
        "    plt.yticks(size=20)\n",
        "    plt.show()\n",
        "\n",
        "    plt.figure(figsize=(16, 10))\n",
        "    plt.bar(x, y2)\n",
        "    plt.plot(x, confirmed_increase_avg, color='red', linestyle='dashed')\n",
        "    plt.legend(['Moving Average {} Days'.format(window), '{} Daily Increase in Confirmed Cases'.format(country)], prop={'size': 20})\n",
        "    plt.title('{} Daily Increases in Confirmed Cases'.format(country), size=30)\n",
        "    plt.xlabel('Days Since 1/22/2020', size=30)\n",
        "    plt.ylabel('# of Cases', size=30)\n",
        "    plt.xticks(size=20)\n",
        "    plt.yticks(size=20)\n",
        "    plt.show()\n",
        "\n",
        "    plt.figure(figsize=(16, 10))\n",
        "    plt.bar(x, y3)\n",
        "    plt.plot(x, death_increase_avg, color='red', linestyle='dashed')\n",
        "    plt.legend(['Moving Average {} Days'.format(window), '{} Daily Increase in Confirmed Deaths'.format(country)], prop={'size': 20})\n",
        "    plt.title('{} Daily Increases in Deaths'.format(country), size=30)\n",
        "    plt.xlabel('Days Since 1/22/2020', size=30)\n",
        "    plt.ylabel('# of Cases', size=30)\n",
        "    plt.xticks(size=20)\n",
        "    plt.yticks(size=20)\n",
        "    plt.show()\n",
        "      \n",
        "# segítő funkció az ország eseteinek, haláleseteinek és felépülésének megszerzéséhez      \n",
        "def get_country_info(country_name):\n",
        "    country_cases = []\n",
        "    country_deaths = []\n",
        "    \n",
        "    for i in dates:\n",
        "        country_cases.append(confirmed_df[confirmed_df['Country/Region']==country_name][i].sum())\n",
        "        country_deaths.append(deaths_df[deaths_df['Country/Region']==country_name][i].sum())\n",
        "    return (country_cases, country_deaths)\n",
        "    \n",
        "    \n",
        "def country_visualizations(country_name):\n",
        "    country_info = get_country_info(country_name)\n",
        "    country_cases = country_info[0]\n",
        "    country_deaths = country_info[1]\n",
        "    \n",
        "    country_daily_increase = daily_increase(country_cases)\n",
        "    country_daily_death = daily_increase(country_deaths)\n",
        "    \n",
        "    country_plot(adjusted_dates, country_cases, country_daily_increase, country_daily_death, country_name)"
      ],
      "execution_count": null,
      "outputs": []
    },
    {
      "cell_type": "markdown",
      "metadata": {
        "id": "A9cnjUOKyZyI"
      },
      "source": [
        "### **A megerősített esetek számának, a halálozásoknak és a halálozási aránynak** "
      ]
    },
    {
      "cell_type": "markdown",
      "metadata": {
        "id": "NIlCviRdya9y"
      },
      "source": [
        "### **Konkrét országokat veszünk szemügyre. Ez lehetővé teszi a járvány helyi szintű vizsgálatát.**"
      ]
    },
    {
      "cell_type": "code",
      "metadata": {
        "id": "nuOSplv1uqd1"
      },
      "source": [
        "countries = ['US', 'Russia', 'India', 'Brazil', 'South Africa', 'China', 'Italy',\n",
        "             'Germany', 'Spain', 'France', 'United Kingdom', 'Peru', 'Mexico', 'Colombia', 'Argentina', 'Saudi Arabia', 'Iran', 'Bangladesh',\n",
        "            'Pakistan', 'Turkey', 'Philippines', 'Iraq', 'Indonesia', 'Israel', 'Ukraine', 'Ecuador', 'Bolivia', 'Netherlands', 'Belgium', 'Poland', 'Czechia', 'Switzerland',\n",
        "            'Romania', 'Morocco','Portugal', 'Austria', 'Sweden'] \n",
        "\n",
        "for country in countries:\n",
        "    country_visualizations(country)"
      ],
      "execution_count": null,
      "outputs": []
    },
    {
      "cell_type": "markdown",
      "metadata": {
        "id": "D7VKHkNNBvQe"
      },
      "source": [
        "### **Ország-összehasonlítás**"
      ]
    },
    {
      "cell_type": "code",
      "metadata": {
        "id": "Ht808qVOB6Mc"
      },
      "source": [
        "compare_countries = ['India', 'US', 'Brazil', 'Russia', 'United Kingdom', 'France'] \n",
        "graph_name = ['Coronavirus Confirmed Cases', 'Coronavirus Confirmed Deaths']\n",
        "\n",
        "for num in range(2):\n",
        "    plt.figure(figsize=(16, 10))\n",
        "    for country in compare_countries:\n",
        "        plt.plot(get_country_info(country)[num])\n",
        "    plt.legend(compare_countries, prop={'size': 20})\n",
        "    plt.xlabel('Days since 1/22/2020', size=30)\n",
        "    plt.ylabel('# of Cases', size=30)\n",
        "    plt.title(graph_name[num], size=30)\n",
        "    plt.xticks(size=20)\n",
        "    plt.yticks(size=20)\n",
        "    plt.show()"
      ],
      "execution_count": null,
      "outputs": []
    },
    {
      "cell_type": "code",
      "metadata": {
        "id": "SDGiLTWOB8F9"
      },
      "source": [
        "def plot_predictions(x, y, pred, algo_name, color):\n",
        "    plt.figure(figsize=(16, 10))\n",
        "    plt.plot(x, y)\n",
        "    plt.plot(future_forcast, pred, linestyle='dashed', color=color)\n",
        "    plt.title('Worldwide Coronavirus Cases Over Time', size=30)\n",
        "    plt.xlabel('Days Since 1/22/2020', size=30)\n",
        "    plt.ylabel('# of Cases', size=30)\n",
        "    plt.legend(['Confirmed Cases', algo_name], prop={'size': 20})\n",
        "    plt.xticks(size=20)\n",
        "    plt.yticks(size=20)\n",
        "    plt.show()"
      ],
      "execution_count": null,
      "outputs": []
    },
    {
      "cell_type": "markdown",
      "metadata": {
        "id": "mvP6y277NeMa"
      },
      "source": [
        "### **Előrejelzések a megerősített koronavírusos esetekről világszerte**\n",
        "\n",
        "**Modellek:**\n",
        "\n",
        "    Support Vector Machine\n",
        "    Polynomial Regression\n",
        "    Bayesian Ridge Regression"
      ]
    },
    {
      "cell_type": "code",
      "metadata": {
        "id": "bI3LINQdNffa"
      },
      "source": [
        "plot_predictions(adjusted_dates, world_cases, svm_pred, 'SVM Predictions', 'purple')"
      ],
      "execution_count": null,
      "outputs": []
    },
    {
      "cell_type": "code",
      "metadata": {
        "id": "G6D9BSCYOwYy"
      },
      "source": [
        "# Jövőbeli előrejelzések SVM használatával\n",
        "svm_df = pd.DataFrame({'Date': future_forcast_dates[-10:], 'SVM Predicted # of Confirmed Cases Worldwide': np.round(svm_pred[-10:])})\n",
        "svm_df.style.background_gradient(cmap='Reds')"
      ],
      "execution_count": null,
      "outputs": []
    },
    {
      "cell_type": "code",
      "metadata": {
        "id": "nVUwk5wDDnIB"
      },
      "source": [
        "plot_predictions(adjusted_dates, world_cases, linear_pred, 'Polynomial Regression Predictions', 'orange')"
      ],
      "execution_count": null,
      "outputs": []
    },
    {
      "cell_type": "code",
      "metadata": {
        "id": "6UexIsOcDrlj"
      },
      "source": [
        "# Jövőbeli előrejelzések polinomiális regresszióval\n",
        "linear_pred = linear_pred.reshape(1,-1)[0]\n",
        "linear_df = pd.DataFrame({'Date': future_forcast_dates[-10:], 'Polynomial Predicted # of Confirmed Cases Worldwide': np.round(linear_pred[-10:])})\n",
        "linear_df.style.background_gradient(cmap='Reds')"
      ],
      "execution_count": null,
      "outputs": []
    },
    {
      "cell_type": "code",
      "metadata": {
        "id": "mfJxtfyKpSz-"
      },
      "source": [
        "# Jövőbeli előrejelzések a Bayesian Ridge használatával\n",
        "bayesian_df = pd.DataFrame({'Date': future_forcast_dates[-10:], 'Bayesian Ridge Predicted # of Confirmed Cases Worldwide': np.round(bayesian_pred[-10:])})\n",
        "bayesian_df.style.background_gradient(cmap='Reds')"
      ],
      "execution_count": null,
      "outputs": []
    },
    {
      "cell_type": "markdown",
      "metadata": {
        "id": "3sHnfU5jy60E"
      },
      "source": [
        "> ### A halálozási ráta (világszerte) hajlamos a változásra ###\n",
        "\n"
      ]
    },
    {
      "cell_type": "code",
      "metadata": {
        "id": "htT92oXgDugr"
      },
      "source": [
        "mean_mortality_rate = np.mean(mortality_rate)\n",
        "plt.figure(figsize=(16, 10))\n",
        "plt.plot(adjusted_dates, mortality_rate, color='orange')\n",
        "plt.axhline(y = mean_mortality_rate,linestyle='--', color='black')\n",
        "plt.title('Worldwide Mortality Rate of Coronavirus Over Time', size=30)\n",
        "plt.xlabel('Days Since 1/22/2020', size=30)\n",
        "plt.ylabel('Case Mortality Rate', size=30)\n",
        "plt.xticks(size=20)\n",
        "plt.yticks(size=20)\n",
        "plt.show()"
      ],
      "execution_count": null,
      "outputs": []
    },
    {
      "cell_type": "markdown",
      "metadata": {
        "id": "JUxQcJtqcnuE"
      },
      "source": [
        "### **Információszerzés azokról az országokról/régiókról, amelyekben megerősítették a koronavírus-fertőzést**"
      ]
    },
    {
      "cell_type": "code",
      "metadata": {
        "id": "kAVBV0Dzcp6s"
      },
      "source": [
        "latest_data"
      ],
      "execution_count": null,
      "outputs": []
    },
    {
      "cell_type": "code",
      "metadata": {
        "id": "1UT3jBf1cs_H"
      },
      "source": [
        "unique_countries =  list(latest_data['Country_Region'].unique())"
      ],
      "execution_count": null,
      "outputs": []
    },
    {
      "cell_type": "code",
      "metadata": {
        "id": "EKHw1tSrcu8c"
      },
      "source": [
        "country_confirmed_cases = []\n",
        "country_death_cases = [] \n",
        "country_active_cases = []\n",
        "# country_recovery_cases = []\n",
        "country_incidence_rate = [] \n",
        "country_mortality_rate = [] \n",
        "\n",
        "no_cases = []\n",
        "for i in unique_countries:\n",
        "    cases = latest_data[latest_data['Country_Region']==i]['Confirmed'].sum()\n",
        "    if cases > 0:\n",
        "        country_confirmed_cases.append(cases)\n",
        "    else:\n",
        "        no_cases.append(i)\n",
        "        \n",
        "for i in no_cases:\n",
        "    unique_countries.remove(i)\n",
        "    \n",
        "# sort countries by the number of confirmed cases\n",
        "unique_countries = [k for k, v in sorted(zip(unique_countries, country_confirmed_cases), key=operator.itemgetter(1), reverse=True)]\n",
        "for i in range(len(unique_countries)):\n",
        "    country_confirmed_cases[i] = latest_data[latest_data['Country_Region']==unique_countries[i]]['Confirmed'].sum()\n",
        "    country_death_cases.append(latest_data[latest_data['Country_Region']==unique_countries[i]]['Deaths'].sum())\n",
        "#     country_recovery_cases.append(latest_data[latest_data['Country_Region']==unique_countries[i]]['Recovered'].sum())\n",
        "#     country_active_cases.append(latest_data[latest_data['Country_Region']==unique_countries[i]]['Active'].sum())\n",
        "    country_incidence_rate.append(latest_data[latest_data['Country_Region']==unique_countries[i]]['Incident_Rate'].sum())\n",
        "    country_mortality_rate.append(country_death_cases[i]/country_confirmed_cases[i])"
      ],
      "execution_count": null,
      "outputs": []
    },
    {
      "cell_type": "markdown",
      "metadata": {
        "id": "5xYJLQxHEFH0"
      },
      "source": [
        "### **Data table**\n"
      ]
    },
    {
      "cell_type": "markdown",
      "metadata": {
        "id": "tIOpNqHtk0th"
      },
      "source": [
        "###**Ez több ország covid adatait mutatja. A táblázat tartalmazza a megerősített esetek számát, a halálozást, az előfordulási arányt és a halálozási arányt.**\n",
        "\n"
      ]
    },
    {
      "cell_type": "code",
      "metadata": {
        "id": "i6EEG6-eEQCj"
      },
      "source": [
        "country_df = pd.DataFrame({'Country Name': unique_countries, 'Number of Confirmed Cases': [format(int(i), ',d') for i in country_confirmed_cases],\n",
        "                          'Number of Deaths': [format(int(i), ',d') for i in country_death_cases], \n",
        "                          'Incidence Rate' : country_incidence_rate,\n",
        "                          'Mortality Rate': country_mortality_rate})\n",
        "# number of cases per country/region\n",
        "\n",
        "country_df.style.background_gradient(cmap='Oranges')"
      ],
      "execution_count": null,
      "outputs": []
    },
    {
      "cell_type": "code",
      "metadata": {
        "id": "gzzBV7NKERnK"
      },
      "source": [
        "unique_provinces =  list(latest_data['Province_State'].unique())"
      ],
      "execution_count": null,
      "outputs": []
    },
    {
      "cell_type": "markdown",
      "metadata": {
        "id": "8UxYb1vMSS0d"
      },
      "source": [
        "### **A legfrissebb információk megszerzése azokról a tartományokról/államokról, amelyekben megerősítették a koronavírus-fertőzést**"
      ]
    },
    {
      "cell_type": "code",
      "metadata": {
        "id": "zRrtjUo3STp0"
      },
      "source": [
        "province_confirmed_cases = []\n",
        "province_country = [] \n",
        "province_death_cases = [] \n",
        "# province_recovery_cases = []\n",
        "# province_active = [] \n",
        "province_incidence_rate = []\n",
        "province_mortality_rate = [] \n",
        "\n",
        "no_cases = [] \n",
        "for i in unique_provinces:\n",
        "    cases = latest_data[latest_data['Province_State']==i]['Confirmed'].sum()\n",
        "    if cases > 0:\n",
        "        province_confirmed_cases.append(cases)\n",
        "    else:\n",
        "        no_cases.append(i)\n",
        " \n",
        "# remove areas with no confirmed cases\n",
        "for i in no_cases:\n",
        "    unique_provinces.remove(i)\n",
        "    \n",
        "unique_provinces = [k for k, v in sorted(zip(unique_provinces, province_confirmed_cases), key=operator.itemgetter(1), reverse=True)]\n",
        "for i in range(len(unique_provinces)):\n",
        "    province_confirmed_cases[i] = latest_data[latest_data['Province_State']==unique_provinces[i]]['Confirmed'].sum()\n",
        "    province_country.append(latest_data[latest_data['Province_State']==unique_provinces[i]]['Country_Region'].unique()[0])\n",
        "    province_death_cases.append(latest_data[latest_data['Province_State']==unique_provinces[i]]['Deaths'].sum())\n",
        "#     province_recovery_cases.append(latest_data[latest_data['Province_State']==unique_provinces[i]]['Recovered'].sum())\n",
        "#     province_active.append(latest_data[latest_data['Province_State']==unique_provinces[i]]['Active'].sum())\n",
        "    province_incidence_rate.append(latest_data[latest_data['Province_State']==unique_provinces[i]]['Incident_Rate'].sum())\n",
        "    province_mortality_rate.append(province_death_cases[i]/province_confirmed_cases[i])"
      ],
      "execution_count": null,
      "outputs": []
    },
    {
      "cell_type": "code",
      "metadata": {
        "id": "ozkOgZXJSX1V"
      },
      "source": [
        "# number of cases per province/state/city top 100 \n",
        "province_limit = 100 \n",
        "province_df = pd.DataFrame({'Province/State Name': unique_provinces[:province_limit], 'Country': province_country[:province_limit], 'Number of Confirmed Cases': [format(int(i), ',d') for i in province_confirmed_cases[:province_limit]],\n",
        "                          'Number of Deaths': [format(int(i), ',d') for i in province_death_cases[:province_limit]], \n",
        "                        'Incidence Rate' : province_incidence_rate[:province_limit], 'Mortality Rate': province_mortality_rate[:province_limit]})\n",
        "# number of cases per country/region\n",
        "\n",
        "province_df.style.background_gradient(cmap='Oranges')"
      ],
      "execution_count": null,
      "outputs": []
    },
    {
      "cell_type": "code",
      "metadata": {
        "id": "uXXs2gH8EanK"
      },
      "source": [
        "# return the data table with province/state info for a given country\n",
        "def country_table(country_name):\n",
        "    states = list(latest_data[latest_data['Country_Region']==country_name]['Province_State'].unique())\n",
        "    state_confirmed_cases = []\n",
        "    state_death_cases = [] \n",
        "    # state_recovery_cases = []\n",
        "#     state_active = [] \n",
        "    state_incidence_rate = [] \n",
        "    state_mortality_rate = [] \n",
        "\n",
        "    no_cases = [] \n",
        "    for i in states:\n",
        "        cases = latest_data[latest_data['Province_State']==i]['Confirmed'].sum()\n",
        "        if cases > 0:\n",
        "            state_confirmed_cases.append(cases)\n",
        "        else:\n",
        "            no_cases.append(i)\n",
        "\n",
        "    # remove areas with no confirmed cases\n",
        "    for i in no_cases:\n",
        "        states.remove(i)\n",
        "\n",
        "    states = [k for k, v in sorted(zip(states, state_confirmed_cases), key=operator.itemgetter(1), reverse=True)]\n",
        "    for i in range(len(states)):\n",
        "        state_confirmed_cases[i] = latest_data[latest_data['Province_State']==states[i]]['Confirmed'].sum()\n",
        "        state_death_cases.append(latest_data[latest_data['Province_State']==states[i]]['Deaths'].sum())\n",
        "    #     state_recovery_cases.append(latest_data[latest_data['Province_State']==states[i]]['Recovered'].sum())\n",
        "#         state_active.append(latest_data[latest_data['Province_State']==states[i]]['Active'].sum())\n",
        "        state_incidence_rate.append(latest_data[latest_data['Province_State']==states[i]]['Incident_Rate'].sum())\n",
        "        state_mortality_rate.append(state_death_cases[i]/state_confirmed_cases[i])\n",
        "        \n",
        "      \n",
        "    state_df = pd.DataFrame({'State Name': states, 'Number of Confirmed Cases': [format(int(i), ',d') for i in state_confirmed_cases],\n",
        "                              'Number of Deaths': [format(int(i), ',d') for i in state_death_cases], \n",
        "                             'Incidence Rate' : state_incidence_rate, 'Mortality Rate': state_mortality_rate})\n",
        "    # number of cases per country/region\n",
        "    return state_df"
      ],
      "execution_count": null,
      "outputs": []
    },
    {
      "cell_type": "markdown",
      "metadata": {
        "id": "4Do0aHFRElFN"
      },
      "source": [
        "### **Data table for India**"
      ]
    },
    {
      "cell_type": "code",
      "metadata": {
        "id": "k67kg7PJv04a"
      },
      "source": [
        "india_table = country_table('India')\n",
        "india_table.style.background_gradient(cmap='Oranges')"
      ],
      "execution_count": null,
      "outputs": []
    },
    {
      "cell_type": "markdown",
      "metadata": {
        "id": "SCWrfErezfwc"
      },
      "source": [
        "### **Data table for the United States**"
      ]
    },
    {
      "cell_type": "code",
      "metadata": {
        "id": "0wnlwF5Kv0v6"
      },
      "source": [
        "us_table = country_table('US')\n",
        "us_table.style.background_gradient(cmap='Oranges')"
      ],
      "execution_count": null,
      "outputs": []
    },
    {
      "cell_type": "markdown",
      "metadata": {
        "id": "l1kJD-JnzgrF"
      },
      "source": [
        "### **Data table for Brazil**"
      ]
    },
    {
      "cell_type": "code",
      "metadata": {
        "id": "fxlEs5wyv5km"
      },
      "source": [
        "brazil_table = country_table('Brazil')\n",
        "brazil_table.style.background_gradient(cmap='Oranges')"
      ],
      "execution_count": null,
      "outputs": []
    },
    {
      "cell_type": "markdown",
      "metadata": {
        "id": "jBnp9O3dzkXq"
      },
      "source": [
        "### **Data table for Russia**"
      ]
    },
    {
      "cell_type": "code",
      "metadata": {
        "id": "ezfC9oOjv6Dy"
      },
      "source": [
        "russia_table = country_table('Russia')\n",
        "russia_table.style.background_gradient(cmap='Oranges')"
      ],
      "execution_count": null,
      "outputs": []
    },
    {
      "cell_type": "markdown",
      "metadata": {
        "id": "t_XjsMN9zndv"
      },
      "source": [
        "### **Data table for United Kingdom**"
      ]
    },
    {
      "cell_type": "code",
      "metadata": {
        "id": "D5FU04Liv9If"
      },
      "source": [
        "uk_table = country_table('United Kingdom')\n",
        "uk_table.style.background_gradient(cmap='Oranges')"
      ],
      "execution_count": null,
      "outputs": []
    },
    {
      "cell_type": "markdown",
      "metadata": {
        "id": "0l5mcUujzoNa"
      },
      "source": [
        "### **Data table for France**"
      ]
    },
    {
      "cell_type": "code",
      "metadata": {
        "id": "PIz8uvsav9nc"
      },
      "source": [
        "france_table = country_table('France')\n",
        "france_table.style.background_gradient(cmap='Oranges')"
      ],
      "execution_count": null,
      "outputs": []
    },
    {
      "cell_type": "markdown",
      "metadata": {
        "id": "lrSG9ah9zrMQ"
      },
      "source": [
        "### **Data table for Italy**"
      ]
    },
    {
      "cell_type": "code",
      "metadata": {
        "id": "gFdcxEK_v_nx"
      },
      "source": [
        "italy_table = country_table('Italy')\n",
        "italy_table.style.background_gradient(cmap='Oranges')"
      ],
      "execution_count": null,
      "outputs": []
    },
    {
      "cell_type": "markdown",
      "metadata": {
        "id": "jU-DBrvizyHA"
      },
      "source": [
        "### **Data table for Spain**"
      ]
    },
    {
      "cell_type": "code",
      "metadata": {
        "id": "i7pL1Q6NwA-9"
      },
      "source": [
        "spain_table = country_table('Spain')\n",
        "spain_table.style.background_gradient(cmap='Oranges')"
      ],
      "execution_count": null,
      "outputs": []
    },
    {
      "cell_type": "markdown",
      "metadata": {
        "id": "XmI0bWCJzztO"
      },
      "source": [
        "### **Data table for Germany**"
      ]
    },
    {
      "cell_type": "code",
      "metadata": {
        "id": "rIWzuco4wEGv"
      },
      "source": [
        "germany_table = country_table('Germany')\n",
        "germany_table.style.background_gradient(cmap='Oranges')"
      ],
      "execution_count": null,
      "outputs": []
    },
    {
      "cell_type": "markdown",
      "metadata": {
        "id": "e-W7LMlPz1CI"
      },
      "source": [
        "### **Data table for the Netherlands**"
      ]
    },
    {
      "cell_type": "code",
      "metadata": {
        "id": "CtteJPqPwEn_"
      },
      "source": [
        "netherlands_table = country_table('Netherlands')\n",
        "netherlands_table.style.background_gradient(cmap='Oranges')"
      ],
      "execution_count": null,
      "outputs": []
    },
    {
      "cell_type": "markdown",
      "metadata": {
        "id": "arRgjsxPz3FX"
      },
      "source": [
        "### **Data table for China**"
      ]
    },
    {
      "cell_type": "code",
      "metadata": {
        "id": "RfHYYKyNwF4A"
      },
      "source": [
        "china_table = country_table('China')\n",
        "china_table.style.background_gradient(cmap='Oranges')"
      ],
      "execution_count": null,
      "outputs": []
    },
    {
      "cell_type": "markdown",
      "metadata": {
        "id": "mrWxkhgoz45F"
      },
      "source": [
        "### **Data table for Colombia**"
      ]
    },
    {
      "cell_type": "code",
      "metadata": {
        "id": "zWIrmSpCwHMY"
      },
      "source": [
        "colombia_table = country_table('Colombia')\n",
        "colombia_table.style.background_gradient(cmap='Oranges')"
      ],
      "execution_count": null,
      "outputs": []
    },
    {
      "cell_type": "markdown",
      "metadata": {
        "id": "DVJdMosWz6r1"
      },
      "source": [
        "### **Data table for Mexico**"
      ]
    },
    {
      "cell_type": "code",
      "metadata": {
        "id": "3HooZkPrwIxl"
      },
      "source": [
        "mexico_table = country_table('Mexico')\n",
        "mexico_table.style.background_gradient(cmap='Oranges')"
      ],
      "execution_count": null,
      "outputs": []
    },
    {
      "cell_type": "markdown",
      "metadata": {
        "id": "MUb_UrGfz8zW"
      },
      "source": [
        "### **Bar Chart Visualizations for COVID-19**"
      ]
    },
    {
      "cell_type": "markdown",
      "metadata": {
        "id": "Z25Z-8CFz9M8"
      },
      "source": [
        "### **This offers us some insights for how different countries/regions compare in terms of covid cases.**"
      ]
    },
    {
      "cell_type": "code",
      "metadata": {
        "id": "lSouz3WYwKRu"
      },
      "source": [
        "total_world_cases = np.sum(country_confirmed_cases)\n",
        "us_confirmed = latest_data[latest_data['Country_Region']=='US']['Confirmed'].sum()\n",
        "outside_us_confirmed = total_world_cases - us_confirmed\n",
        "\n",
        "plt.figure(figsize=(16, 9))\n",
        "plt.barh('United States', us_confirmed)\n",
        "plt.barh('Outside United States', outside_us_confirmed)\n",
        "plt.title('# of Total Coronavirus Confirmed Cases', size=20)\n",
        "plt.xticks(size=20)\n",
        "plt.yticks(size=20)\n",
        "plt.show()\n",
        "\n",
        "\n",
        "plt.figure(figsize=(16, 9))\n",
        "plt.barh('United States', us_confirmed/total_world_cases)\n",
        "plt.barh('Outside United States', outside_us_confirmed/total_world_cases)\n",
        "plt.title('# of Coronavirus Confirmed Cases Expressed in Percentage', size=20)\n",
        "plt.xticks(size=20)\n",
        "plt.yticks(size=20)\n",
        "plt.show()"
      ],
      "execution_count": null,
      "outputs": []
    },
    {
      "cell_type": "code",
      "metadata": {
        "id": "CqeJM8LxwMkt"
      },
      "source": [
        "print('Outside United States {} cases ({}%):'.format(outside_us_confirmed, np.round((outside_us_confirmed/total_world_cases)*100, 1)))\n",
        "print('United States {} cases ({}%)'.format(us_confirmed, np.round((us_confirmed/total_world_cases)*100, 1)))\n",
        "print('Total: {} cases'.format(total_world_cases))"
      ],
      "execution_count": null,
      "outputs": []
    },
    {
      "cell_type": "code",
      "metadata": {
        "id": "JTD1GTj8wO3e"
      },
      "source": [
        "# Only show 10 countries with the most confirmed cases, the rest are grouped into the other category\n",
        "visual_unique_countries = [] \n",
        "visual_confirmed_cases = []\n",
        "others = np.sum(country_confirmed_cases[10:])\n",
        "\n",
        "for i in range(len(country_confirmed_cases[:10])):\n",
        "    visual_unique_countries.append(unique_countries[i])\n",
        "    visual_confirmed_cases.append(country_confirmed_cases[i])\n",
        "    \n",
        "visual_unique_countries.append('Others')\n",
        "visual_confirmed_cases.append(others)"
      ],
      "execution_count": null,
      "outputs": []
    },
    {
      "cell_type": "code",
      "metadata": {
        "id": "4eZ7PiEYwPTb"
      },
      "source": [
        "def plot_bar_graphs(x, y, title):\n",
        "    plt.figure(figsize=(16, 12))\n",
        "    plt.barh(x, y)\n",
        "    plt.title(title, size=20)\n",
        "    plt.xticks(size=20)\n",
        "    plt.yticks(size=20)\n",
        "    plt.show()\n",
        "    \n",
        "# good for a lot x values \n",
        "def plot_bar_graphs_tall(x, y, title):\n",
        "    plt.figure(figsize=(19, 18))\n",
        "    plt.barh(x, y)\n",
        "    plt.title(title, size=25)\n",
        "    plt.xticks(size=25)\n",
        "    plt.yticks(size=25)\n",
        "    plt.show()"
      ],
      "execution_count": null,
      "outputs": []
    },
    {
      "cell_type": "code",
      "metadata": {
        "id": "9-lpwgtvwRBL"
      },
      "source": [
        "plot_bar_graphs(visual_unique_countries, visual_confirmed_cases, '# of Covid-19 Confirmed Cases in Countries/Regions')"
      ],
      "execution_count": null,
      "outputs": []
    },
    {
      "cell_type": "code",
      "metadata": {
        "id": "GvwisOSewSoP"
      },
      "source": [
        "log_country_confirmed_cases = [math.log10(i) for i in visual_confirmed_cases]\n",
        "plot_bar_graphs(visual_unique_countries, log_country_confirmed_cases, 'Common Log # of Coronavirus Confirmed Cases in Countries/Regions')"
      ],
      "execution_count": null,
      "outputs": []
    },
    {
      "cell_type": "code",
      "metadata": {
        "id": "XWeHgiSOwULu"
      },
      "source": [
        "# Only show 10 provinces with the most confirmed cases, the rest are grouped into the other category\n",
        "visual_unique_provinces = [] \n",
        "visual_confirmed_cases2 = []\n",
        "others = np.sum(province_confirmed_cases[10:])\n",
        "for i in range(len(province_confirmed_cases[:10])):\n",
        "    visual_unique_provinces.append(unique_provinces[i])\n",
        "    visual_confirmed_cases2.append(province_confirmed_cases[i])\n",
        "\n",
        "visual_unique_provinces.append('Others')\n",
        "visual_confirmed_cases2.append(others)"
      ],
      "execution_count": null,
      "outputs": []
    },
    {
      "cell_type": "code",
      "metadata": {
        "id": "HqCsr1hLwVmC"
      },
      "source": [
        "plot_bar_graphs(visual_unique_provinces, visual_confirmed_cases2, '# of Coronavirus Confirmed Cases in Provinces/States')"
      ],
      "execution_count": null,
      "outputs": []
    },
    {
      "cell_type": "code",
      "metadata": {
        "id": "DG_SwaSPwbhC"
      },
      "source": [
        "log_province_confirmed_cases = [math.log10(i) for i in visual_confirmed_cases2]\n",
        "plot_bar_graphs(visual_unique_provinces, log_province_confirmed_cases, 'Log of # of Coronavirus Confirmed Cases in Provinces/States')"
      ],
      "execution_count": null,
      "outputs": []
    },
    {
      "cell_type": "code",
      "metadata": {
        "id": "VqqBMJvIwbTN"
      },
      "source": [
        "def plot_pie_charts(x, y, title):\n",
        "    # more muted color \n",
        "    c = ['lightcoral', 'rosybrown', 'sandybrown', 'navajowhite', 'gold',\n",
        "        'khaki', 'lightskyblue', 'turquoise', 'lightslategrey', 'thistle', 'pink']\n",
        "    plt.figure(figsize=(20,15))\n",
        "    plt.title(title, size=20)\n",
        "    plt.pie(y, colors=c,shadow=True)\n",
        "    plt.legend(x, loc='best', fontsize=12)\n",
        "    plt.show()"
      ],
      "execution_count": null,
      "outputs": []
    },
    {
      "cell_type": "code",
      "metadata": {
        "id": "fztTUt0uwe9u"
      },
      "source": [
        "plot_pie_charts(visual_unique_provinces, visual_confirmed_cases2, 'Covid-19 Confirmed Cases per State/Province/Region')"
      ],
      "execution_count": null,
      "outputs": []
    },
    {
      "cell_type": "code",
      "metadata": {
        "id": "WIbSYcPFwe3C"
      },
      "source": [
        "# Plotting countries with regional data using a pie chart \n",
        "\n",
        "def plot_pie_country_with_regions(country_name, title):\n",
        "    regions = list(latest_data[latest_data['Country_Region']==country_name]['Province_State'].unique())\n",
        "    confirmed_cases = []\n",
        "    no_cases = [] \n",
        "    for i in regions:\n",
        "        cases = latest_data[latest_data['Province_State']==i]['Confirmed'].sum()\n",
        "        if cases > 0:\n",
        "            confirmed_cases.append(cases)\n",
        "        else:\n",
        "            no_cases.append(i)\n",
        "\n",
        "    # remove areas with no confirmed cases\n",
        "    for i in no_cases:\n",
        "        regions.remove(i)\n",
        "\n",
        "    # only show the top 5 states\n",
        "    regions = [k for k, v in sorted(zip(regions, confirmed_cases), key=operator.itemgetter(1), reverse=True)]\n",
        "\n",
        "    for i in range(len(regions)):\n",
        "        confirmed_cases[i] = latest_data[latest_data['Province_State']==regions[i]]['Confirmed'].sum()  \n",
        "    \n",
        "    # additional province/state will be considered \"others\"\n",
        "    \n",
        "    if(len(regions)>5):\n",
        "        regions_5 = regions[:5]\n",
        "        regions_5.append('Others')\n",
        "        confirmed_cases_5 = confirmed_cases[:5]\n",
        "        confirmed_cases_5.append(np.sum(confirmed_cases[5:]))\n",
        "        plot_pie_charts(regions_5,confirmed_cases_5, title)\n",
        "    else:\n",
        "        plot_pie_charts(regions,confirmed_cases, title)"
      ],
      "execution_count": null,
      "outputs": []
    },
    {
      "cell_type": "code",
      "metadata": {
        "id": "bePoo_fkwesI"
      },
      "source": [
        "pie_chart_countries = ['US', 'Brazil', 'Russia', 'India', 'United Kingdom', 'Italy', 'Germany', 'France', 'Spain', 'Peru', 'Mexico', 'Canada', \n",
        "                       'Australia', 'China', 'Chile', 'Colombia', 'Netherlands']\n",
        "\n",
        "for i in pie_chart_countries:\n",
        "    plot_pie_country_with_regions(i, 'Covid-19 Confirmed Cases in {}'.format(i))"
      ],
      "execution_count": null,
      "outputs": []
    },
    {
      "cell_type": "code",
      "metadata": {
        "id": "1PyT-h6Aweh5"
      },
      "source": [
        "# Replace nan with 0\n",
        "us_medical_data.fillna(value=0, inplace=True)\n",
        "\n",
        "def plot_us_medical_data():\n",
        "    states = us_medical_data['Province_State'].unique()\n",
        "    testing_number = []\n",
        "    testing_rate = []\n",
        "    \n",
        "    for i in states:\n",
        "        testing_number.append(us_medical_data[us_medical_data['Province_State']==i]['Total_Test_Results'].sum())\n",
        "        testing_rate.append(us_medical_data[us_medical_data['Province_State']==i]['Testing_Rate'].max())\n",
        "    \n",
        "    # only show the top 15 states\n",
        "    testing_states = [k for k, v in sorted(zip(states, testing_number), key=operator.itemgetter(1), reverse=True)]\n",
        "    testing_rate_states = [k for k, v in sorted(zip(states, testing_rate), key=operator.itemgetter(1), reverse=True)]\n",
        "  \n",
        "    for i in range(len(states)):\n",
        "        testing_number[i] = us_medical_data[us_medical_data['Province_State']==testing_states[i]]['Total_Test_Results'].sum()\n",
        "        testing_rate[i] = us_medical_data[us_medical_data['Province_State']==testing_rate_states[i]]['Testing_Rate'].sum()\n",
        "    \n",
        "    top_limit = 30 \n",
        "    \n",
        "    plot_bar_graphs_tall(testing_states[:top_limit], testing_number[:top_limit], 'Total Testing per State (Top 30)')\n",
        "    plot_bar_graphs_tall(testing_rate_states[:top_limit], testing_rate[:top_limit], 'Testing Rate per 100,000 People (Top 30)')\n",
        " \n",
        "\n",
        "plot_us_medical_data()"
      ],
      "execution_count": null,
      "outputs": []
    }
  ]
}